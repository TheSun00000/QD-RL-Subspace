{
 "cells": [
  {
   "cell_type": "code",
   "execution_count": 1,
   "metadata": {},
   "outputs": [],
   "source": [
    "import gym\n",
    "import torch\n",
    "import torch.nn as nn\n",
    "import torch.optim as optim\n",
    "import numpy as np\n",
    "\n",
    "from tqdm import tqdm\n",
    "from IPython.display import clear_output\n",
    "import matplotlib.pyplot as plt\n",
    "\n",
    "from utils.network import Sequential\n",
    "import random\n",
    "\n",
    "from gym.vector import SyncVectorEnv\n"
   ]
  },
  {
   "cell_type": "code",
   "execution_count": 2,
   "metadata": {},
   "outputs": [
    {
     "data": {
      "text/plain": [
       "'cuda'"
      ]
     },
     "execution_count": 2,
     "metadata": {},
     "output_type": "execute_result"
    }
   ],
   "source": [
    "import torch\n",
    "import torch.nn as nn\n",
    "import torch.nn.functional as F\n",
    "from torch.distributions import Categorical, Normal\n",
    "\n",
    "device = 'cuda' if torch.cuda.is_available() else 'cpu'\n",
    "# device = 'cpu'\n",
    "device"
   ]
  },
  {
   "cell_type": "code",
   "execution_count": 3,
   "metadata": {},
   "outputs": [],
   "source": [
    "# Hyperparameters\n",
    "max_timesteps = 3000\n",
    "n_epochs = 10\n",
    "learning_rate = 0.0003\n",
    "gamma = 0.99\n",
    "eps_clip = 0.2\n",
    "K_epochs = 4\n",
    "action_std = 0.5\n",
    "batch_size = 64\n",
    "update_timestep = 2000\n",
    "\n",
    "beta = 0.0\n",
    "\n",
    "BEHAVIOR_DIM = 5"
   ]
  },
  {
   "cell_type": "code",
   "execution_count": 4,
   "metadata": {},
   "outputs": [],
   "source": [
    "def compute_gae(done, rewards, values, next_values, gamma=0.99, lambda_=0.95):\n",
    "    assert len(values) == len(next_values) == len(rewards) == len(done)\n",
    "\n",
    "    advantages = torch.zeros(done.shape[0], dtype=torch.float32)\n",
    "    returns = torch.zeros(done.shape[0], dtype=torch.float32)\n",
    "    last_advantage = 0\n",
    "    last_return = 0\n",
    "\n",
    "    for t in reversed(range(done.shape[0])):\n",
    "        mask = 1.0 - done[t]\n",
    "        last_value = next_values[t] * mask\n",
    "        last_advantage = last_advantage * mask\n",
    "        last_return = last_return * mask\n",
    "\n",
    "        delta = rewards[t] + gamma * last_value - values[t]\n",
    "        last_advantage = delta + gamma * lambda_ * last_advantage\n",
    "        last_return = rewards[t] + gamma * last_return\n",
    "\n",
    "        advantages[t] = last_advantage\n",
    "        returns[t] = last_return\n",
    "\n",
    "    return advantages, returns"
   ]
  },
  {
   "cell_type": "code",
   "execution_count": 5,
   "metadata": {},
   "outputs": [],
   "source": [
    "class ConditionedActorCriticContinuous(nn.Module):\n",
    "    def __init__(self, descriptor_dim, state_dim, action_dim, actor_hidden_layers, critic_hidden_layers, action_std):\n",
    "        super(ConditionedActorCriticContinuous, self).__init__()\n",
    "        \n",
    "        # Define actor network\n",
    "        actor_layers = []\n",
    "        input_dim = state_dim\n",
    "        for hidden_dim in actor_hidden_layers:\n",
    "            actor_layers.append(nn.Linear(input_dim, hidden_dim))\n",
    "            actor_layers.append(nn.ReLU())\n",
    "            input_dim = hidden_dim\n",
    "        actor_layers.append(nn.Linear(input_dim, action_dim))\n",
    "        # actor_layers.append(nn.Tanh())\n",
    "        self.actor = nn.Sequential(*actor_layers)\n",
    "        \n",
    "        # Define critic network\n",
    "        critic_layers = []\n",
    "        input_dim = state_dim\n",
    "        for hidden_dim in critic_hidden_layers:\n",
    "            critic_layers.append(nn.Linear(input_dim, hidden_dim))\n",
    "            critic_layers.append(nn.ReLU())\n",
    "            input_dim = hidden_dim\n",
    "        critic_layers.append(nn.Linear(input_dim, 1))\n",
    "        self.critic = nn.Sequential(*critic_layers)\n",
    "        \n",
    "        self.action_var = nn.Parameter(torch.full((action_dim,), action_std**2, requires_grad=True))\n",
    "\n",
    "\n",
    "    def forward(self, x, action=None):\n",
    "        # print(f\"{alpha.shape=}\")\n",
    "\n",
    "        action_mean = self.actor(x)\n",
    "        cov_matrix = torch.exp(self.action_var)\n",
    "        dist = Normal(loc=action_mean, scale=cov_matrix)\n",
    "        \n",
    "        if action is None:\n",
    "            action = dist.sample()\n",
    "            \n",
    "        log_p = dist.log_prob(action).sum(dim=-1)\n",
    "        \n",
    "        value = self.critic(x)\n",
    "                \n",
    "        return action, action_mean, log_p, value, dist.entropy()"
   ]
  },
  {
   "cell_type": "code",
   "execution_count": 6,
   "metadata": {},
   "outputs": [],
   "source": [
    "def get_descriptor(info):\n",
    "    d1 = np.mean([d1 for (d1, d2) in info])\n",
    "    d2 = np.mean([d2 for (d1, d2) in info])\n",
    "    return d1, d2\n",
    "    # return np.mean(info['bfoot_touch_ground']), np.mean(info['ffoot_touch_ground'])\n",
    "    \n",
    "    \n",
    "def get_descriptors_from_trajectories(data):\n",
    "    \n",
    "    num_envs = data['info'].shape[0]\n",
    "    \n",
    "    descriptors = []\n",
    "    for n in range(num_envs):\n",
    "        env_n_descriptors = []\n",
    "        trajectory_info = []\n",
    "        for i in range(len(data['info'][n])):\n",
    "            # print(i)\n",
    "            trajectory_info.append(data['info'][n][i])\n",
    "            \n",
    "            if data['done'][n][i] == True:\n",
    "                d1, d2 = get_descriptor(trajectory_info)\n",
    "                # d1, d2 = round(d1*BEHAVIOR_DIM), round(d2*BEHAVIOR_DIM)\n",
    "                descriptors.append((d1, d2))\n",
    "        \n",
    "        # descriptors.append(env_n_descriptors)\n",
    "        \n",
    "    return descriptors\n",
    "\n",
    "\n",
    "\n",
    "\n",
    "def descriptors_to_vectors(descriptors):\n",
    "    vectors = []\n",
    "    for (d1, d2) in descriptors:\n",
    "        vector = [0]*(BEHAVIOR_DIM**2)\n",
    "        vector[d1*BEHAVIOR_DIM+d2] = 1\n",
    "        vectors.append(vector)\n",
    "    return vectors\n",
    "\n",
    "def descriptors_to_id(descriptors):\n",
    "    ids = []\n",
    "    for (d1, d2) in descriptors:\n",
    "        ids.append(d1*BEHAVIOR_DIM+d2)\n",
    "    return ids\n",
    "\n",
    "def descriptors_vec2coord(descriptors):\n",
    "    d_id = descriptors.argmax(axis=1)\n",
    "    d1, d2 = d_id // BEHAVIOR_DIM, d_id % BEHAVIOR_DIM\n",
    "    return torch.concat((d1.unsqueeze(0), d2.unsqueeze(0))).t().float() / BEHAVIOR_DIM"
   ]
  },
  {
   "cell_type": "code",
   "execution_count": 7,
   "metadata": {},
   "outputs": [],
   "source": [
    "def random_descriptors(n):\n",
    "    descriptors = torch.zeros((n, BEHAVIOR_DIM**2), dtype=torch.float32)\n",
    "    for i in range(n):\n",
    "        descriptors[i, torch.randint(0, BEHAVIOR_DIM**2, size=(1,))] = 1.\n",
    "    return descriptors"
   ]
  },
  {
   "cell_type": "code",
   "execution_count": 8,
   "metadata": {},
   "outputs": [],
   "source": [
    "def post_process(action):\n",
    "    return torch.tanh(action)"
   ]
  },
  {
   "cell_type": "code",
   "execution_count": 9,
   "metadata": {},
   "outputs": [],
   "source": [
    "def collect_trajectories(env, model, condition_descriptor, n_steps: int):\n",
    "    \n",
    "    states = np.zeros((env.num_envs, n_steps, env.single_observation_space.shape[0]), dtype=np.float32)\n",
    "    actions = np.zeros((env.num_envs, n_steps, env.single_action_space.shape[0]), dtype=np.float32)\n",
    "    rewards = np.zeros((env.num_envs, n_steps), dtype=np.float32)\n",
    "    log_ps = np.zeros((env.num_envs, n_steps), dtype=np.float32)\n",
    "    state_values = np.zeros((env.num_envs, n_steps), dtype=np.float32)\n",
    "    dones = np.zeros((env.num_envs, n_steps), dtype=np.float32)\n",
    "    info = np.zeros((env.num_envs, n_steps, 2), dtype=np.float32)\n",
    "    \n",
    "    advantages = np.zeros((env.num_envs, n_steps), dtype=np.float32)\n",
    "\n",
    "    state, _ = env.reset()\n",
    "    \n",
    "\n",
    "    total_reward = 0\n",
    "    step_count = 0\n",
    "\n",
    "    for s in range(n_steps):\n",
    "        state = torch.FloatTensor(state).to(device)\n",
    "        # print(state.shape, alpha.shape)\n",
    "        with torch.no_grad():\n",
    "            action, action_mean, log_p, state_value, entropy = model(state)\n",
    "        next_state, reward, terminated, truncated, _ = env.step(post_process(action).cpu().tolist())\n",
    "        done = (terminated | truncated)\n",
    "        \n",
    "        states[:, s] = state.cpu()\n",
    "        actions[:, s] = action.cpu()\n",
    "        rewards[:, s] = reward\n",
    "        log_ps[:, s] = log_p.cpu().detach().numpy()\n",
    "        state_values[:, s] = state_value.cpu().detach().reshape(-1).numpy()\n",
    "        dones[:, s] = done\n",
    "        info[:, s] = [(int(5 in env_.data.contact.geom2), int(8 in env_.data.contact.geom2)) for env_ in env.envs]        \n",
    "\n",
    "        state = next_state\n",
    "        # total_reward += reward\n",
    "        # step_count += 1\n",
    "\n",
    "        if done.any():\n",
    "            # state, _ = env.reset(np.where(dones)[0])\n",
    "            state, _ = env.reset()\n",
    "    \n",
    "    \n",
    "    \n",
    "    condition_descriptor_coord = descriptors_vec2coord(condition_descriptor)\n",
    "    achieved_descriptors = get_descriptors_from_trajectories({'info': info, 'done': dones})\n",
    "    achieved_descriptors = torch.tensor(achieved_descriptors).to(device)\n",
    "    \n",
    "    \n",
    "    # Calculate the distance between the goal descriptor and the achieved descriptor:\n",
    "    # print(achieved_descriptors, condition_descriptor_coord)\n",
    "    # descriptors_similarity = ((condition_descriptor_coord - achieved_descriptors)**2).sum(axis=-1)\n",
    "    # descriptors_similarity = torch.exp(-descriptors_similarity/0.1)\n",
    "    \n",
    "    # descriptors_similarity = achieved_descriptors.mean(-1)\n",
    "    descriptors_similarity = achieved_descriptors[:, 1]\n",
    "    \n",
    "    similarity_reward = descriptors_similarity.unsqueeze(1).repeat(1, n_steps).cpu()\n",
    "    \n",
    "    \n",
    "    critic_x = torch.FloatTensor(next_state).to(device)\n",
    "    next_value = model.critic(critic_x).cpu()    \n",
    "    \n",
    "        \n",
    "    states = torch.tensor(states)\n",
    "    actions = torch.tensor(actions)\n",
    "    real_rewards = torch.tensor(rewards)\n",
    "    rewards = similarity_reward\n",
    "    # rewards = real_rewards\n",
    "    # rewards = (10+real_rewards) * similarity_reward\n",
    "    \n",
    "    log_ps = torch.tensor(log_ps)\n",
    "    state_values = torch.tensor(state_values)\n",
    "    dones = torch.tensor(dones)\n",
    "    next_state_values = torch.concatenate((state_values[:, 1:], next_value), dim=-1)\n",
    "    \n",
    "\n",
    "    advantages, returns = [], []\n",
    "    for i in range(env.num_envs):\n",
    "        a, r = compute_gae(dones[i], rewards[i], state_values[i], next_state_values[i])\n",
    "        advantages.append(a)\n",
    "        returns.append(r)\n",
    "    advantages = torch.stack(advantages)\n",
    "    returns = torch.stack(returns)\n",
    "\n",
    "    # print(condition_descriptor_coord)\n",
    "    # print(achieved_descriptors)\n",
    "    # print(rewards)\n",
    "    # print(advantages)\n",
    "    # print(returns)\n",
    "    # return \n",
    "    \n",
    "    trajectories = {\n",
    "        \"descriptors\": condition_descriptor.unsqueeze(1).repeat(1, n_steps, 1).reshape(-1, BEHAVIOR_DIM**2),\n",
    "        \"states\" :  states.reshape(-1, env.single_observation_space.shape[0]).detach(),\n",
    "        \"actions\" : actions.reshape(-1, env.single_action_space.shape[0]).detach(),\n",
    "        \"rewards\" : rewards.reshape(-1).detach(),\n",
    "        \"dones\" : dones.reshape(-1).detach(),\n",
    "        \"log_ps\" : log_ps.reshape(-1).detach(),\n",
    "        \"state_values\": state_values.reshape(-1).detach(),\n",
    "        \"next_state_values\": next_state_values.reshape(-1).detach(),\n",
    "        \"returns\" : returns.reshape(-1).detach(),\n",
    "        \"advantages\" : advantages.reshape(-1).detach(),\n",
    "    }\n",
    "\n",
    "    return trajectories, {\n",
    "        'info':info, 'done':dones, \n",
    "        'reward': rewards, 'real_reward': real_rewards, \n",
    "        'similarity': similarity_reward\n",
    "    }\n",
    "\n",
    "\n",
    "def shufffle_trajectory(trajectories):\n",
    "    length = trajectories['states'].shape[0]\n",
    "    permutation = torch.randperm(length)\n",
    "\n",
    "    shuffled_trajectories = {key: tensor[permutation] for key, tensor in trajectories.items()}\n",
    "    return shuffled_trajectories"
   ]
  },
  {
   "cell_type": "code",
   "execution_count": 10,
   "metadata": {},
   "outputs": [],
   "source": [
    "# trajectory, info = collect_trajectories(env, model, condition_descriptors, n_steps=max_episode_steps)"
   ]
  },
  {
   "cell_type": "code",
   "execution_count": 11,
   "metadata": {},
   "outputs": [],
   "source": [
    "def ppo_optimization(trajectories, model, optimizer, epochs, batch_size):\n",
    "    \n",
    "    model.train()\n",
    "    \n",
    "    traj_descriptors = trajectories[\"descriptors\"]\n",
    "    traj_states = trajectories[\"states\"]\n",
    "    traj_actions = trajectories[\"actions\"]\n",
    "    traj_log_ps = trajectories[\"log_ps\"]\n",
    "    traj_returns = trajectories[\"returns\"]  \n",
    "    traj_advantages = trajectories[\"advantages\"]\n",
    "\n",
    "\n",
    "    len_trajectory = traj_states.shape[0]\n",
    "\n",
    "    for epoch in range(1, epochs+1):\n",
    "        for i in range(len_trajectory // batch_size):\n",
    "            alpha = traj_descriptors[batch_size*i:batch_size*(i+1)].to(device)\n",
    "            state = traj_states[batch_size*i:batch_size*(i+1)].to(device)\n",
    "            action = traj_actions[batch_size*i:batch_size*(i+1)].to(device)\n",
    "            log_p = traj_log_ps[batch_size*i:batch_size*(i+1)].to(device)\n",
    "            return_ = traj_returns[batch_size*i:batch_size*(i+1)].to(device)\n",
    "            advantage = traj_advantages[batch_size*i:batch_size*(i+1)].to(device)\n",
    "                        \n",
    "            # print(alpha)\n",
    "            new_action, new_action_mean, new_log_p, new_state_value, entropy = model(state, action)\n",
    "            assert(new_action == action).all()\n",
    "            \n",
    "            \n",
    "            advantage = (advantage - advantage.mean()) / (advantage.std() + 1e-8)\n",
    "\n",
    "            new_log_p, log_p, advantage = new_log_p.reshape(-1), log_p.reshape(-1), advantage.reshape(-1)\n",
    "            \n",
    "            ratio = torch.exp(new_log_p - log_p.detach())\n",
    "            surr1 = ratio * advantage\n",
    "            surr2 = torch.clamp(ratio, 1-0.2, 1+0.2) * advantage\n",
    "            policy_loss = - torch.min(surr1, surr2).mean()\n",
    "            \n",
    "            # print(policy_loss)\n",
    "            \n",
    "            \n",
    "            return_, new_state_value = return_.reshape(-1), new_state_value.reshape(-1)\n",
    "            critic_loss = ((return_ - new_state_value)**2).mean()\n",
    "        \n",
    "\n",
    "            loss = policy_loss - 2e-7*entropy.mean() + 0.5*critic_loss\n",
    "\n",
    "            optimizer.zero_grad()\n",
    "            loss.backward()\n",
    "            clip_factor = torch.nn.utils.clip_grad_norm_(model.parameters(), 0.5)\n",
    "            optimizer.step()\n",
    "\n",
    "# ppo_optimization(trajectories, model, optimizer, epochs=1, batch_size=5)\n",
    "# ppo_optimization(shuffled_trajectory, model, alpha, optimizer, epochs=5, batch_size=256)"
   ]
  },
  {
   "cell_type": "code",
   "execution_count": 12,
   "metadata": {},
   "outputs": [],
   "source": [
    "def evaluate(env, model, descriptor):\n",
    "    model.eval()\n",
    "\n",
    "    state, _ = env.reset()\n",
    "        \n",
    "    total_reward = 0\n",
    "    step_count = 0\n",
    "\n",
    "    trajectory = []\n",
    "    info = []\n",
    "    \n",
    "\n",
    "    while True:\n",
    "        trajectory.append(state)\n",
    "        state = torch.FloatTensor(state).to(device).unsqueeze(0)\n",
    "        with torch.no_grad():\n",
    "            action, mean_action, log_p, state_value, entropy = model(state)\n",
    "        next_state, reward, terminated, truncated, _ = env.step(post_process(action)[0].cpu().tolist())\n",
    "\n",
    "        info.append((\n",
    "            int(5 in env.data.contact.geom2), int(8 in env.data.contact.geom2)\n",
    "        ))\n",
    "        \n",
    "        done = terminated or truncated\n",
    "\n",
    "        state = next_state\n",
    "        total_reward += reward\n",
    "        step_count += 1\n",
    "        \n",
    "        \n",
    "        if done:\n",
    "            break\n",
    "        \n",
    "    return total_reward, trajectory, info\n",
    "\n",
    "\n",
    "def get_reward_from_trajectory(info):\n",
    "    reward_list = []\n",
    "    real_reward_list = []\n",
    "    sim_list = []\n",
    "    acc_reward = 0\n",
    "    acc_real_reward = 0\n",
    "    acc_similarity = 0\n",
    "    for n in range(len(info['reward'])):\n",
    "        for i in range(len(info['reward'][n])):\n",
    "            if info['done'][n][i] == True:\n",
    "                reward_list.append(acc_reward)\n",
    "                real_reward_list.append(acc_real_reward)\n",
    "                sim_list.append(info['similarity'][n][-1])\n",
    "                acc_reward = 0\n",
    "                acc_real_reward = 0\n",
    "                acc_similarity = 0\n",
    "            \n",
    "            acc_reward += info['reward'][n][i]\n",
    "            acc_real_reward += info['real_reward'][n][i]\n",
    "            acc_similarity += info['similarity'][n][i]\n",
    "\n",
    "    return np.mean(reward_list), np.mean(real_reward_list), np.mean(sim_list)"
   ]
  },
  {
   "cell_type": "code",
   "execution_count": 13,
   "metadata": {},
   "outputs": [],
   "source": [
    "# env = gym.vector.make('HalfCheetah-v4', render_mode = \"rgb_array\", num_envs=8)\n",
    "\n",
    "max_episode_steps = 1000\n",
    "num_envs = 8\n",
    "env_fns = [lambda: gym.make('HalfCheetah-v4', render_mode=\"rgb_array\", max_episode_steps=max_episode_steps) for _ in range(num_envs)]\n",
    "env = gym.vector.SyncVectorEnv(env_fns)\n",
    "\n",
    "state_dim = env.observation_space.shape[-1]\n",
    "action_dim = env.action_space.shape[-1]\n"
   ]
  },
  {
   "cell_type": "code",
   "execution_count": 14,
   "metadata": {},
   "outputs": [
    {
     "name": "stderr",
     "output_type": "stream",
     "text": [
      "  0%|          | 0/2000 [00:00<?, ?it/s]/home/nazim/.local/lib/python3.10/site-packages/gym/utils/passive_env_checker.py:233: DeprecationWarning: `np.bool8` is a deprecated alias for `np.bool_`.  (Deprecated NumPy 1.24)\n",
      "  if not isinstance(terminated, (bool, np.bool8)):\n"
     ]
    },
    {
     "name": "stdout",
     "output_type": "stream",
     "text": [
      "[(0.071, 0.108), (0.126, 0.308), (0.141, 0.288), (0.004, 0.019), (0.126, 0.324), (0.131, 0.31), (0.019, 0.045), (0.143, 0.293)]\n"
     ]
    },
    {
     "name": "stderr",
     "output_type": "stream",
     "text": [
      "Reward: 211.84:   0%|          | 1/2000 [00:02<1:09:16,  2.08s/it]"
     ]
    },
    {
     "name": "stdout",
     "output_type": "stream",
     "text": [
      "[(0.128, 0.271), (0.024, 0.045), (0.153, 0.296), (0.069, 0.077), (0.137, 0.2), (0.011, 0.038), (0.147, 0.321), (0.161, 0.294)]\n"
     ]
    },
    {
     "name": "stderr",
     "output_type": "stream",
     "text": [
      "Reward: 192.71:   0%|          | 2/2000 [00:03<58:06,  1.75s/it]  "
     ]
    },
    {
     "name": "stdout",
     "output_type": "stream",
     "text": [
      "[(0.102, 0.237), (0.163, 0.296), (0.069, 0.247), (0.123, 0.268), (0.108, 0.353), (0.164, 0.286), (0.117, 0.23), (0.161, 0.28)]\n"
     ]
    },
    {
     "name": "stderr",
     "output_type": "stream",
     "text": [
      "Reward: 239.59:   0%|          | 4/2000 [00:06<52:03,  1.57s/it]"
     ]
    },
    {
     "name": "stdout",
     "output_type": "stream",
     "text": [
      "[(0.136, 0.35), (0.113, 0.359), (0.035, 0.168), (0.172, 0.273), (0.045, 0.085), (0.115, 0.342), (0.01, 0.039), (0.151, 0.301)]\n",
      "[(0.022, 0.034), (0.032, 0.108), (0.047, 0.081), (0.126, 0.318), (0.017, 0.029), (0.183, 0.292), (0.132, 0.366), (0.143, 0.199)]\n"
     ]
    },
    {
     "name": "stderr",
     "output_type": "stream",
     "text": [
      "Reward: 178.35:   0%|          | 5/2000 [00:08<50:46,  1.53s/it]"
     ]
    },
    {
     "name": "stdout",
     "output_type": "stream",
     "text": [
      "[(0.046, 0.095), (0.052, 0.065), (0.035, 0.115), (0.013, 0.024), (0.077, 0.136), (0.164, 0.29), (0.028, 0.046), (0.133, 0.334)]\n"
     ]
    },
    {
     "name": "stderr",
     "output_type": "stream",
     "text": [
      "Reward: 138.08:   0%|          | 6/2000 [00:09<50:06,  1.51s/it]"
     ]
    },
    {
     "name": "stdout",
     "output_type": "stream",
     "text": [
      "[(0.017, 0.015), (0.101, 0.28), (0.025, 0.087), (0.113, 0.27), (0.17, 0.296), (0.17, 0.275), (0.109, 0.187), (0.01, 0.022)]\n"
     ]
    },
    {
     "name": "stderr",
     "output_type": "stream",
     "text": [
      "Reward: 179.00:   0%|          | 7/2000 [00:10<49:31,  1.49s/it]"
     ]
    },
    {
     "name": "stdout",
     "output_type": "stream",
     "text": [
      "[(0.065, 0.114), (0.154, 0.234), (0.006, 0.012), (0.136, 0.257), (0.005, 0.014), (0.155, 0.273), (0.016, 0.044), (0.002, 0.021)]\n"
     ]
    },
    {
     "name": "stderr",
     "output_type": "stream",
     "text": [
      "Reward: 121.12:   0%|          | 8/2000 [00:13<54:04,  1.63s/it]\n"
     ]
    },
    {
     "ename": "KeyboardInterrupt",
     "evalue": "",
     "output_type": "error",
     "traceback": [
      "\u001b[0;31m---------------------------------------------------------------------------\u001b[0m",
      "\u001b[0;31mKeyboardInterrupt\u001b[0m                         Traceback (most recent call last)",
      "Cell \u001b[0;32mIn[14], line 27\u001b[0m\n\u001b[1;32m     24\u001b[0m \u001b[38;5;28;01mfor\u001b[39;00m _ \u001b[38;5;129;01min\u001b[39;00m \u001b[38;5;28mrange\u001b[39m(\u001b[38;5;241m1\u001b[39m):\n\u001b[1;32m     25\u001b[0m     \u001b[38;5;66;03m# condition_descriptors = random_descriptors(env.num_envs).to(device)\u001b[39;00m\n\u001b[1;32m     26\u001b[0m     condition_descriptors \u001b[38;5;241m=\u001b[39m torch\u001b[38;5;241m.\u001b[39mtensor(descriptors_to_vectors([(\u001b[38;5;241m4\u001b[39m,\u001b[38;5;241m4\u001b[39m)]), dtype\u001b[38;5;241m=\u001b[39mtorch\u001b[38;5;241m.\u001b[39mfloat32)\u001b[38;5;241m.\u001b[39mrepeat(env\u001b[38;5;241m.\u001b[39mnum_envs, \u001b[38;5;241m1\u001b[39m)\u001b[38;5;241m.\u001b[39mto(device)\n\u001b[0;32m---> 27\u001b[0m     trajectory, info \u001b[38;5;241m=\u001b[39m \u001b[43mcollect_trajectories\u001b[49m\u001b[43m(\u001b[49m\u001b[43menv\u001b[49m\u001b[43m,\u001b[49m\u001b[43m \u001b[49m\u001b[43mmodel\u001b[49m\u001b[43m,\u001b[49m\u001b[43m \u001b[49m\u001b[43mcondition_descriptors\u001b[49m\u001b[43m,\u001b[49m\u001b[43m \u001b[49m\u001b[43mn_steps\u001b[49m\u001b[38;5;241;43m=\u001b[39;49m\u001b[43mmax_episode_steps\u001b[49m\u001b[43m)\u001b[49m\n\u001b[1;32m     28\u001b[0m     descriptors \u001b[38;5;241m=\u001b[39m get_descriptors_from_trajectories(info)\n\u001b[1;32m     30\u001b[0m     all_condition_descriptors \u001b[38;5;241m+\u001b[39m\u001b[38;5;241m=\u001b[39m condition_descriptors\u001b[38;5;241m.\u001b[39mtolist()\n",
      "Cell \u001b[0;32mIn[9], line 24\u001b[0m, in \u001b[0;36mcollect_trajectories\u001b[0;34m(env, model, condition_descriptor, n_steps)\u001b[0m\n\u001b[1;32m     22\u001b[0m \u001b[38;5;28;01mwith\u001b[39;00m torch\u001b[38;5;241m.\u001b[39mno_grad():\n\u001b[1;32m     23\u001b[0m     action, action_mean, log_p, state_value, entropy \u001b[38;5;241m=\u001b[39m model(state)\n\u001b[0;32m---> 24\u001b[0m next_state, reward, terminated, truncated, _ \u001b[38;5;241m=\u001b[39m \u001b[43menv\u001b[49m\u001b[38;5;241;43m.\u001b[39;49m\u001b[43mstep\u001b[49m\u001b[43m(\u001b[49m\u001b[43mpost_process\u001b[49m\u001b[43m(\u001b[49m\u001b[43maction\u001b[49m\u001b[43m)\u001b[49m\u001b[38;5;241;43m.\u001b[39;49m\u001b[43mcpu\u001b[49m\u001b[43m(\u001b[49m\u001b[43m)\u001b[49m\u001b[38;5;241;43m.\u001b[39;49m\u001b[43mtolist\u001b[49m\u001b[43m(\u001b[49m\u001b[43m)\u001b[49m\u001b[43m)\u001b[49m\n\u001b[1;32m     25\u001b[0m done \u001b[38;5;241m=\u001b[39m (terminated \u001b[38;5;241m|\u001b[39m truncated)\n\u001b[1;32m     27\u001b[0m states[:, s] \u001b[38;5;241m=\u001b[39m state\u001b[38;5;241m.\u001b[39mcpu()\n",
      "File \u001b[0;32m~/.local/lib/python3.10/site-packages/gym/vector/vector_env.py:137\u001b[0m, in \u001b[0;36mVectorEnv.step\u001b[0;34m(self, actions)\u001b[0m\n\u001b[1;32m    128\u001b[0m \u001b[38;5;250m\u001b[39m\u001b[38;5;124;03m\"\"\"Take an action for each parallel environment.\u001b[39;00m\n\u001b[1;32m    129\u001b[0m \n\u001b[1;32m    130\u001b[0m \u001b[38;5;124;03mArgs:\u001b[39;00m\n\u001b[0;32m   (...)\u001b[0m\n\u001b[1;32m    134\u001b[0m \u001b[38;5;124;03m    Batch of (observations, rewards, terminated, truncated, infos) or (observations, rewards, dones, infos)\u001b[39;00m\n\u001b[1;32m    135\u001b[0m \u001b[38;5;124;03m\"\"\"\u001b[39;00m\n\u001b[1;32m    136\u001b[0m \u001b[38;5;28mself\u001b[39m\u001b[38;5;241m.\u001b[39mstep_async(actions)\n\u001b[0;32m--> 137\u001b[0m \u001b[38;5;28;01mreturn\u001b[39;00m \u001b[38;5;28;43mself\u001b[39;49m\u001b[38;5;241;43m.\u001b[39;49m\u001b[43mstep_wait\u001b[49m\u001b[43m(\u001b[49m\u001b[43m)\u001b[49m\n",
      "File \u001b[0;32m~/.local/lib/python3.10/site-packages/gym/vector/sync_vector_env.py:150\u001b[0m, in \u001b[0;36mSyncVectorEnv.step_wait\u001b[0;34m(self)\u001b[0m\n\u001b[1;32m    141\u001b[0m observations, infos \u001b[38;5;241m=\u001b[39m [], {}\n\u001b[1;32m    142\u001b[0m \u001b[38;5;28;01mfor\u001b[39;00m i, (env, action) \u001b[38;5;129;01min\u001b[39;00m \u001b[38;5;28menumerate\u001b[39m(\u001b[38;5;28mzip\u001b[39m(\u001b[38;5;28mself\u001b[39m\u001b[38;5;241m.\u001b[39menvs, \u001b[38;5;28mself\u001b[39m\u001b[38;5;241m.\u001b[39m_actions)):\n\u001b[1;32m    144\u001b[0m     (\n\u001b[1;32m    145\u001b[0m         observation,\n\u001b[1;32m    146\u001b[0m         \u001b[38;5;28mself\u001b[39m\u001b[38;5;241m.\u001b[39m_rewards[i],\n\u001b[1;32m    147\u001b[0m         \u001b[38;5;28mself\u001b[39m\u001b[38;5;241m.\u001b[39m_terminateds[i],\n\u001b[1;32m    148\u001b[0m         \u001b[38;5;28mself\u001b[39m\u001b[38;5;241m.\u001b[39m_truncateds[i],\n\u001b[1;32m    149\u001b[0m         info,\n\u001b[0;32m--> 150\u001b[0m     ) \u001b[38;5;241m=\u001b[39m \u001b[43menv\u001b[49m\u001b[38;5;241;43m.\u001b[39;49m\u001b[43mstep\u001b[49m\u001b[43m(\u001b[49m\u001b[43maction\u001b[49m\u001b[43m)\u001b[49m\n\u001b[1;32m    152\u001b[0m     \u001b[38;5;28;01mif\u001b[39;00m \u001b[38;5;28mself\u001b[39m\u001b[38;5;241m.\u001b[39m_terminateds[i] \u001b[38;5;129;01mor\u001b[39;00m \u001b[38;5;28mself\u001b[39m\u001b[38;5;241m.\u001b[39m_truncateds[i]:\n\u001b[1;32m    153\u001b[0m         old_observation, old_info \u001b[38;5;241m=\u001b[39m observation, info\n",
      "File \u001b[0;32m~/.local/lib/python3.10/site-packages/gym/wrappers/time_limit.py:50\u001b[0m, in \u001b[0;36mTimeLimit.step\u001b[0;34m(self, action)\u001b[0m\n\u001b[1;32m     39\u001b[0m \u001b[38;5;28;01mdef\u001b[39;00m \u001b[38;5;21mstep\u001b[39m(\u001b[38;5;28mself\u001b[39m, action):\n\u001b[1;32m     40\u001b[0m \u001b[38;5;250m    \u001b[39m\u001b[38;5;124;03m\"\"\"Steps through the environment and if the number of steps elapsed exceeds ``max_episode_steps`` then truncate.\u001b[39;00m\n\u001b[1;32m     41\u001b[0m \n\u001b[1;32m     42\u001b[0m \u001b[38;5;124;03m    Args:\u001b[39;00m\n\u001b[0;32m   (...)\u001b[0m\n\u001b[1;32m     48\u001b[0m \n\u001b[1;32m     49\u001b[0m \u001b[38;5;124;03m    \"\"\"\u001b[39;00m\n\u001b[0;32m---> 50\u001b[0m     observation, reward, terminated, truncated, info \u001b[38;5;241m=\u001b[39m \u001b[38;5;28;43mself\u001b[39;49m\u001b[38;5;241;43m.\u001b[39;49m\u001b[43menv\u001b[49m\u001b[38;5;241;43m.\u001b[39;49m\u001b[43mstep\u001b[49m\u001b[43m(\u001b[49m\u001b[43maction\u001b[49m\u001b[43m)\u001b[49m\n\u001b[1;32m     51\u001b[0m     \u001b[38;5;28mself\u001b[39m\u001b[38;5;241m.\u001b[39m_elapsed_steps \u001b[38;5;241m+\u001b[39m\u001b[38;5;241m=\u001b[39m \u001b[38;5;241m1\u001b[39m\n\u001b[1;32m     53\u001b[0m     \u001b[38;5;28;01mif\u001b[39;00m \u001b[38;5;28mself\u001b[39m\u001b[38;5;241m.\u001b[39m_elapsed_steps \u001b[38;5;241m>\u001b[39m\u001b[38;5;241m=\u001b[39m \u001b[38;5;28mself\u001b[39m\u001b[38;5;241m.\u001b[39m_max_episode_steps:\n",
      "File \u001b[0;32m~/.local/lib/python3.10/site-packages/gym/wrappers/order_enforcing.py:37\u001b[0m, in \u001b[0;36mOrderEnforcing.step\u001b[0;34m(self, action)\u001b[0m\n\u001b[1;32m     35\u001b[0m \u001b[38;5;28;01mif\u001b[39;00m \u001b[38;5;129;01mnot\u001b[39;00m \u001b[38;5;28mself\u001b[39m\u001b[38;5;241m.\u001b[39m_has_reset:\n\u001b[1;32m     36\u001b[0m     \u001b[38;5;28;01mraise\u001b[39;00m ResetNeeded(\u001b[38;5;124m\"\u001b[39m\u001b[38;5;124mCannot call env.step() before calling env.reset()\u001b[39m\u001b[38;5;124m\"\u001b[39m)\n\u001b[0;32m---> 37\u001b[0m \u001b[38;5;28;01mreturn\u001b[39;00m \u001b[38;5;28;43mself\u001b[39;49m\u001b[38;5;241;43m.\u001b[39;49m\u001b[43menv\u001b[49m\u001b[38;5;241;43m.\u001b[39;49m\u001b[43mstep\u001b[49m\u001b[43m(\u001b[49m\u001b[43maction\u001b[49m\u001b[43m)\u001b[49m\n",
      "File \u001b[0;32m~/.local/lib/python3.10/site-packages/gym/wrappers/env_checker.py:39\u001b[0m, in \u001b[0;36mPassiveEnvChecker.step\u001b[0;34m(self, action)\u001b[0m\n\u001b[1;32m     37\u001b[0m     \u001b[38;5;28;01mreturn\u001b[39;00m env_step_passive_checker(\u001b[38;5;28mself\u001b[39m\u001b[38;5;241m.\u001b[39menv, action)\n\u001b[1;32m     38\u001b[0m \u001b[38;5;28;01melse\u001b[39;00m:\n\u001b[0;32m---> 39\u001b[0m     \u001b[38;5;28;01mreturn\u001b[39;00m \u001b[38;5;28;43mself\u001b[39;49m\u001b[38;5;241;43m.\u001b[39;49m\u001b[43menv\u001b[49m\u001b[38;5;241;43m.\u001b[39;49m\u001b[43mstep\u001b[49m\u001b[43m(\u001b[49m\u001b[43maction\u001b[49m\u001b[43m)\u001b[49m\n",
      "File \u001b[0;32m~/.local/lib/python3.10/site-packages/gym/envs/mujoco/half_cheetah_v4.py:198\u001b[0m, in \u001b[0;36mHalfCheetahEnv.step\u001b[0;34m(self, action)\u001b[0m\n\u001b[1;32m    194\u001b[0m ctrl_cost \u001b[38;5;241m=\u001b[39m \u001b[38;5;28mself\u001b[39m\u001b[38;5;241m.\u001b[39mcontrol_cost(action)\n\u001b[1;32m    196\u001b[0m forward_reward \u001b[38;5;241m=\u001b[39m \u001b[38;5;28mself\u001b[39m\u001b[38;5;241m.\u001b[39m_forward_reward_weight \u001b[38;5;241m*\u001b[39m x_velocity\n\u001b[0;32m--> 198\u001b[0m observation \u001b[38;5;241m=\u001b[39m \u001b[38;5;28;43mself\u001b[39;49m\u001b[38;5;241;43m.\u001b[39;49m\u001b[43m_get_obs\u001b[49m\u001b[43m(\u001b[49m\u001b[43m)\u001b[49m\n\u001b[1;32m    199\u001b[0m reward \u001b[38;5;241m=\u001b[39m forward_reward \u001b[38;5;241m-\u001b[39m ctrl_cost\n\u001b[1;32m    200\u001b[0m terminated \u001b[38;5;241m=\u001b[39m \u001b[38;5;28;01mFalse\u001b[39;00m\n",
      "File \u001b[0;32m~/.local/lib/python3.10/site-packages/gym/envs/mujoco/half_cheetah_v4.py:213\u001b[0m, in \u001b[0;36mHalfCheetahEnv._get_obs\u001b[0;34m(self)\u001b[0m\n\u001b[1;32m    212\u001b[0m \u001b[38;5;28;01mdef\u001b[39;00m \u001b[38;5;21m_get_obs\u001b[39m(\u001b[38;5;28mself\u001b[39m):\n\u001b[0;32m--> 213\u001b[0m     position \u001b[38;5;241m=\u001b[39m \u001b[38;5;28;43mself\u001b[39;49m\u001b[38;5;241;43m.\u001b[39;49m\u001b[43mdata\u001b[49m\u001b[38;5;241;43m.\u001b[39;49m\u001b[43mqpos\u001b[49m\u001b[38;5;241;43m.\u001b[39;49m\u001b[43mflat\u001b[49m\u001b[38;5;241;43m.\u001b[39;49m\u001b[43mcopy\u001b[49m\u001b[43m(\u001b[49m\u001b[43m)\u001b[49m\n\u001b[1;32m    214\u001b[0m     velocity \u001b[38;5;241m=\u001b[39m \u001b[38;5;28mself\u001b[39m\u001b[38;5;241m.\u001b[39mdata\u001b[38;5;241m.\u001b[39mqvel\u001b[38;5;241m.\u001b[39mflat\u001b[38;5;241m.\u001b[39mcopy()\n\u001b[1;32m    216\u001b[0m     \u001b[38;5;28;01mif\u001b[39;00m \u001b[38;5;28mself\u001b[39m\u001b[38;5;241m.\u001b[39m_exclude_current_positions_from_observation:\n",
      "\u001b[0;31mKeyboardInterrupt\u001b[0m: "
     ]
    }
   ],
   "source": [
    "model = ConditionedActorCriticContinuous(\n",
    "    BEHAVIOR_DIM**2,\n",
    "    state_dim,\n",
    "    action_dim,\n",
    "    actor_hidden_layers=[256, 256],\n",
    "    critic_hidden_layers=[256, 256],\n",
    "    action_std=0.5\n",
    ").to(device)\n",
    "optimizer = torch.optim.AdamW(model.parameters(), lr=0.0003)\n",
    "\n",
    "\n",
    "rewards, real_rewards, similarities = [], [], []\n",
    "all_descriptors = []\n",
    "all_condition_descriptors = []\n",
    "\n",
    "H_d_a_list = []\n",
    "H_d_list = []\n",
    "cross_entropies = []\n",
    "diversity_lossses = []\n",
    "\n",
    "tqdm_epochs = tqdm(range(1, 2000+1))\n",
    "for epochs in tqdm_epochs:\n",
    "    \n",
    "    for _ in range(1):\n",
    "        # condition_descriptors = random_descriptors(env.num_envs).to(device)\n",
    "        condition_descriptors = torch.tensor(descriptors_to_vectors([(4,4)]), dtype=torch.float32).repeat(env.num_envs, 1).to(device)\n",
    "        trajectory, info = collect_trajectories(env, model, condition_descriptors, n_steps=max_episode_steps)\n",
    "        descriptors = get_descriptors_from_trajectories(info)\n",
    "        \n",
    "        all_condition_descriptors += condition_descriptors.tolist()\n",
    "        all_descriptors += descriptors\n",
    "        print(descriptors)\n",
    "\n",
    "    shuffled_trajectory = shufffle_trajectory(trajectory)\n",
    "    diversity_loss = ppo_optimization(shuffled_trajectory, model, optimizer, epochs=4, batch_size=512)\n",
    "    diversity_lossses.append(diversity_loss)\n",
    "    \n",
    "    final_reward, final_real_reward, final_similarity = get_reward_from_trajectory(info)\n",
    "    rewards.append(max(final_reward, -3000))\n",
    "    real_rewards.append(max(final_real_reward, -3000))\n",
    "    similarities.append(final_similarity)\n",
    "    \n",
    "    tqdm_epochs.set_description(f'Reward: {final_reward:.2f}')\n",
    "    \n",
    "    \n",
    "    if epochs % 10 == 0:\n",
    "        clear_output(True)\n",
    "        fig, axes = plt.subplots(1, 3, figsize=(12, 4))\n",
    "\n",
    "        axes[0].plot(rewards)\n",
    "        axes[0].set_title('Rewards')\n",
    "        axes[0].set_xlabel('Epoch')\n",
    "        axes[0].set_ylabel('Reward')\n",
    "        \n",
    "        axes[1].plot(real_rewards)\n",
    "        axes[1].set_title('Real Rewards')\n",
    "        axes[1].set_xlabel('Epoch')\n",
    "        axes[1].set_ylabel('Real Reward')\n",
    "        \n",
    "        axes[2].plot(similarities)\n",
    "        axes[2].set_title('Similarities')\n",
    "        axes[2].set_xlabel('Epoch')\n",
    "        axes[2].set_ylabel('Similarity')\n",
    "\n",
    "        # Display the plots\n",
    "        plt.tight_layout()\n",
    "        plt.show()"
   ]
  },
  {
   "cell_type": "code",
   "execution_count": null,
   "metadata": {},
   "outputs": [
    {
     "data": {
      "text/plain": [
       "Parameter containing:\n",
       "tensor([ 0.1689,  0.1139,  0.2189, -0.2254, -0.2242,  0.1445], device='cuda:0',\n",
       "       requires_grad=True)"
      ]
     },
     "execution_count": 28,
     "metadata": {},
     "output_type": "execute_result"
    }
   ],
   "source": [
    "model.action_var"
   ]
  },
  {
   "cell_type": "code",
   "execution_count": null,
   "metadata": {},
   "outputs": [
    {
     "data": {
      "text/plain": [
       "(array([   15.,   224.,  1702.,  6327., 11762., 14949., 10110.,  2552.,\n",
       "          327.,    32.]),\n",
       " array([-5.61361074, -4.49538326, -3.37715578, -2.25892806, -1.14070058,\n",
       "        -0.0224731 ,  1.09575438,  2.21398187,  3.33220959,  4.45043707,\n",
       "         5.56866455]),\n",
       " <BarContainer object of 10 artists>)"
      ]
     },
     "execution_count": 34,
     "metadata": {},
     "output_type": "execute_result"
    },
    {
     "data": {
      "image/png": "[encoded data removed]",
      "text/plain": [
       "<Figure size 640x480 with 1 Axes>"
      ]
     },
     "metadata": {},
     "output_type": "display_data"
    }
   ],
   "source": [
    "plt.hist(trajectory['actions'].reshape(-1))"
   ]
  },
  {
   "cell_type": "code",
   "execution_count": null,
   "metadata": {},
   "outputs": [
    {
     "data": {
      "text/plain": [
       "tensor([ 0.0702,  0.0623,  0.0305,  0.0386,  0.0350,  0.0269, -0.0184, -0.0036,\n",
       "         0.0552,  0.0692,  0.0946,  0.0280, -0.0460, -0.1589, -0.0833, -0.0471,\n",
       "        -0.0561])"
      ]
     },
     "execution_count": 58,
     "metadata": {},
     "output_type": "execute_result"
    }
   ],
   "source": [
    "trajectory['states'][0]"
   ]
  },
  {
   "cell_type": "code",
   "execution_count": null,
   "metadata": {},
   "outputs": [
    {
     "data": {
      "text/plain": [
       "(0.606151, -1141.6158, 3.8897888e-05)"
      ]
     },
     "execution_count": 25,
     "metadata": {},
     "output_type": "execute_result"
    }
   ],
   "source": [
    "get_reward_from_trajectory(info)"
   ]
  },
  {
   "cell_type": "code",
   "execution_count": null,
   "metadata": {},
   "outputs": [
    {
     "data": {
      "text/plain": [
       "tensor([[0.0052, 0.0052, 0.0052,  ..., 0.0052, 0.0052, 0.0052],\n",
       "        [0.0095, 0.0095, 0.0095,  ..., 0.0095, 0.0095, 0.0095],\n",
       "        [0.0073, 0.0073, 0.0073,  ..., 0.0073, 0.0073, 0.0073],\n",
       "        ...,\n",
       "        [0.0058, 0.0058, 0.0058,  ..., 0.0058, 0.0058, 0.0058],\n",
       "        [0.0052, 0.0052, 0.0052,  ..., 0.0052, 0.0052, 0.0052],\n",
       "        [0.0093, 0.0093, 0.0093,  ..., 0.0093, 0.0093, 0.0093]])"
      ]
     },
     "execution_count": 39,
     "metadata": {},
     "output_type": "execute_result"
    }
   ],
   "source": [
    "trajectory['rewards'].reshape(8, -1)"
   ]
  },
  {
   "cell_type": "code",
   "execution_count": null,
   "metadata": {},
   "outputs": [
    {
     "data": {
      "text/plain": [
       "tensor([[0.0052, 0.0052, 0.0052,  ..., 0.0052, 0.0052, 0.0052],\n",
       "        [0.0095, 0.0095, 0.0095,  ..., 0.0095, 0.0095, 0.0095],\n",
       "        [0.0073, 0.0073, 0.0073,  ..., 0.0073, 0.0073, 0.0073],\n",
       "        ...,\n",
       "        [0.0058, 0.0058, 0.0058,  ..., 0.0058, 0.0058, 0.0058],\n",
       "        [0.0052, 0.0052, 0.0052,  ..., 0.0052, 0.0052, 0.0052],\n",
       "        [0.0093, 0.0093, 0.0093,  ..., 0.0093, 0.0093, 0.0093]])"
      ]
     },
     "execution_count": 37,
     "metadata": {},
     "output_type": "execute_result"
    }
   ],
   "source": [
    "info['similarity']"
   ]
  },
  {
   "cell_type": "code",
   "execution_count": null,
   "metadata": {},
   "outputs": [],
   "source": [
    "torch.save(model.state_dict(), 'models/cond(4,4).pt')"
   ]
  },
  {
   "cell_type": "markdown",
   "metadata": {},
   "source": [
    "---"
   ]
  },
  {
   "cell_type": "code",
   "execution_count": null,
   "metadata": {},
   "outputs": [],
   "source": [
    "# model = ActorCriticContinuous(\n",
    "#     1,\n",
    "#     state_dim,\n",
    "#     action_dim,\n",
    "#     same_init=True,\n",
    "#     actor_hidden_layers=[256, 256],\n",
    "#     critic_hidden_layers=[256, 256],\n",
    "#     action_std=0.5\n",
    "# ).to(device)\n",
    "\n",
    "# model.load_state_dict(torch.load('models/halfcheetah/n_anchors=1.pt'))"
   ]
  },
  {
   "cell_type": "code",
   "execution_count": null,
   "metadata": {},
   "outputs": [
    {
     "name": "stderr",
     "output_type": "stream",
     "text": [
      "  0%|          | 0/100 [00:00<?, ?it/s]/home/nazim/.local/lib/python3.10/site-packages/gym/utils/passive_env_checker.py:233: DeprecationWarning: `np.bool8` is a deprecated alias for `np.bool_`.  (Deprecated NumPy 1.24)\n",
      "  if not isinstance(terminated, (bool, np.bool8)):\n",
      "100%|██████████| 100/100 [00:47<00:00,  2.11it/s]\n"
     ]
    }
   ],
   "source": [
    "single_env = gym.make('HalfCheetah-v4', render_mode=\"rgb_array\", max_episode_steps=max_episode_steps)\n",
    "\n",
    "descriptors = []\n",
    "desc_rewards = []\n",
    "\n",
    "for _ in tqdm(range(100)):\n",
    "    reward, states, info = evaluate(single_env, model, random_descriptors(1).to(device))\n",
    "    descriptors.append(get_descriptor(info))\n",
    "    rewards.append(reward)\n",
    "    \n",
    "descriptors_array = np.array(descriptors)"
   ]
  },
  {
   "cell_type": "code",
   "execution_count": null,
   "metadata": {},
   "outputs": [
    {
     "data": {
      "image/png": "[encoded data removed]",
      "text/plain": [
       "<Figure size 500x500 with 2 Axes>"
      ]
     },
     "metadata": {},
     "output_type": "display_data"
    }
   ],
   "source": [
    "import matplotlib.pyplot as plt\n",
    "\n",
    "x1, x2 = 0, 1\n",
    "\n",
    "x1_min = 0\n",
    "x1_max = 1\n",
    "x2_min = 0\n",
    "x2_max = 1\n",
    "\n",
    "N = 30\n",
    "\n",
    "x1_bins = np.linspace(x1_min, x1_max, N)\n",
    "x2_bins = np.linspace(x2_min, x2_max, N)\n",
    "\n",
    "map_grid = np.full((N, N), np.nan)\n",
    "\n",
    "\n",
    "def get_bin(value, bins):\n",
    "    return np.digitize(value, bins) - 1\n",
    "\n",
    "\n",
    "for descriptor, reward in zip(descriptors, rewards):\n",
    "    feature1, feature2 = descriptor[x1], descriptor[x2]\n",
    "    f1_bin = get_bin(feature1, x1_bins)\n",
    "    f2_bin = get_bin(feature2, x2_bins)\n",
    "    \n",
    "    if np.isnan(map_grid[f1_bin, f2_bin]):\n",
    "        map_grid[f1_bin][f2_bin] = reward\n",
    "    else:\n",
    "        map_grid[f1_bin][f2_bin] = max(map_grid[f1_bin][f2_bin], reward) \n",
    "\n",
    "\n",
    "fig, axs = plt.subplots(1, 1, figsize=(5,5))\n",
    "\n",
    "\n",
    "cax = axs.matshow(map_grid, cmap=\"viridis\", vmin=-1000, vmax=300)\n",
    "axs.set_title('DDPG\\n(Full oobservation)', loc='center')\n",
    "\n",
    "axs.set_xlabel('bfoot touch ground')\n",
    "axs.set_ylabel('ffoot touch ground')\n",
    "axs.set_xticks(np.linspace(0, N-1, num=11))\n",
    "axs.set_xticklabels(np.round(np.linspace(0, 1, num=11), 2))\n",
    "axs.set_yticks(np.linspace(0, N-1, num=11))\n",
    "axs.set_yticklabels(np.round(np.linspace(0, 1, num=11), 2))\n",
    "    \n",
    "fig.colorbar(cax, ax=axs, orientation='vertical', label='Reward')\n",
    "plt.show()"
   ]
  },
  {
   "cell_type": "code",
   "execution_count": null,
   "metadata": {},
   "outputs": [
    {
     "ename": "NameError",
     "evalue": "name 'ActorCriticContinuous' is not defined",
     "output_type": "error",
     "traceback": [
      "\u001b[0;31m---------------------------------------------------------------------------\u001b[0m",
      "\u001b[0;31mNameError\u001b[0m                                 Traceback (most recent call last)",
      "Cell \u001b[0;32mIn[17], line 1\u001b[0m\n\u001b[0;32m----> 1\u001b[0m model \u001b[38;5;241m=\u001b[39m \u001b[43mActorCriticContinuous\u001b[49m(\n\u001b[1;32m      2\u001b[0m     \u001b[38;5;241m1\u001b[39m,\n\u001b[1;32m      3\u001b[0m     state_dim,\n\u001b[1;32m      4\u001b[0m     action_dim,\n\u001b[1;32m      5\u001b[0m     same_init\u001b[38;5;241m=\u001b[39m\u001b[38;5;28;01mFalse\u001b[39;00m,\n\u001b[1;32m      6\u001b[0m     actor_hidden_layers\u001b[38;5;241m=\u001b[39m[\u001b[38;5;241m256\u001b[39m, \u001b[38;5;241m256\u001b[39m],\n\u001b[1;32m      7\u001b[0m     critic_hidden_layers\u001b[38;5;241m=\u001b[39m[\u001b[38;5;241m256\u001b[39m, \u001b[38;5;241m256\u001b[39m],\n\u001b[1;32m      8\u001b[0m     action_std\u001b[38;5;241m=\u001b[39m\u001b[38;5;241m0.5\u001b[39m\n\u001b[1;32m      9\u001b[0m )\u001b[38;5;241m.\u001b[39mto(device)\n\u001b[1;32m     11\u001b[0m model\u001b[38;5;241m.\u001b[39mload_state_dict(torch\u001b[38;5;241m.\u001b[39mload(\u001b[38;5;124m'\u001b[39m\u001b[38;5;124mmodels/halfcheetah/n_anchors=1.pt\u001b[39m\u001b[38;5;124m'\u001b[39m))\n",
      "\u001b[0;31mNameError\u001b[0m: name 'ActorCriticContinuous' is not defined"
     ]
    }
   ],
   "source": [
    "model = ActorCriticContinuous(\n",
    "    1,\n",
    "    state_dim,\n",
    "    action_dim,\n",
    "    same_init=False,\n",
    "    actor_hidden_layers=[256, 256],\n",
    "    critic_hidden_layers=[256, 256],\n",
    "    action_std=0.5\n",
    ").to(device)\n",
    "\n",
    "model.load_state_dict(torch.load('models/halfcheetah/n_anchors=1.pt'))\n"
   ]
  },
  {
   "cell_type": "code",
   "execution_count": null,
   "metadata": {},
   "outputs": [],
   "source": [
    "import gym"
   ]
  },
  {
   "cell_type": "code",
   "execution_count": 16,
   "metadata": {},
   "outputs": [],
   "source": [
    "one_env = gym.make('HalfCheetah-v4', render_mode=\"rgb_array\", max_episode_steps=100)"
   ]
  },
  {
   "cell_type": "code",
   "execution_count": 18,
   "metadata": {},
   "outputs": [
    {
     "name": "stderr",
     "output_type": "stream",
     "text": [
      "  0%|          | 0/3000 [00:00<?, ?it/s]\n"
     ]
    },
    {
     "ename": "ValueError",
     "evalue": "Action dimension mismatch",
     "output_type": "error",
     "traceback": [
      "\u001b[0;31m---------------------------------------------------------------------------\u001b[0m",
      "\u001b[0;31mValueError\u001b[0m                                Traceback (most recent call last)",
      "Cell \u001b[0;32mIn[18], line 13\u001b[0m\n\u001b[1;32m     11\u001b[0m     action, _, log_p, state_value, entropy \u001b[38;5;241m=\u001b[39m model(state)\n\u001b[1;32m     12\u001b[0m \u001b[38;5;66;03m# action = torch.normal(0, 1, size=(action.shape))\u001b[39;00m\n\u001b[0;32m---> 13\u001b[0m next_state, reward, terminated, truncated, _ \u001b[38;5;241m=\u001b[39m \u001b[43mone_env\u001b[49m\u001b[38;5;241;43m.\u001b[39;49m\u001b[43mstep\u001b[49m\u001b[43m(\u001b[49m\u001b[43mpost_process\u001b[49m\u001b[43m(\u001b[49m\u001b[43maction\u001b[49m\u001b[43m)\u001b[49m\u001b[43m[\u001b[49m\u001b[38;5;241;43m0\u001b[39;49m\u001b[43m]\u001b[49m\u001b[38;5;241;43m.\u001b[39;49m\u001b[43mcpu\u001b[49m\u001b[43m(\u001b[49m\u001b[43m)\u001b[49m\u001b[38;5;241;43m.\u001b[39;49m\u001b[43mtolist\u001b[49m\u001b[43m(\u001b[49m\u001b[43m)\u001b[49m\u001b[43m)\u001b[49m\n\u001b[1;32m     14\u001b[0m done \u001b[38;5;241m=\u001b[39m terminated \u001b[38;5;129;01mor\u001b[39;00m truncated\n\u001b[1;32m     16\u001b[0m \u001b[38;5;66;03m# Add data to memory\u001b[39;00m\n\u001b[1;32m     17\u001b[0m \u001b[38;5;66;03m# memory.add(state, action, reward, action_logprob, done)\u001b[39;00m\n",
      "File \u001b[0;32m~/.local/lib/python3.10/site-packages/gym/wrappers/time_limit.py:50\u001b[0m, in \u001b[0;36mTimeLimit.step\u001b[0;34m(self, action)\u001b[0m\n\u001b[1;32m     39\u001b[0m \u001b[38;5;28;01mdef\u001b[39;00m \u001b[38;5;21mstep\u001b[39m(\u001b[38;5;28mself\u001b[39m, action):\n\u001b[1;32m     40\u001b[0m \u001b[38;5;250m    \u001b[39m\u001b[38;5;124;03m\"\"\"Steps through the environment and if the number of steps elapsed exceeds ``max_episode_steps`` then truncate.\u001b[39;00m\n\u001b[1;32m     41\u001b[0m \n\u001b[1;32m     42\u001b[0m \u001b[38;5;124;03m    Args:\u001b[39;00m\n\u001b[0;32m   (...)\u001b[0m\n\u001b[1;32m     48\u001b[0m \n\u001b[1;32m     49\u001b[0m \u001b[38;5;124;03m    \"\"\"\u001b[39;00m\n\u001b[0;32m---> 50\u001b[0m     observation, reward, terminated, truncated, info \u001b[38;5;241m=\u001b[39m \u001b[38;5;28;43mself\u001b[39;49m\u001b[38;5;241;43m.\u001b[39;49m\u001b[43menv\u001b[49m\u001b[38;5;241;43m.\u001b[39;49m\u001b[43mstep\u001b[49m\u001b[43m(\u001b[49m\u001b[43maction\u001b[49m\u001b[43m)\u001b[49m\n\u001b[1;32m     51\u001b[0m     \u001b[38;5;28mself\u001b[39m\u001b[38;5;241m.\u001b[39m_elapsed_steps \u001b[38;5;241m+\u001b[39m\u001b[38;5;241m=\u001b[39m \u001b[38;5;241m1\u001b[39m\n\u001b[1;32m     53\u001b[0m     \u001b[38;5;28;01mif\u001b[39;00m \u001b[38;5;28mself\u001b[39m\u001b[38;5;241m.\u001b[39m_elapsed_steps \u001b[38;5;241m>\u001b[39m\u001b[38;5;241m=\u001b[39m \u001b[38;5;28mself\u001b[39m\u001b[38;5;241m.\u001b[39m_max_episode_steps:\n",
      "File \u001b[0;32m~/.local/lib/python3.10/site-packages/gym/wrappers/order_enforcing.py:37\u001b[0m, in \u001b[0;36mOrderEnforcing.step\u001b[0;34m(self, action)\u001b[0m\n\u001b[1;32m     35\u001b[0m \u001b[38;5;28;01mif\u001b[39;00m \u001b[38;5;129;01mnot\u001b[39;00m \u001b[38;5;28mself\u001b[39m\u001b[38;5;241m.\u001b[39m_has_reset:\n\u001b[1;32m     36\u001b[0m     \u001b[38;5;28;01mraise\u001b[39;00m ResetNeeded(\u001b[38;5;124m\"\u001b[39m\u001b[38;5;124mCannot call env.step() before calling env.reset()\u001b[39m\u001b[38;5;124m\"\u001b[39m)\n\u001b[0;32m---> 37\u001b[0m \u001b[38;5;28;01mreturn\u001b[39;00m \u001b[38;5;28;43mself\u001b[39;49m\u001b[38;5;241;43m.\u001b[39;49m\u001b[43menv\u001b[49m\u001b[38;5;241;43m.\u001b[39;49m\u001b[43mstep\u001b[49m\u001b[43m(\u001b[49m\u001b[43maction\u001b[49m\u001b[43m)\u001b[49m\n",
      "File \u001b[0;32m~/.local/lib/python3.10/site-packages/gym/wrappers/env_checker.py:37\u001b[0m, in \u001b[0;36mPassiveEnvChecker.step\u001b[0;34m(self, action)\u001b[0m\n\u001b[1;32m     35\u001b[0m \u001b[38;5;28;01mif\u001b[39;00m \u001b[38;5;28mself\u001b[39m\u001b[38;5;241m.\u001b[39mchecked_step \u001b[38;5;129;01mis\u001b[39;00m \u001b[38;5;28;01mFalse\u001b[39;00m:\n\u001b[1;32m     36\u001b[0m     \u001b[38;5;28mself\u001b[39m\u001b[38;5;241m.\u001b[39mchecked_step \u001b[38;5;241m=\u001b[39m \u001b[38;5;28;01mTrue\u001b[39;00m\n\u001b[0;32m---> 37\u001b[0m     \u001b[38;5;28;01mreturn\u001b[39;00m \u001b[43menv_step_passive_checker\u001b[49m\u001b[43m(\u001b[49m\u001b[38;5;28;43mself\u001b[39;49m\u001b[38;5;241;43m.\u001b[39;49m\u001b[43menv\u001b[49m\u001b[43m,\u001b[49m\u001b[43m \u001b[49m\u001b[43maction\u001b[49m\u001b[43m)\u001b[49m\n\u001b[1;32m     38\u001b[0m \u001b[38;5;28;01melse\u001b[39;00m:\n\u001b[1;32m     39\u001b[0m     \u001b[38;5;28;01mreturn\u001b[39;00m \u001b[38;5;28mself\u001b[39m\u001b[38;5;241m.\u001b[39menv\u001b[38;5;241m.\u001b[39mstep(action)\n",
      "File \u001b[0;32m~/.local/lib/python3.10/site-packages/gym/utils/passive_env_checker.py:214\u001b[0m, in \u001b[0;36menv_step_passive_checker\u001b[0;34m(env, action)\u001b[0m\n\u001b[1;32m    212\u001b[0m \u001b[38;5;250m\u001b[39m\u001b[38;5;124;03m\"\"\"A passive check for the environment step, investigating the returning data then returning the data unchanged.\"\"\"\u001b[39;00m\n\u001b[1;32m    213\u001b[0m \u001b[38;5;66;03m# We don't check the action as for some environments then out-of-bounds values can be given\u001b[39;00m\n\u001b[0;32m--> 214\u001b[0m result \u001b[38;5;241m=\u001b[39m \u001b[43menv\u001b[49m\u001b[38;5;241;43m.\u001b[39;49m\u001b[43mstep\u001b[49m\u001b[43m(\u001b[49m\u001b[43maction\u001b[49m\u001b[43m)\u001b[49m\n\u001b[1;32m    215\u001b[0m \u001b[38;5;28;01massert\u001b[39;00m \u001b[38;5;28misinstance\u001b[39m(\n\u001b[1;32m    216\u001b[0m     result, \u001b[38;5;28mtuple\u001b[39m\n\u001b[1;32m    217\u001b[0m ), \u001b[38;5;124mf\u001b[39m\u001b[38;5;124m\"\u001b[39m\u001b[38;5;124mExpects step result to be a tuple, actual type: \u001b[39m\u001b[38;5;132;01m{\u001b[39;00m\u001b[38;5;28mtype\u001b[39m(result)\u001b[38;5;132;01m}\u001b[39;00m\u001b[38;5;124m\"\u001b[39m\n\u001b[1;32m    218\u001b[0m \u001b[38;5;28;01mif\u001b[39;00m \u001b[38;5;28mlen\u001b[39m(result) \u001b[38;5;241m==\u001b[39m \u001b[38;5;241m4\u001b[39m:\n",
      "File \u001b[0;32m~/.local/lib/python3.10/site-packages/gym/envs/mujoco/half_cheetah_v4.py:190\u001b[0m, in \u001b[0;36mHalfCheetahEnv.step\u001b[0;34m(self, action)\u001b[0m\n\u001b[1;32m    188\u001b[0m \u001b[38;5;28;01mdef\u001b[39;00m \u001b[38;5;21mstep\u001b[39m(\u001b[38;5;28mself\u001b[39m, action):\n\u001b[1;32m    189\u001b[0m     x_position_before \u001b[38;5;241m=\u001b[39m \u001b[38;5;28mself\u001b[39m\u001b[38;5;241m.\u001b[39mdata\u001b[38;5;241m.\u001b[39mqpos[\u001b[38;5;241m0\u001b[39m]\n\u001b[0;32m--> 190\u001b[0m     \u001b[38;5;28;43mself\u001b[39;49m\u001b[38;5;241;43m.\u001b[39;49m\u001b[43mdo_simulation\u001b[49m\u001b[43m(\u001b[49m\u001b[43maction\u001b[49m\u001b[43m,\u001b[49m\u001b[43m \u001b[49m\u001b[38;5;28;43mself\u001b[39;49m\u001b[38;5;241;43m.\u001b[39;49m\u001b[43mframe_skip\u001b[49m\u001b[43m)\u001b[49m\n\u001b[1;32m    191\u001b[0m     x_position_after \u001b[38;5;241m=\u001b[39m \u001b[38;5;28mself\u001b[39m\u001b[38;5;241m.\u001b[39mdata\u001b[38;5;241m.\u001b[39mqpos[\u001b[38;5;241m0\u001b[39m]\n\u001b[1;32m    192\u001b[0m     x_velocity \u001b[38;5;241m=\u001b[39m (x_position_after \u001b[38;5;241m-\u001b[39m x_position_before) \u001b[38;5;241m/\u001b[39m \u001b[38;5;28mself\u001b[39m\u001b[38;5;241m.\u001b[39mdt\n",
      "File \u001b[0;32m~/.local/lib/python3.10/site-packages/gym/envs/mujoco/mujoco_env.py:156\u001b[0m, in \u001b[0;36mBaseMujocoEnv.do_simulation\u001b[0;34m(self, ctrl, n_frames)\u001b[0m\n\u001b[1;32m    154\u001b[0m \u001b[38;5;66;03m# Check control input is contained in the action space\u001b[39;00m\n\u001b[1;32m    155\u001b[0m \u001b[38;5;28;01mif\u001b[39;00m np\u001b[38;5;241m.\u001b[39marray(ctrl)\u001b[38;5;241m.\u001b[39mshape \u001b[38;5;241m!=\u001b[39m \u001b[38;5;28mself\u001b[39m\u001b[38;5;241m.\u001b[39maction_space\u001b[38;5;241m.\u001b[39mshape:\n\u001b[0;32m--> 156\u001b[0m     \u001b[38;5;28;01mraise\u001b[39;00m \u001b[38;5;167;01mValueError\u001b[39;00m(\u001b[38;5;124m\"\u001b[39m\u001b[38;5;124mAction dimension mismatch\u001b[39m\u001b[38;5;124m\"\u001b[39m)\n\u001b[1;32m    157\u001b[0m \u001b[38;5;28mself\u001b[39m\u001b[38;5;241m.\u001b[39m_step_mujoco_simulation(ctrl, n_frames)\n",
      "\u001b[0;31mValueError\u001b[0m: Action dimension mismatch"
     ]
    }
   ],
   "source": [
    "from time import sleep\n",
    "\n",
    "# alpha = torch.tensor([0.5.]).to(device)\n",
    "\n",
    "state, _ = one_env.reset()\n",
    "total_reward = 0\n",
    "tqdm_range = tqdm(range(max_timesteps))\n",
    "for t in tqdm_range:\n",
    "    state = torch.FloatTensor(state).to(device)\n",
    "    with torch.no_grad():\n",
    "        action, _, log_p, state_value, entropy = model(state)\n",
    "    # action = torch.normal(0, 1, size=(action.shape))\n",
    "    next_state, reward, terminated, truncated, _ = one_env.step(post_process(action)[0].cpu().tolist())\n",
    "    done = terminated or truncated\n",
    "    \n",
    "    # Add data to memory\n",
    "    # memory.add(state, action, reward, action_logprob, done)\n",
    "    state = next_state\n",
    "    total_reward += reward\n",
    "    \n",
    "    clear_output(True)\n",
    "    frame = one_env.render()\n",
    "    plt.imshow(frame)\n",
    "    plt.show()\n",
    "    \n",
    "    # print(env.get_body_com('ffoot'))\n",
    "    # print(env.data.body('bfoot').cfrc_int, env.data.body('ffoot').cfrc_int)\n",
    "    \n",
    "    \n",
    "    # print(env.data.body('ffoot').xipos)\n",
    "    # print(env.data.body('bfoot').cfrc_ext.any(), env.data.body('ffoot').cfrc_ext.any())\n",
    "    # print(env.data.contact)\n",
    "    print(5 in one_env.data.contact.geom2, 8 in one_env.data.contact.geom2)\n",
    "    \n",
    "    # if env.data.contact.H.shape[0] != 0:\n",
    "        # break\n",
    "    \n",
    "    if done:\n",
    "        break\n",
    "    \n",
    "    # sleep(1)\n",
    "    \n",
    "print(total_reward)"
   ]
  },
  {
   "cell_type": "code",
   "execution_count": null,
   "metadata": {},
   "outputs": [
    {
     "data": {
      "text/plain": [
       "array([5, 8], dtype=int32)"
      ]
     },
     "execution_count": 129,
     "metadata": {},
     "output_type": "execute_result"
    }
   ],
   "source": [
    "env.data.contact.geom2"
   ]
  },
  {
   "cell_type": "code",
   "execution_count": null,
   "metadata": {},
   "outputs": [
    {
     "data": {
      "text/plain": [
       "<bound method PyCapsule.body of <mujoco._structs.MjData object at 0x754a173cd070>>"
      ]
     },
     "execution_count": 102,
     "metadata": {},
     "output_type": "execute_result"
    }
   ],
   "source": [
    "env.data.body"
   ]
  },
  {
   "cell_type": "code",
   "execution_count": null,
   "metadata": {},
   "outputs": [
    {
     "data": {
      "text/plain": [
       "array([  0.        ,  22.1293691 ,   0.        , -52.90674133,\n",
       "         0.        , -13.8416032 ])"
      ]
     },
     "execution_count": 96,
     "metadata": {},
     "output_type": "execute_result"
    }
   ],
   "source": [
    "env.data.body('ffoot').cfrc_int"
   ]
  },
  {
   "cell_type": "code",
   "execution_count": null,
   "metadata": {},
   "outputs": [
    {
     "data": {
      "text/plain": [
       "array([  0.        , -65.58391056,   0.        , 124.25011867,\n",
       "         0.        , -41.76418074])"
      ]
     },
     "execution_count": 94,
     "metadata": {},
     "output_type": "execute_result"
    }
   ],
   "source": [
    "env.data.body('bfoot').cfrc_int"
   ]
  },
  {
   "cell_type": "code",
   "execution_count": null,
   "metadata": {},
   "outputs": [
    {
     "data": {
      "text/plain": [
       "<_MjDataBodyViews\n",
       "  cacc: array([   0.        , -731.05017666,    0.        ,  -51.67292521,\n",
       "          0.        ,  575.00922327])\n",
       "  cfrc_ext: array([0., 0., 0., 0., 0., 0.])\n",
       "  cfrc_int: array([  0.        , -65.58391056,   0.        , 124.25011867,\n",
       "         0.        , -41.76418074])\n",
       "  cinert: array([ 0.05770359,  0.76445357,  0.70785189,  0.        , -0.19661607,\n",
       "        0.        , -0.87857201,  0.        , -0.24193659,  1.09539749])\n",
       "  crb: array([ 0.05770359,  0.76445357,  0.70785189,  0.        , -0.19661607,\n",
       "        0.        , -0.87857201,  0.        , -0.24193659,  1.09539749])\n",
       "  cvel: array([ 0.        ,  7.11009233,  0.        ,  5.33851089,  0.        ,\n",
       "       -5.19108022])\n",
       "  id: 4\n",
       "  name: 'bfoot'\n",
       "  subtree_angmom: array([0., 0., 0.])\n",
       "  subtree_com: array([2.04672575, 0.        , 0.42603072])\n",
       "  subtree_linvel: array([0., 0., 0.])\n",
       "  xfrc_applied: array([0., 0., 0., 0., 0., 0.])\n",
       "  ximat: array([ 0.77652312,  0.        ,  0.63008876,  0.        ,  1.        ,\n",
       "        0.        , -0.63008876,  0.        ,  0.77652312])\n",
       "  xipos: array([2.04672575, 0.        , 0.42603072])\n",
       "  xmat: array([ 0.5803259 ,  0.        ,  0.81438433,  0.        ,  1.        ,\n",
       "        0.        , -0.81438433,  0.        ,  0.5803259 ])\n",
       "  xpos: array([2.10831126, 0.        , 0.50675386])\n",
       "  xquat: array([0.8889111 , 0.        , 0.45807974, 0.        ])\n",
       ">"
      ]
     },
     "execution_count": 95,
     "metadata": {},
     "output_type": "execute_result"
    }
   ],
   "source": [
    "env.data.body('bfoot')"
   ]
  },
  {
   "cell_type": "code",
   "execution_count": null,
   "metadata": {},
   "outputs": [
    {
     "data": {
      "text/plain": [
       "'03/11/2024-21:15:50'"
      ]
     },
     "execution_count": 45,
     "metadata": {},
     "output_type": "execute_result"
    }
   ],
   "source": [
    "from datetime import datetime\n",
    "now = datetime.now()\n",
    "formatted_time = now.strftime(\"%d/%m/%Y-%H:%M:%S\")\n",
    "formatted_time"
   ]
  },
  {
   "cell_type": "code",
   "execution_count": null,
   "metadata": {},
   "outputs": [
    {
     "ename": "AttributeError",
     "evalue": "module 'datetime' has no attribute 'now'",
     "output_type": "error",
     "traceback": [
      "\u001b[0;31m---------------------------------------------------------------------------\u001b[0m",
      "\u001b[0;31mAttributeError\u001b[0m                            Traceback (most recent call last)",
      "Cell \u001b[0;32mIn[42], line 1\u001b[0m\n\u001b[0;32m----> 1\u001b[0m \u001b[43mdatetime\u001b[49m\u001b[38;5;241;43m.\u001b[39;49m\u001b[43mnow\u001b[49m\n",
      "\u001b[0;31mAttributeError\u001b[0m: module 'datetime' has no attribute 'now'"
     ]
    }
   ],
   "source": [
    "datetime.now"
   ]
  }
 ],
 "metadata": {
  "kernelspec": {
   "display_name": "main_rl",
   "language": "python",
   "name": "python3"
  },
  "language_info": {
   "codemirror_mode": {
    "name": "ipython",
    "version": 3
   },
   "file_extension": ".py",
   "mimetype": "text/x-python",
   "name": "python",
   "nbconvert_exporter": "python",
   "pygments_lexer": "ipython3",
   "version": "3.10.12"
  }
 },
 "nbformat": 4,
 "nbformat_minor": 2
}
