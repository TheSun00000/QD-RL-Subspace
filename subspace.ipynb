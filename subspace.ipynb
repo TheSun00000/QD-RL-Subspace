{
 "cells": [
  {
   "cell_type": "code",
   "execution_count": 36,
   "metadata": {},
   "outputs": [],
   "source": [
    "import gym\n",
    "import torch\n",
    "import torch.nn as nn\n",
    "import torch.optim as optim\n",
    "import numpy as np\n",
    "\n",
    "from tqdm import tqdm\n",
    "from IPython.display import clear_output\n",
    "import matplotlib.pyplot as plt\n",
    "\n",
    "from utils import ActorCritic"
   ]
  },
  {
   "cell_type": "code",
   "execution_count": 37,
   "metadata": {},
   "outputs": [],
   "source": [
    "# Hyperparameters\n",
    "max_timesteps = 3000\n",
    "n_epochs = 10\n",
    "learning_rate = 0.0003\n",
    "gamma = 0.99\n",
    "eps_clip = 0.2\n",
    "K_epochs = 4\n",
    "action_std = 0.5\n",
    "batch_size = 64\n",
    "update_timestep = 2000"
   ]
  },
  {
   "cell_type": "code",
   "execution_count": 38,
   "metadata": {},
   "outputs": [],
   "source": [
    "def compute_gae(done, rewards, values, next_values, gamma=0.99, lambda_=0.95):\n",
    "    assert len(values) == len(next_values) == len(rewards) == len(done)\n",
    "\n",
    "    advantages = torch.zeros(done.shape[0], dtype=torch.float32)\n",
    "    returns = torch.zeros(done.shape[0], dtype=torch.float32)\n",
    "    last_advantage = 0\n",
    "    last_return = 0\n",
    "\n",
    "    for t in reversed(range(done.shape[0])):\n",
    "        mask = 1.0 - done[t]\n",
    "        last_value = next_values[t] * mask\n",
    "        last_advantage = last_advantage * mask\n",
    "        last_return = last_return * mask\n",
    "\n",
    "        delta = rewards[t] + gamma * last_value - values[t]\n",
    "        last_advantage = delta + gamma * lambda_ * last_advantage\n",
    "        last_return = rewards[t] + gamma * last_return\n",
    "\n",
    "        advantages[t] = last_advantage\n",
    "        returns[t] = last_return\n",
    "\n",
    "    return advantages, returns"
   ]
  },
  {
   "cell_type": "code",
   "execution_count": 39,
   "metadata": {},
   "outputs": [],
   "source": [
    "def collect_trajectories(env, model, alpha, n_steps):\n",
    "\n",
    "    states, actions, rewards, log_ps, state_values, dones = [], [], [], [], [], []\n",
    "\n",
    "    state, _ = env.reset()\n",
    "    \n",
    "\n",
    "    total_reward = 0\n",
    "    step_count = 0\n",
    "\n",
    "    for _ in range(n_steps):\n",
    "        state = torch.FloatTensor(state)\n",
    "        action, log_p, state_value, entropy = model(state, alpha)\n",
    "        next_state, reward, terminated, truncated, _ = env.step(action.item())\n",
    "        done = terminated or truncated\n",
    "\n",
    "        states.append(state)\n",
    "        actions.append(action)\n",
    "        rewards.append(reward)\n",
    "        log_ps.append(log_p)\n",
    "        state_values.append(state_value)\n",
    "        dones.append(done)\n",
    "\n",
    "        state = next_state\n",
    "        total_reward += reward\n",
    "        step_count += 1\n",
    "\n",
    "        if done:\n",
    "            state, _ = env.reset()\n",
    "            \n",
    "    next_value = model.critic(torch.FloatTensor(next_state).unsqueeze(0)).squeeze(0)\n",
    "    \n",
    "    states = torch.stack(states)\n",
    "    actions = torch.LongTensor(actions)\n",
    "    rewards = torch.LongTensor(rewards)\n",
    "    state_values = torch.FloatTensor(state_values)\n",
    "    dones = torch.LongTensor(dones)\n",
    "    next_state_values = torch.concatenate((state_values[1:], next_value))\n",
    "    \n",
    "    \n",
    "    advantages, returns = compute_gae(dones, rewards, state_values, next_state_values)\n",
    "         \n",
    "    # Normalize advantages\n",
    "    advantages = torch.FloatTensor(advantages)\n",
    "    returns = advantages + torch.FloatTensor(state_values)\n",
    "            \n",
    "    trajectories = {\n",
    "        \"states\" : states.detach(),\n",
    "        \"actions\" : actions.detach(),\n",
    "        \"rewards\" : rewards.detach(),\n",
    "        \"dones\" : dones.detach(),\n",
    "        \"log_ps\" : torch.stack(log_ps).detach(),\n",
    "        \"state_values\": state_values.detach(),\n",
    "        \"next_state_values\": next_state_values.detach(),\n",
    "        \"returns\" : returns.detach(),\n",
    "        \"advantages\" : advantages.detach(),\n",
    "    }\n",
    "    \n",
    "    return trajectories\n",
    "\n",
    "\n",
    "# trajectories = collect_trajectories(env, model, n_steps=128)\n",
    "\n",
    "# for key in trajectories:\n",
    "#     print(key, trajectories[key].shape)\n",
    "\n",
    "def shufffle_trajectory(trajectories):\n",
    "    length = trajectories['states'].shape[0]\n",
    "    permutation = torch.randperm(length)\n",
    "\n",
    "    shuffled_trajectories = {key: tensor[permutation] for key, tensor in trajectories.items()}\n",
    "    return shuffled_trajectories\n",
    "\n",
    "# shuffled_trajectories = shufffle_trajectory(trajectories)"
   ]
  },
  {
   "cell_type": "code",
   "execution_count": 40,
   "metadata": {},
   "outputs": [],
   "source": [
    "def ppo_optimization(trajectories, model, alpha, optimizer, epochs, batch_size):\n",
    "    \n",
    "    model.train()\n",
    "    \n",
    "    traj_states = trajectories[\"states\"]\n",
    "    traj_actions = trajectories[\"actions\"]\n",
    "    traj_log_ps = trajectories[\"log_ps\"]\n",
    "    traj_returns = trajectories[\"returns\"]  \n",
    "    traj_advantages = trajectories[\"advantages\"]\n",
    "\n",
    "\n",
    "    len_trajectory = traj_states.shape[0]\n",
    "\n",
    "    for epoch in range(1, epochs+1):\n",
    "        for i in range(len_trajectory // batch_size):\n",
    "            state = traj_states[batch_size*i:batch_size*(i+1)]\n",
    "            action = traj_actions[batch_size*i:batch_size*(i+1)]\n",
    "            log_p = traj_log_ps[batch_size*i:batch_size*(i+1)]\n",
    "            return_ = traj_returns[batch_size*i:batch_size*(i+1)]\n",
    "            advantage = traj_advantages[batch_size*i:batch_size*(i+1)]\n",
    "            \n",
    "            new_action, new_log_p, new_state_value, entropy = model(state, alpha, action)\n",
    "            assert(new_action == action).all()\n",
    "            \n",
    "            \n",
    "            advantage = (advantage - advantage.mean()) / (advantage.std() + 1e-8)\n",
    "                    \n",
    "            new_log_p, log_p, advantage = new_log_p.reshape(-1), log_p.reshape(-1), advantage.reshape(-1)\n",
    "            \n",
    "            ratio = torch.exp(new_log_p - log_p.detach())\n",
    "            surr1 = ratio * advantage\n",
    "            surr2 = torch.clamp(ratio, 1-0.2, 1+0.2) * advantage\n",
    "            policy_loss = - torch.min(surr1, surr2).mean()\n",
    "            \n",
    "            \n",
    "            return_, new_state_value = return_.reshape(-1), new_state_value.reshape(-1)\n",
    "\n",
    "            value_loss = ((return_ - new_state_value)**2).mean()\n",
    "\n",
    "            loss = policy_loss - 2e-7*entropy.mean() + 0.5*value_loss\n",
    "\n",
    "            optimizer.zero_grad()\n",
    "            loss.backward()\n",
    "            clip_factor = torch.nn.utils.clip_grad_norm_(model.parameters(), 0.5)\n",
    "            optimizer.step()\n",
    "            \n",
    "# ppo_optimization(trajectories, model, optimizer, epochs=1, batch_size=5)"
   ]
  },
  {
   "cell_type": "code",
   "execution_count": 77,
   "metadata": {},
   "outputs": [],
   "source": [
    "def evaluate(env, model, alpha):\n",
    "    model.eval()\n",
    "\n",
    "    state, _ = env.reset()\n",
    "        \n",
    "    total_reward = 0\n",
    "    step_count = 0\n",
    "\n",
    "    trajectory = []\n",
    "\n",
    "    while True:\n",
    "        trajectory.append(state)\n",
    "        state = torch.FloatTensor(state)\n",
    "        with torch.no_grad():\n",
    "            action, log_p, state_value, entropy = model(state, alpha)\n",
    "        next_state, reward, terminated, truncated, _ = env.step(action.item())\n",
    "        done = terminated or truncated\n",
    "\n",
    "        state = next_state\n",
    "        total_reward += reward\n",
    "        step_count += 1\n",
    "\n",
    "        \n",
    "        \n",
    "        if done:\n",
    "            break\n",
    "        \n",
    "    return step_count, trajectory"
   ]
  },
  {
   "cell_type": "code",
   "execution_count": 53,
   "metadata": {},
   "outputs": [],
   "source": [
    "def random_alpha(n_anchors):\n",
    "    random_probs = torch.rand(1, n_anchors)\n",
    "    proba_vector = random_probs / random_probs.sum(dim=1, keepdim=True)\n",
    "    return proba_vector[0]"
   ]
  },
  {
   "cell_type": "code",
   "execution_count": 142,
   "metadata": {},
   "outputs": [],
   "source": [
    "env = gym.make(\"CartPole-v1\")\n",
    "\n",
    "n_anchors = 2\n",
    "state_dim = env.observation_space.shape[0]\n",
    "action_dim = env.action_space.n\n"
   ]
  },
  {
   "cell_type": "code",
   "execution_count": 150,
   "metadata": {},
   "outputs": [
    {
     "data": {
      "image/png": "[encoded data removed]",
      "text/plain": [
       "<Figure size 640x480 with 1 Axes>"
      ]
     },
     "metadata": {},
     "output_type": "display_data"
    },
    {
     "name": "stderr",
     "output_type": "stream",
     "text": [
      "Reward: 500.0: 100%|██████████| 100/100 [00:37<00:00,  2.65it/s]\n"
     ]
    }
   ],
   "source": [
    "model = ActorCriticCategorical(\n",
    "    n_anchors,\n",
    "    state_dim,\n",
    "    action_dim,\n",
    "    same_init=True,\n",
    "    actor_hidden_layers=[64],\n",
    "    critic_hidden_layers=[64]\n",
    ")\n",
    "optimizer = optim.AdamW(model.parameters(), lr=0.01)\n",
    "\n",
    "rewards = []\n",
    "\n",
    "tqdm_epochs = tqdm(range(1, 100+1))\n",
    "for epochs in tqdm_epochs:\n",
    "    \n",
    "    alpha = random_alpha(n_anchors)\n",
    "    # alpha = torch.tensor([0.5, 0.5])\n",
    "    # print(alpha)\n",
    "    \n",
    "    trajectory = collect_trajectories(env, model, alpha, n_steps=1024)\n",
    "    shuffled_trajectory = shufffle_trajectory(trajectory)\n",
    "    ppo_optimization(shuffled_trajectory, model, alpha, optimizer, epochs=5, batch_size=256)\n",
    "    \n",
    "\n",
    "    # final_reward = np.mean([evaluate(env, model, torch.tensor([1., 0.])) for _ in range(1)])\n",
    "    final_reward = np.mean([evaluate(env, model, random_alpha(n_anchors))[0] for _ in range(1)])\n",
    "    rewards.append(final_reward)\n",
    "    \n",
    "    tqdm_epochs.set_description(f'Reward: {final_reward}')\n",
    "    \n",
    "    \n",
    "    if epochs % 1 == 0:\n",
    "        clear_output(True)\n",
    "        plt.plot(rewards)\n",
    "        plt.show()"
   ]
  },
  {
   "cell_type": "code",
   "execution_count": 151,
   "metadata": {},
   "outputs": [],
   "source": [
    "def get_descriptor(states):\n",
    "\n",
    "    distance_traveled = 0\n",
    "    angles_traveled = 0\n",
    "\n",
    "    for i in range(1, len(states)):\n",
    "        distance_traveled += abs(states[i][0] - states[i-1][0])\n",
    "        angles_traveled += abs(states[i][2] - states[i-1][2])\n",
    "\n",
    "    median_speed = np.median([states[i][1] for i in range(len(states))])\n",
    "    median_angular_speed = np.median([states[i][3] for i in range(len(states))])\n",
    "\n",
    "    return float(distance_traveled), float(angles_traveled), float(median_speed), float(median_angular_speed)"
   ]
  },
  {
   "cell_type": "code",
   "execution_count": 172,
   "metadata": {},
   "outputs": [
    {
     "name": "stderr",
     "output_type": "stream",
     "text": [
      "100%|██████████| 1000/1000 [01:08<00:00, 14.63it/s]\n"
     ]
    }
   ],
   "source": [
    "descriptors = []\n",
    "rewards = []\n",
    "for _ in tqdm(range(1000)):\n",
    "    reward, states = evaluate(env, model, random_alpha(n_anchors))\n",
    "    descriptors.append(get_descriptor(states))\n",
    "    rewards.append(reward)\n",
    "    \n",
    "descriptors_array = np.array(descriptors)"
   ]
  },
  {
   "cell_type": "code",
   "execution_count": 184,
   "metadata": {},
   "outputs": [
    {
     "name": "stderr",
     "output_type": "stream",
     "text": [
      "100%|██████████| 100/100 [00:05<00:00, 18.02it/s]\n",
      "100%|██████████| 100/100 [00:08<00:00, 12.32it/s]\n"
     ]
    }
   ],
   "source": [
    "anchor_descriptors = []\n",
    "for i in range(n_anchors):\n",
    "    # if i == 1:\n",
    "        alpha = torch.tensor([0.]*n_anchors)\n",
    "        alpha[i] = 1.\n",
    "        for _ in tqdm(range(100)):\n",
    "            _, states = evaluate(env, model, alpha)\n",
    "            anchor_descriptors.append(get_descriptor(states))\n",
    "    # break\n"
   ]
  },
  {
   "cell_type": "code",
   "execution_count": 185,
   "metadata": {},
   "outputs": [
    {
     "name": "stderr",
     "output_type": "stream",
     "text": [
      "/tmp/ipykernel_5629/3485009464.py:42: UserWarning: set_ticklabels() should only be used with a fixed number of ticks, i.e. after set_ticks() or using a FixedLocator.\n",
      "  axs.set_xticklabels(x1_bins.round(1))\n",
      "/tmp/ipykernel_5629/3485009464.py:43: UserWarning: set_ticklabels() should only be used with a fixed number of ticks, i.e. after set_ticks() or using a FixedLocator.\n",
      "  axs.set_yticklabels(x2_bins.round(1))\n"
     ]
    },
    {
     "data": {
      "image/png": "[encoded data removed]",
      "text/plain": [
       "<Figure size 500x500 with 2 Axes>"
      ]
     },
     "metadata": {},
     "output_type": "display_data"
    }
   ],
   "source": [
    "import matplotlib.pyplot as plt\n",
    "\n",
    "x1, x2 = 1, 2\n",
    "\n",
    "x1_min = descriptors_array[:, x1].min()\n",
    "x1_max = descriptors_array[:, x1].max()\n",
    "x2_min = descriptors_array[:, x2].min()\n",
    "x2_max = descriptors_array[:, x2].max()\n",
    "\n",
    "N = 75\n",
    "\n",
    "x1_bins = np.linspace(x1_min, x1_max, N)\n",
    "x2_bins = np.linspace(x2_min, x2_max, N)\n",
    "\n",
    "map_grid = np.full((N, N), np.nan)\n",
    "\n",
    "def get_bin(value, bins):\n",
    "    return np.digitize(value, bins) - 1\n",
    "\n",
    "\n",
    "for descriptor, reward in zip(descriptors, rewards):\n",
    "    feature1, feature2 = descriptor[x1], descriptor[x2]\n",
    "    f1_bin = get_bin(feature1, x1_bins)\n",
    "    f2_bin = get_bin(feature2, x2_bins)\n",
    "    map_grid[f1_bin][f2_bin] = reward\n",
    "    \n",
    "for descriptor in anchor_descriptors:\n",
    "    feature1, feature2 = descriptor[x1], descriptor[x2]\n",
    "    f1_bin = get_bin(feature1, x1_bins)\n",
    "    f2_bin = get_bin(feature2, x2_bins)\n",
    "    map_grid[f1_bin][f2_bin] = -1\n",
    "\n",
    "\n",
    "fig, axs = plt.subplots(1, 1, figsize=(5,5))\n",
    "\n",
    "\n",
    "cax = axs.matshow(map_grid, cmap=\"viridis\", vmin=0, vmax=500)\n",
    "axs.set_title('DDPG\\n(Full oobservation)', loc='center')\n",
    "\n",
    "axs.set_ylabel('Median Speed')\n",
    "axs.set_xlabel('Traveled Angular Distance')\n",
    "axs.set_xticklabels(x1_bins.round(1))\n",
    "axs.set_yticklabels(x2_bins.round(1))\n",
    "\n",
    "fig.colorbar(cax, ax=axs, orientation='vertical', label='Reward')\n",
    "plt.show()"
   ]
  },
  {
   "cell_type": "code",
   "execution_count": 15,
   "metadata": {},
   "outputs": [
    {
     "data": {
      "text/plain": [
       "Parameter containing:\n",
       "tensor([[-0.0121, -0.4261, -1.4711, -0.6037],\n",
       "        [ 0.2981,  0.5371,  2.4436,  0.6428],\n",
       "        [ 0.1864, -0.1016,  0.5864,  0.2272],\n",
       "        [ 0.0387, -0.1761,  0.2448, -0.1753],\n",
       "        [ 0.2565,  0.0590, -0.1187, -0.1157],\n",
       "        [ 0.0846, -0.1440,  0.6531,  0.5530],\n",
       "        [ 0.2185,  0.3672,  1.8319,  0.6872],\n",
       "        [-0.2589,  0.2016, -0.1390, -0.2313],\n",
       "        [-0.0100,  0.1635,  0.0509, -0.0963],\n",
       "        [ 0.2862,  0.1034,  0.2664,  0.2341],\n",
       "        [-0.0727, -0.0877,  0.1333, -0.1220],\n",
       "        [-0.1427, -0.1098, -0.4204, -0.5226],\n",
       "        [ 0.3680,  0.3992, -1.9358, -0.2089],\n",
       "        [ 0.0906, -0.0948, -0.4058,  0.0652],\n",
       "        [-0.0060,  0.0653,  1.5346,  1.0061],\n",
       "        [-0.0407, -0.1982,  0.3043,  0.1469],\n",
       "        [ 0.3366, -0.2492, -0.1052, -0.4823],\n",
       "        [-0.1128, -0.1373, -0.3459, -0.5769],\n",
       "        [-0.0102, -0.2757, -1.5832, -0.4992],\n",
       "        [ 0.2134, -0.2820, -0.1459, -0.1150],\n",
       "        [ 0.3685, -0.4426,  0.3329,  0.2199],\n",
       "        [ 0.5241,  0.3854,  1.4923, -0.0710],\n",
       "        [ 0.1013, -0.1815, -0.0611,  0.0468],\n",
       "        [ 0.2078, -0.0825, -0.4011, -0.2291],\n",
       "        [ 0.1458, -0.5119, -0.6517, -0.4546],\n",
       "        [-0.1729, -0.1702,  0.2309,  0.3202],\n",
       "        [-0.0915, -0.2872,  0.0279, -0.2281],\n",
       "        [ 0.1099, -0.1594,  1.3489,  1.3266],\n",
       "        [-0.1219,  0.1381, -0.0501, -0.1344],\n",
       "        [-0.0279,  0.4980,  1.0772,  0.4092],\n",
       "        [-0.1246, -0.6077, -0.8872, -0.4561],\n",
       "        [ 0.4061,  0.3452,  1.7040,  0.4921],\n",
       "        [-0.2582, -0.2970, -1.7022, -0.0223],\n",
       "        [ 0.2295, -0.1122, -0.3892, -0.2434],\n",
       "        [-0.0366, -0.0417,  0.4271, -0.2068],\n",
       "        [ 0.1943,  0.1327, -0.5587, -0.1563],\n",
       "        [-0.2317,  0.0417,  0.5745,  0.2696],\n",
       "        [ 0.0281, -0.0452,  0.3202,  0.4311],\n",
       "        [-0.0826,  0.1647,  0.6898, -0.2026],\n",
       "        [ 0.2111, -0.2008,  0.1886,  0.1637],\n",
       "        [-0.3123, -0.2137, -1.0020, -0.4097],\n",
       "        [ 0.0969, -0.0774,  1.4677,  1.3177],\n",
       "        [ 0.4944,  0.1060,  1.0805,  0.0208],\n",
       "        [ 0.4793,  0.1835, -1.2969, -0.9296],\n",
       "        [ 0.0685, -0.1039,  0.0539, -0.0994],\n",
       "        [ 0.1294, -0.2804,  0.7674,  0.9623],\n",
       "        [ 0.0883, -0.1306, -0.0486,  0.0670],\n",
       "        [-0.0261, -0.1409,  0.5441,  0.5505],\n",
       "        [ 0.0097, -0.6871, -0.9261, -0.5673],\n",
       "        [-0.1079,  0.1985,  1.0572,  0.2151],\n",
       "        [-0.0854, -0.3902, -1.4370, -0.6025],\n",
       "        [-0.1988,  0.0419,  0.2689, -0.2389],\n",
       "        [ 0.0517, -0.0612,  0.2862,  0.1781],\n",
       "        [ 0.4878,  0.0520,  0.4441, -0.2246],\n",
       "        [-0.1196, -0.0152, -0.9721, -0.3136],\n",
       "        [-0.3006,  0.4660,  0.6600,  0.6579],\n",
       "        [ 0.1243,  0.1991, -0.3803, -0.3401],\n",
       "        [-0.0283, -0.2502,  0.5973,  0.2558],\n",
       "        [ 0.0519, -0.1233,  0.1922, -0.0873],\n",
       "        [-0.0505, -0.0714,  0.2083, -0.1521],\n",
       "        [-0.0943, -0.3406, -1.7021, -0.6419],\n",
       "        [-0.2511, -0.3464, -1.8435, -0.5657],\n",
       "        [-0.1360, -0.0154, -0.4935, -0.3149],\n",
       "        [ 0.0399, -0.0574,  0.8042,  0.3279]], requires_grad=True)"
      ]
     },
     "execution_count": 15,
     "metadata": {},
     "output_type": "execute_result"
    }
   ],
   "source": [
    "list(model.actor[0].anchors[1].parameters())[0]"
   ]
  },
  {
   "cell_type": "code",
   "execution_count": 16,
   "metadata": {},
   "outputs": [
    {
     "data": {
      "text/plain": [
       "ActorCritic(\n",
       "  (actor): Sequential(\n",
       "    (0): Linear(\n",
       "      (anchors): ModuleList(\n",
       "        (0-1): 2 x Linear(in_features=4, out_features=64, bias=True)\n",
       "      )\n",
       "    )\n",
       "    (1): ReLU()\n",
       "    (2): Linear(\n",
       "      (anchors): ModuleList(\n",
       "        (0-1): 2 x Linear(in_features=64, out_features=2, bias=True)\n",
       "      )\n",
       "    )\n",
       "  )\n",
       "  (critic): Sequential(\n",
       "    (0): Linear(in_features=4, out_features=64, bias=True)\n",
       "    (1): ReLU()\n",
       "    (2): Linear(in_features=64, out_features=1, bias=True)\n",
       "  )\n",
       ")"
      ]
     },
     "execution_count": 16,
     "metadata": {},
     "output_type": "execute_result"
    }
   ],
   "source": [
    "model"
   ]
  }
 ],
 "metadata": {
  "kernelspec": {
   "display_name": "Python 3",
   "language": "python",
   "name": "python3"
  },
  "language_info": {
   "codemirror_mode": {
    "name": "ipython",
    "version": 3
   },
   "file_extension": ".py",
   "mimetype": "text/x-python",
   "name": "python",
   "nbconvert_exporter": "python",
   "pygments_lexer": "ipython3",
   "version": "3.10.12"
  }
 },
 "nbformat": 4,
 "nbformat_minor": 2
}
