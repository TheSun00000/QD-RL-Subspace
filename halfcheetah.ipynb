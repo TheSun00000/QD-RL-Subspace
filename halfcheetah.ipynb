{
 "cells": [
  {
   "cell_type": "code",
   "execution_count": 275,
   "metadata": {},
   "outputs": [],
   "source": [
    "import gym\n",
    "import torch\n",
    "import torch.nn as nn\n",
    "import torch.optim as optim\n",
    "import numpy as np\n",
    "\n",
    "from tqdm import tqdm\n",
    "from IPython.display import clear_output\n",
    "import matplotlib.pyplot as plt\n",
    "\n",
    "from utils.network import Sequential\n",
    "import random\n",
    "\n",
    "from gym.vector import SyncVectorEnv\n"
   ]
  },
  {
   "cell_type": "code",
   "execution_count": 276,
   "metadata": {},
   "outputs": [
    {
     "data": {
      "text/plain": [
       "'cuda'"
      ]
     },
     "execution_count": 276,
     "metadata": {},
     "output_type": "execute_result"
    }
   ],
   "source": [
    "import torch\n",
    "import torch.nn as nn\n",
    "import torch.nn.functional as F\n",
    "from torch.distributions import Categorical, Normal\n",
    "\n",
    "device = 'cuda' if torch.cuda.is_available() else 'cpu'\n",
    "# device = 'cpu'\n",
    "device"
   ]
  },
  {
   "cell_type": "code",
   "execution_count": 277,
   "metadata": {},
   "outputs": [],
   "source": [
    "# Hyperparameters\n",
    "max_timesteps = 3000\n",
    "n_epochs = 10\n",
    "learning_rate = 0.0003\n",
    "gamma = 0.99\n",
    "eps_clip = 0.2\n",
    "K_epochs = 4\n",
    "action_std = 0.5\n",
    "batch_size = 64\n",
    "update_timestep = 2000\n",
    "\n",
    "beta = 0.0\n",
    "\n",
    "BEHAVIOR_DIM = 5"
   ]
  },
  {
   "cell_type": "code",
   "execution_count": 278,
   "metadata": {},
   "outputs": [],
   "source": [
    "def compute_gae(done, rewards, values, next_values, gamma=0.99, lambda_=0.95):\n",
    "    assert len(values) == len(next_values) == len(rewards) == len(done)\n",
    "\n",
    "    advantages = torch.zeros(done.shape[0], dtype=torch.float32)\n",
    "    returns = torch.zeros(done.shape[0], dtype=torch.float32)\n",
    "    last_advantage = 0\n",
    "    last_return = 0\n",
    "\n",
    "    for t in reversed(range(done.shape[0])):\n",
    "        mask = 1.0 - done[t]\n",
    "        last_value = next_values[t] * mask\n",
    "        last_advantage = last_advantage * mask\n",
    "        last_return = last_return * mask\n",
    "\n",
    "        delta = rewards[t] + gamma * last_value - values[t]\n",
    "        last_advantage = delta + gamma * lambda_ * last_advantage\n",
    "        last_return = rewards[t] + gamma * last_return\n",
    "\n",
    "        advantages[t] = last_advantage\n",
    "        returns[t] = last_return\n",
    "\n",
    "    return advantages, returns"
   ]
  },
  {
   "cell_type": "code",
   "execution_count": 279,
   "metadata": {},
   "outputs": [],
   "source": [
    "class Linear(nn.Module):\n",
    "    def __init__(self, n_anchors, in_channels, out_channels, bias = True, same_init = False):\n",
    "        super().__init__()\n",
    "        self.n_anchors = n_anchors\n",
    "        self.in_channels = in_channels\n",
    "        self.out_channels = out_channels\n",
    "        self.is_bias = bias\n",
    "\n",
    "        if same_init:\n",
    "            anchor = nn.Linear(in_channels,out_channels,bias=self.is_bias)\n",
    "            anchors = [copy.deepcopy(anchor) for _ in range(n_anchors)]\n",
    "        else:\n",
    "            anchors = [nn.Linear(in_channels,out_channels,bias=self.is_bias) for _ in range(n_anchors)]\n",
    "        self.anchors = nn.ModuleList(anchors)\n",
    "\n",
    "    def forward(self, x, alpha):\n",
    "        \n",
    "        xs = [anchor(x) for anchor in self.anchors]\n",
    "        xs = torch.stack(xs,dim=-1)\n",
    "\n",
    "        # alpha = torch.stack([alpha] * self.out_channels, dim=-2)\n",
    "        # print(xs.shape, alpha.shape)\n",
    "        alpha = alpha.unsqueeze(1).repeat(1, self.out_channels, 1)\n",
    "        # print(xs.shape, alpha.shape)\n",
    "        # print(xs.shape, alpha.shape, self.out_channels)\n",
    "        # [8, 256, 2] [256, 2]\n",
    "        xs = (xs * alpha).sum(-1)\n",
    "        return xs\n",
    "    \n",
    "    \n",
    "    \n",
    "class Sequential(nn.Sequential):\n",
    "    def __init__(self,*args):\n",
    "        super().__init__(*args)\n",
    "\n",
    "    def forward(self, input, t):\n",
    "        # print(input.shape, t.shape)\n",
    "        for module in self:\n",
    "            input = module(input,t) if isinstance(module,Linear) else module(input)\n",
    "        return input\n",
    "\n",
    "\n",
    "class ActorCriticContinuous(nn.Module):\n",
    "    def __init__(self, n_anchors, state_dim, action_dim, same_init, actor_hidden_layers, critic_hidden_layers, action_std):\n",
    "        super(ActorCriticContinuous, self).__init__()\n",
    "        \n",
    "        # Define actor network\n",
    "        actor_layers = []\n",
    "        input_dim = state_dim\n",
    "        for hidden_dim in actor_hidden_layers:\n",
    "            actor_layers.append(Linear(n_anchors, input_dim, hidden_dim, same_init=same_init))\n",
    "            actor_layers.append(nn.ReLU())\n",
    "            input_dim = hidden_dim\n",
    "        actor_layers.append(Linear(n_anchors, input_dim, action_dim, same_init=same_init))\n",
    "        actor_layers.append(nn.Tanh())\n",
    "        self.actor = Sequential(*actor_layers)\n",
    "        self.n_anchors = n_anchors\n",
    "        \n",
    "        # Define critic network\n",
    "        critic_layers = []\n",
    "        input_dim = state_dim\n",
    "        for hidden_dim in critic_hidden_layers:\n",
    "            critic_layers.append(nn.Linear(input_dim, hidden_dim))\n",
    "            critic_layers.append(nn.ReLU())\n",
    "            input_dim = hidden_dim\n",
    "        critic_layers.append(nn.Linear(input_dim, 1))\n",
    "        self.critic = nn.Sequential(*critic_layers)\n",
    "        \n",
    "        self.action_var = nn.Parameter(torch.full((action_dim,), action_std**2, requires_grad=True))\n",
    "\n",
    "\n",
    "    def forward(self, x, alpha, action=None):\n",
    "        # print(f\"{alpha.shape=}\")\n",
    "        action_mean = self.actor(x, alpha)\n",
    "        cov_matrix = torch.exp(self.action_var)\n",
    "        dist = Normal(loc=action_mean, scale=cov_matrix)\n",
    "        \n",
    "        if action is None:\n",
    "            action = dist.sample()\n",
    "            \n",
    "        log_p = dist.log_prob(action).sum(dim=-1)\n",
    "        \n",
    "        value = self.critic(x)\n",
    "        \n",
    "        return action, action_mean, log_p, value, dist.entropy()\n",
    "    \n",
    "    \n",
    "    def cosine_similarity(self,i,j):\n",
    "        assert (i < self.n_anchors) and (j < self.n_anchors), \"index higher than n_anchors\"\n",
    "        cos_sim = torch.Tensor([0.]).to(device)\n",
    "        n = 0\n",
    "        for module in self.actor:\n",
    "            if isinstance(module,Linear):\n",
    "                w1 = module.anchors[i].weight\n",
    "                w2 = module.anchors[j].weight\n",
    "                p1 = ((w1 * w2).sum() / max(((w1 ** 2).sum().sqrt() * (w2 ** 2).sum().sqrt()),1e-8)) ** 2\n",
    "                b1 = module.anchors[i].bias\n",
    "                b2 = module.anchors[j].bias\n",
    "                p2 = ((b1 * b2).sum() / max(((b1 ** 2).sum().sqrt() * (b2 ** 2).sum().sqrt()),1e-8)) ** 2\n",
    "                cos_sim += p1 + p2\n",
    "                n += 2\n",
    "        return cos_sim / n"
   ]
  },
  {
   "cell_type": "code",
   "execution_count": 280,
   "metadata": {},
   "outputs": [],
   "source": [
    "class ConditionedActorCriticContinuous(nn.Module):\n",
    "    def __init__(self, n_anchors, state_dim, action_dim, same_init, actor_hidden_layers, critic_hidden_layers, action_std):\n",
    "        super(ConditionedActorCriticContinuous, self).__init__()\n",
    "        \n",
    "        # Define actor network\n",
    "        actor_layers = []\n",
    "        input_dim = state_dim + n_anchors\n",
    "        for hidden_dim in actor_hidden_layers:\n",
    "            actor_layers.append(nn.Linear(input_dim, hidden_dim))\n",
    "            actor_layers.append(nn.ReLU())\n",
    "            input_dim = hidden_dim\n",
    "        actor_layers.append(nn.Linear(input_dim, action_dim))\n",
    "        actor_layers.append(nn.Tanh())\n",
    "        self.actor = nn.Sequential(*actor_layers)\n",
    "        self.n_anchors = n_anchors\n",
    "        \n",
    "        # Define critic network\n",
    "        critic_layers = []\n",
    "        input_dim = state_dim + n_anchors\n",
    "        for hidden_dim in critic_hidden_layers:\n",
    "            critic_layers.append(nn.Linear(input_dim, hidden_dim))\n",
    "            critic_layers.append(nn.ReLU())\n",
    "            input_dim = hidden_dim\n",
    "        critic_layers.append(nn.Linear(input_dim, 1))\n",
    "        self.critic = nn.Sequential(*critic_layers)\n",
    "        \n",
    "        self.action_var = nn.Parameter(torch.full((action_dim,), action_std**2, requires_grad=True))\n",
    "\n",
    "\n",
    "    def forward(self, obs, alpha, action=None):\n",
    "        # print(f\"{alpha.shape=}\")\n",
    "        x = torch.concat((obs, alpha), dim=-1)\n",
    "\n",
    "        action_mean = self.actor(x)\n",
    "        cov_matrix = torch.exp(self.action_var)\n",
    "        dist = Normal(loc=action_mean, scale=cov_matrix)\n",
    "        \n",
    "        if action is None:\n",
    "            action = dist.sample()\n",
    "            \n",
    "        log_p = dist.log_prob(action).sum(dim=-1)\n",
    "        \n",
    "        value = self.critic(x)\n",
    "        \n",
    "        return action, action_mean, log_p, value, dist.entropy()"
   ]
  },
  {
   "cell_type": "code",
   "execution_count": 281,
   "metadata": {},
   "outputs": [],
   "source": [
    "class Discriminator(nn.Module):\n",
    "    def __init__(self, layer_sizes):\n",
    "        super(Discriminator, self).__init__()\n",
    "        \n",
    "        # Create a list of layers based on the provided layer_sizes\n",
    "        layers = []\n",
    "        for i in range(len(layer_sizes) - 1):\n",
    "            layers.append(nn.Linear(layer_sizes[i], layer_sizes[i + 1]))\n",
    "            if i < len(layer_sizes) - 2:  # Add activation for hidden layers only\n",
    "                layers.append(nn.ReLU())\n",
    "        \n",
    "        # Use nn.Sequential to combine the layers\n",
    "        self.model = nn.Sequential(*layers)\n",
    "    \n",
    "    def forward(self, x):\n",
    "        return self.model(x)"
   ]
  },
  {
   "cell_type": "code",
   "execution_count": 282,
   "metadata": {},
   "outputs": [],
   "source": [
    "def get_descriptor(info):\n",
    "    d1 = np.mean([d1 for (d1, d2) in info])\n",
    "    d2 = np.mean([d2 for (d1, d2) in info])\n",
    "    return d1, d2\n",
    "    # return np.mean(info['bfoot_touch_ground']), np.mean(info['ffoot_touch_ground'])\n",
    "    \n",
    "    \n",
    "def get_descriptors_from_trajectories(data):\n",
    "    \n",
    "    num_envs = data['info'].shape[0]\n",
    "    \n",
    "    descriptors = []\n",
    "    for n in range(num_envs):\n",
    "        env_n_descriptors = []\n",
    "        trajectory_info = []\n",
    "        for i in range(len(data['info'][n])):\n",
    "            # print(i)\n",
    "            trajectory_info.append(data['info'][n][i])\n",
    "            \n",
    "            if data['done'][n][i] == True:\n",
    "                d1, d2 = get_descriptor(trajectory_info)\n",
    "                # d1, d2 = round(d1*BEHAVIOR_DIM), round(d2*BEHAVIOR_DIM)\n",
    "                descriptors.append((d1, d2))\n",
    "        \n",
    "        # descriptors.append(env_n_descriptors)\n",
    "        \n",
    "    return descriptors\n",
    "\n",
    "\n",
    "\n",
    "\n",
    "def descriptors_to_vectors(descriptors):\n",
    "    vectors = []\n",
    "    for (d1, d2) in descriptors:\n",
    "        vector = [0]*(BEHAVIOR_DIM**2)\n",
    "        vector[d1*BEHAVIOR_DIM+d2] = 1\n",
    "        vectors.append(vector)\n",
    "    return vectors\n",
    "\n",
    "def descriptors_to_id(descriptors):\n",
    "    ids = []\n",
    "    for (d1, d2) in descriptors:\n",
    "        ids.append(d1*BEHAVIOR_DIM+d2)\n",
    "    return ids"
   ]
  },
  {
   "cell_type": "code",
   "execution_count": 283,
   "metadata": {},
   "outputs": [],
   "source": [
    "def random_alpha(n, n_anchors):\n",
    "    random_probs = torch.rand(n, n_anchors)\n",
    "    proba_vector = random_probs / random_probs.sum(dim=1, keepdim=True)\n",
    "    return proba_vector"
   ]
  },
  {
   "cell_type": "code",
   "execution_count": 284,
   "metadata": {},
   "outputs": [],
   "source": [
    "def compute_diversity_reward(model, alpha, states):\n",
    "    \n",
    "\n",
    "    # print(f'{alpha.shape=:}')\n",
    "    \n",
    "    n_anchors = model.n_anchors\n",
    "    \n",
    "    num_envs, n_steps, state_dim = states.shape\n",
    "\n",
    "    d_alpha = alpha.unsqueeze(1).repeat(1, n_steps, 1)\n",
    "    d_states = states.to(device)\n",
    "    \n",
    "\n",
    "    # action, action_mean, log_p, state_value, entropy = model(d_states.reshape(-1, 17), d_alpha.reshape(-1, 2))\n",
    "    # action_mean = action_mean.reshape(num_envs, n_steps, -1) # (alpha, state, action)\n",
    "    \n",
    "    # print(f'{d_alpha.shape=:} {d_states.shape=:}')\n",
    "    \n",
    "    diversity_reward = torch.zeros((num_envs, n_steps), dtype=torch.float32)\n",
    "    \n",
    "    for alpha_i in range(num_envs):\n",
    "        \n",
    "        d_states = states[alpha_i]\n",
    "        d_states = d_states.unsqueeze(0).repeat(num_envs, 1, 1).to(device) # (alpha, n_steps, state)\n",
    "        \n",
    "        d_alpha = alpha.unsqueeze(1).repeat(1, n_steps, 1) # (alpha, n_steps, n_anchors)\n",
    "        \n",
    "        with torch.no_grad():\n",
    "            action, action_mean, log_p, state_value, entropy = model(d_states.reshape(-1, 17), d_alpha.reshape(-1, n_anchors))\n",
    "        action_mean = action_mean.reshape(num_envs, n_steps, -1).cpu() # (alpha, n_steps, action)\n",
    "        # print(f'{d_alpha.shape=:} {d_states.shape=:} {action_mean.shape=:}')\n",
    "        \n",
    "        for s in range(n_steps):\n",
    "            count = 0\n",
    "            \n",
    "            for alpha_j in range(num_envs):\n",
    "                if alpha_i != alpha_j:\n",
    "                    diversity_reward[alpha_i, s] += ((action_mean[alpha_i, s] - action_mean[alpha_j, s])**2).sum()\n",
    "                    count += 1\n",
    "                    \n",
    "            diversity_reward[alpha_i, s] /= count\n",
    "\n",
    "    # diversity_value = diversity_value / count\n",
    "    # print(diversity_reward.shape)\n",
    "    # for i in range\n",
    "    return diversity_reward"
   ]
  },
  {
   "cell_type": "code",
   "execution_count": 285,
   "metadata": {},
   "outputs": [],
   "source": [
    "# trajectory, info = collect_trajectories(env, model, discriminator, alpha, n_steps=max_episode_steps)"
   ]
  },
  {
   "cell_type": "code",
   "execution_count": 286,
   "metadata": {},
   "outputs": [],
   "source": [
    "\n",
    "\n",
    "\n",
    "\n",
    "def collect_trajectories(env, model, discriminator: Discriminator, alpha: torch.tensor, n_steps: int):\n",
    "    \n",
    "    states = np.zeros((env.num_envs, n_steps, env.single_observation_space.shape[0]), dtype=np.float32)\n",
    "    actions = np.zeros((env.num_envs, n_steps, env.single_action_space.shape[0]), dtype=np.float32)\n",
    "    rewards = np.zeros((env.num_envs, n_steps), dtype=np.float32)\n",
    "    log_ps = np.zeros((env.num_envs, n_steps), dtype=np.float32)\n",
    "    state_values = np.zeros((env.num_envs, n_steps), dtype=np.float32)\n",
    "    dones = np.zeros((env.num_envs, n_steps), dtype=np.float32)\n",
    "    info = np.zeros((env.num_envs, n_steps, 2), dtype=np.float32)\n",
    "    \n",
    "    advantages = np.zeros((env.num_envs, n_steps), dtype=np.float32)\n",
    "\n",
    "    state, _ = env.reset()\n",
    "    \n",
    "\n",
    "    total_reward = 0\n",
    "    step_count = 0\n",
    "\n",
    "    for s in range(n_steps):\n",
    "        state = torch.FloatTensor(state).to(device)\n",
    "        # print(state.shape, alpha.shape)\n",
    "        with torch.no_grad():\n",
    "            action, action_mean, log_p, state_value, entropy = model(state, alpha)\n",
    "        next_state, reward, terminated, truncated, _ = env.step(action.cpu().tolist())\n",
    "        done = (terminated | truncated)\n",
    "        \n",
    "        states[:, s] = state.cpu()\n",
    "        actions[:, s] = action.cpu()\n",
    "        rewards[:, s] = reward\n",
    "        log_ps[:, s] = log_p.cpu().detach().numpy()\n",
    "        state_values[:, s] = state_value.cpu().detach().reshape(-1).numpy()\n",
    "        dones[:, s] = done\n",
    "        info[:, s] = [(int(5 in env_.data.contact.geom2), int(8 in env_.data.contact.geom2)) for env_ in env.envs]        \n",
    "\n",
    "        state = next_state\n",
    "        # total_reward += reward\n",
    "        # step_count += 1\n",
    "\n",
    "        if done.any():\n",
    "            # state, _ = env.reset(np.where(dones)[0])\n",
    "            state, _ = env.reset()\n",
    "    \n",
    "    \n",
    "    \n",
    "    # # # # # # # # # # # # # # # # # # # # # # # # # # # # # # # # # # # # # # # # # # # # # # # # # # # # # # # # # \n",
    "    # Discriminator reward:\n",
    "    # # # # # # # # # # # # # # # # # # # # # # # # # # # # # # # # # # # # # # # # # # # # # # # # # # # # # # # # # \n",
    "    # descriptors = descriptors_to_id(get_descriptors_from_trajectories({'info': info, 'done': dones}))\n",
    "    # descriptors = torch.tensor(descriptors).to(device)\n",
    "    \n",
    "    # with torch.no_grad():\n",
    "    #     probs = torch.softmax(discriminator(alpha), dim=-1)\n",
    "        \n",
    "    # prob_d_a = probs.gather(1, descriptors.unsqueeze(1)).reshape(-1)\n",
    "    # prob_d_a_rewards = prob_d_a.unsqueeze(1).repeat(1, 1000).cpu().numpy()\n",
    "    # rewards = prob_d_a_rewards\n",
    "    # # # # # # # # # # # # # # # # # # # # # # # # # # # # # # # # # # # # # # # # # # # # # # # # # # # # # # # # # \n",
    "    descriptors = get_descriptors_from_trajectories({'info': info, 'done': dones})\n",
    "    descriptors = torch.tensor(descriptors).to(device)\n",
    "    \n",
    "    # rewards = ((BEHAVIOR_DIM-1) - abs((alpha[:, 0]*BEHAVIOR_DIM).int() - 1))/(BEHAVIOR_DIM-1)\n",
    "    # rewards = ((BEHAVIOR_DIM-1) - abs(descriptors - torch.tensor((1., 1.)).to(device))) / (BEHAVIOR_DIM-1)\n",
    "    # print(descriptors)\n",
    "    # rewards = - torch.norm(descriptors - torch.tensor((1., 1.)).to(device), dim=1)\n",
    "    # rewards = rewards.unsqueeze(1).repeat(1, 1000).cpu().numpy()\n",
    "    # print(descriptors)\n",
    "    # print(rewards)\n",
    "    # tmp = torch.zeros((env.num_envs, n_steps), dtype=torch.float32)\n",
    "    # print(rewards)\n",
    "    # tmp[:, -1] = rewards\n",
    "    # rewards = tmp\n",
    "    \n",
    "    # print(rewards)\n",
    "    \n",
    "    \n",
    "    # rewards = torch.tensor(info).sum(dim=2).float()\n",
    "    # rewards = torch.tensor(info)[..., 0].float()\n",
    "    # print(rewards)\n",
    "    \n",
    "    \n",
    "    critic_x = torch.concat((torch.FloatTensor(next_state).to(device), alpha), dim=-1)\n",
    "    next_value = model.critic(critic_x).cpu()    \n",
    "    \n",
    "        \n",
    "    states = torch.tensor(states)\n",
    "    actions = torch.tensor(actions)\n",
    "    rewards = torch.tensor(rewards)\n",
    "    # rewards = rewards * compute_diversity_reward(model, alpha, states)\n",
    "    \n",
    "    log_ps = torch.tensor(log_ps)\n",
    "    state_values = torch.tensor(state_values)\n",
    "    dones = torch.tensor(dones)\n",
    "    next_state_values = torch.concatenate((state_values[:, 1:], next_value), dim=-1)\n",
    "    \n",
    "\n",
    "    advantages, returns = [], []\n",
    "    for i in range(env.num_envs):\n",
    "        a, r = compute_gae(dones[i], rewards[i], state_values[i], next_state_values[i])\n",
    "        advantages.append(a)\n",
    "        returns.append(r)\n",
    "    advantages = torch.stack(advantages)\n",
    "    returns = torch.stack(returns)\n",
    "\n",
    "    \n",
    "    trajectories = {\n",
    "        \"alphas\": alpha.unsqueeze(1).repeat(1, n_steps, 1).reshape(-1, model.n_anchors),\n",
    "        \"states\" :  states.reshape(-1, env.single_observation_space.shape[0]).detach(),\n",
    "        \"actions\" : actions.reshape(-1, env.single_action_space.shape[0]).detach(),\n",
    "        \"rewards\" : rewards.reshape(-1).detach(),\n",
    "        \"dones\" : dones.reshape(-1).detach(),\n",
    "        \"log_ps\" : log_ps.reshape(-1).detach(),\n",
    "        \"state_values\": state_values.reshape(-1).detach(),\n",
    "        \"next_state_values\": next_state_values.reshape(-1).detach(),\n",
    "        \"returns\" : returns.reshape(-1).detach(),\n",
    "        \"advantages\" : advantages.reshape(-1).detach(),\n",
    "    }\n",
    "\n",
    "    return trajectories, {'info':info, 'done':dones, 'reward': rewards}\n",
    "\n",
    "\n",
    "def shufffle_trajectory(trajectories):\n",
    "    length = trajectories['states'].shape[0]\n",
    "    permutation = torch.randperm(length)\n",
    "\n",
    "    shuffled_trajectories = {key: tensor[permutation] for key, tensor in trajectories.items()}\n",
    "    return shuffled_trajectories"
   ]
  },
  {
   "cell_type": "code",
   "execution_count": 287,
   "metadata": {},
   "outputs": [],
   "source": [
    "# trajectory, info = collect_trajectories(env, model, discriminator, alpha, n_steps=max_episode_steps)"
   ]
  },
  {
   "cell_type": "code",
   "execution_count": 288,
   "metadata": {},
   "outputs": [],
   "source": [
    "def compute_diversity_loss(model, states, num_alpha=8):\n",
    "    \n",
    "    batch_size = states.shape[0]\n",
    "\n",
    "    alpha = random_alpha(num_alpha, model.n_anchors).to(device)\n",
    "    d_alpha = alpha.unsqueeze(0).repeat(batch_size, 1, 1)\n",
    "\n",
    "    d_states = states.unsqueeze(1).repeat(1, num_alpha, 1)\n",
    "\n",
    "    action, action_mean, log_p, state_value, entropy = model(d_states.reshape(-1, 17), d_alpha.reshape(-1, 2))\n",
    "    action_mean = action_mean.reshape(batch_size, num_alpha, -1) # (state, alpha, action)\n",
    "\n",
    "    state_alpha_alpha_mat = ((action_mean[:, :, None, :] - action_mean[:, None, :, :])**2).sum(dim=(-1))\n",
    "    for i in range(num_alpha): state_alpha_alpha_mat[:, i, i] = 0\n",
    "\n",
    "    state_diversity = state_alpha_alpha_mat.sum(dim=(-1, -2)) / (num_alpha*(num_alpha-1))\n",
    "    diversity_loss = state_diversity.mean()\n",
    "    return diversity_loss\n",
    "\n",
    "\n",
    "\n",
    "def ppo_optimization(trajectories, model, optimizer, epochs, batch_size):\n",
    "    \n",
    "    model.train()\n",
    "    \n",
    "    traj_alphas = trajectories[\"alphas\"]\n",
    "    traj_states = trajectories[\"states\"]\n",
    "    traj_actions = trajectories[\"actions\"]\n",
    "    traj_log_ps = trajectories[\"log_ps\"]\n",
    "    traj_returns = trajectories[\"returns\"]  \n",
    "    traj_advantages = trajectories[\"advantages\"]\n",
    "\n",
    "\n",
    "    len_trajectory = traj_states.shape[0]\n",
    "\n",
    "    for epoch in range(1, epochs+1):\n",
    "        for i in range(len_trajectory // batch_size):\n",
    "            alpha = traj_alphas[batch_size*i:batch_size*(i+1)].to(device)\n",
    "            state = traj_states[batch_size*i:batch_size*(i+1)].to(device)\n",
    "            action = traj_actions[batch_size*i:batch_size*(i+1)].to(device)\n",
    "            log_p = traj_log_ps[batch_size*i:batch_size*(i+1)].to(device)\n",
    "            return_ = traj_returns[batch_size*i:batch_size*(i+1)].to(device)\n",
    "            advantage = traj_advantages[batch_size*i:batch_size*(i+1)].to(device)\n",
    "                        \n",
    "            # print(alpha)\n",
    "            new_action, new_action_mean, new_log_p, new_state_value, entropy = model(state, alpha, action)\n",
    "            assert(new_action == action).all()\n",
    "            \n",
    "            \n",
    "            advantage = (advantage - advantage.mean()) / (advantage.std() + 1e-8)\n",
    "\n",
    "            new_log_p, log_p, advantage = new_log_p.reshape(-1), log_p.reshape(-1), advantage.reshape(-1)\n",
    "            \n",
    "            ratio = torch.exp(new_log_p - log_p.detach())\n",
    "            surr1 = ratio * advantage\n",
    "            surr2 = torch.clamp(ratio, 1-0.2, 1+0.2) * advantage\n",
    "            policy_loss = - torch.min(surr1, surr2).mean()\n",
    "            \n",
    "            # print(policy_loss)\n",
    "            \n",
    "            \n",
    "            return_, new_state_value = return_.reshape(-1), new_state_value.reshape(-1)\n",
    "            critic_loss = ((return_ - new_state_value)**2).mean()\n",
    "            \n",
    "            penalty = 0\n",
    "            diversity_loss = torch.tensor([0.])\n",
    "            # if model.n_anchors > 1:\n",
    "            #     j,k = random.sample(range(model.n_anchors),2)\n",
    "            #     penalty = model.cosine_similarity(j,k)\n",
    "            \n",
    "                # diversity_loss = compute_diversity_loss(model, state, num_alpha=8)\n",
    "\n",
    "            # loss = policy_loss - 2e-7*entropy.mean() + 0.5*critic_loss + beta*penalty - 0.01*diversity_loss\n",
    "            loss = policy_loss - 2e-7*entropy.mean() + 0.5*critic_loss + beta*penalty\n",
    "\n",
    "            optimizer.zero_grad()\n",
    "            loss.backward()\n",
    "            clip_factor = torch.nn.utils.clip_grad_norm_(model.parameters(), 0.5)\n",
    "            optimizer.step()\n",
    "    \n",
    "    return diversity_loss.item()\n",
    "# ppo_optimization(trajectories, model, optimizer, epochs=1, batch_size=5)\n",
    "# ppo_optimization(shuffled_trajectory, model, alpha, optimizer, epochs=5, batch_size=256)"
   ]
  },
  {
   "cell_type": "code",
   "execution_count": 289,
   "metadata": {},
   "outputs": [],
   "source": [
    "def evaluate(env, model, alpha):\n",
    "    model.eval()\n",
    "\n",
    "    state, _ = env.reset()\n",
    "        \n",
    "    total_reward = 0\n",
    "    step_count = 0\n",
    "\n",
    "    trajectory = []\n",
    "    info = []\n",
    "    \n",
    "\n",
    "    while True:\n",
    "        trajectory.append(state)\n",
    "        state = torch.FloatTensor(state).to(device).unsqueeze(0)\n",
    "        with torch.no_grad():\n",
    "            action, mean_action, log_p, state_value, entropy = model(state, alpha)\n",
    "        next_state, reward, terminated, truncated, _ = env.step(action[0].cpu().tolist())\n",
    "\n",
    "        info.append((\n",
    "            int(5 in env.data.contact.geom2), int(8 in env.data.contact.geom2)\n",
    "        ))\n",
    "        \n",
    "        done = terminated or truncated\n",
    "\n",
    "        state = next_state\n",
    "        total_reward += reward\n",
    "        step_count += 1\n",
    "        \n",
    "        \n",
    "        if done:\n",
    "            break\n",
    "        \n",
    "    return total_reward, trajectory, info\n",
    "\n",
    "\n",
    "def get_reward_from_trajectory(info):\n",
    "    save_ = []\n",
    "    acc_reward = 0\n",
    "    for n in range(len(info['reward'])):\n",
    "        for i in range(len(info['reward'][n])):\n",
    "            if info['done'][n][i] == True:\n",
    "                save_.append(acc_reward)\n",
    "                acc_reward = 0\n",
    "            \n",
    "            acc_reward += info['reward'][n][i]\n",
    "    return np.mean(save_)"
   ]
  },
  {
   "cell_type": "code",
   "execution_count": 290,
   "metadata": {},
   "outputs": [],
   "source": [
    "# env = gym.vector.make('HalfCheetah-v4', render_mode = \"rgb_array\", num_envs=8)\n",
    "\n",
    "max_episode_steps = 1000\n",
    "num_envs = 8\n",
    "env_fns = [lambda: gym.make('HalfCheetah-v4', render_mode=\"rgb_array\", max_episode_steps=max_episode_steps) for _ in range(num_envs)]\n",
    "env = gym.vector.SyncVectorEnv(env_fns)\n",
    "\n",
    "n_anchors = 2\n",
    "state_dim = env.observation_space.shape[-1]\n",
    "action_dim = env.action_space.shape[-1]\n"
   ]
  },
  {
   "cell_type": "code",
   "execution_count": 291,
   "metadata": {},
   "outputs": [
    {
     "name": "stderr",
     "output_type": "stream",
     "text": [
      "Reward: -1175.31:   0%|          | 1/2000 [00:01<51:18,  1.54s/it]"
     ]
    },
    {
     "name": "stdout",
     "output_type": "stream",
     "text": [
      "[(0.071, 0.15), (0.04, 0.102), (0.033, 0.138), (0.108, 0.278), (0.124, 0.25), (0.004, 0.036), (0.091, 0.286), (0.028, 0.041)]\n"
     ]
    },
    {
     "name": "stderr",
     "output_type": "stream",
     "text": [
      "Reward: -1105.18:   0%|          | 2/2000 [00:03<51:39,  1.55s/it]"
     ]
    },
    {
     "name": "stdout",
     "output_type": "stream",
     "text": [
      "[(0.116, 0.273), (0.016, 0.055), (0.056, 0.237), (0.035, 0.111), (0.047, 0.115), (0.044, 0.108), (0.009, 0.027), (0.071, 0.118)]\n"
     ]
    },
    {
     "name": "stderr",
     "output_type": "stream",
     "text": [
      "Reward: -1118.09:   0%|          | 3/2000 [00:04<50:26,  1.52s/it]"
     ]
    },
    {
     "name": "stdout",
     "output_type": "stream",
     "text": [
      "[(0.057, 0.1), (0.088, 0.224), (0.093, 0.264), (0.013, 0.033), (0.02, 0.029), (0.003, 0.007), (0.079, 0.128), (0.032, 0.069)]\n"
     ]
    },
    {
     "name": "stderr",
     "output_type": "stream",
     "text": [
      "Reward: -1079.31:   0%|          | 4/2000 [00:06<50:01,  1.50s/it]"
     ]
    },
    {
     "name": "stdout",
     "output_type": "stream",
     "text": [
      "[(0.036, 0.088), (0.047, 0.09), (0.014, 0.045), (0.01, 0.025), (0.016, 0.024), (0.088, 0.175), (0.006, 0.032), (0.025, 0.057)]\n"
     ]
    },
    {
     "name": "stderr",
     "output_type": "stream",
     "text": [
      "Reward: -1079.31:   0%|          | 4/2000 [00:07<1:01:24,  1.85s/it]\n"
     ]
    },
    {
     "ename": "KeyboardInterrupt",
     "evalue": "",
     "output_type": "error",
     "traceback": [
      "\u001b[0;31m---------------------------------------------------------------------------\u001b[0m",
      "\u001b[0;31mKeyboardInterrupt\u001b[0m                         Traceback (most recent call last)",
      "Cell \u001b[0;32mIn[291], line 32\u001b[0m\n\u001b[1;32m     30\u001b[0m alpha \u001b[38;5;241m=\u001b[39m random_alpha(env\u001b[38;5;241m.\u001b[39mnum_envs, n_anchors)\u001b[38;5;241m.\u001b[39mto(device)\n\u001b[1;32m     31\u001b[0m trajectory, info \u001b[38;5;241m=\u001b[39m collect_trajectories(env, model, discriminator, alpha, n_steps\u001b[38;5;241m=\u001b[39mmax_episode_steps)\n\u001b[0;32m---> 32\u001b[0m descriptors \u001b[38;5;241m=\u001b[39m \u001b[43mget_descriptors_from_trajectories\u001b[49m\u001b[43m(\u001b[49m\u001b[43minfo\u001b[49m\u001b[43m)\u001b[49m\n\u001b[1;32m     34\u001b[0m all_alphas \u001b[38;5;241m+\u001b[39m\u001b[38;5;241m=\u001b[39m alpha\u001b[38;5;241m.\u001b[39mtolist()\n\u001b[1;32m     35\u001b[0m all_descriptors \u001b[38;5;241m+\u001b[39m\u001b[38;5;241m=\u001b[39m descriptors\n",
      "Cell \u001b[0;32mIn[282], line 20\u001b[0m, in \u001b[0;36mget_descriptors_from_trajectories\u001b[0;34m(data)\u001b[0m\n\u001b[1;32m     16\u001b[0m \u001b[38;5;28;01mfor\u001b[39;00m i \u001b[38;5;129;01min\u001b[39;00m \u001b[38;5;28mrange\u001b[39m(\u001b[38;5;28mlen\u001b[39m(data[\u001b[38;5;124m'\u001b[39m\u001b[38;5;124minfo\u001b[39m\u001b[38;5;124m'\u001b[39m][n])):\n\u001b[1;32m     17\u001b[0m     \u001b[38;5;66;03m# print(i)\u001b[39;00m\n\u001b[1;32m     18\u001b[0m     trajectory_info\u001b[38;5;241m.\u001b[39mappend(data[\u001b[38;5;124m'\u001b[39m\u001b[38;5;124minfo\u001b[39m\u001b[38;5;124m'\u001b[39m][n][i])\n\u001b[0;32m---> 20\u001b[0m     \u001b[38;5;28;01mif\u001b[39;00m data[\u001b[38;5;124m'\u001b[39m\u001b[38;5;124mdone\u001b[39m\u001b[38;5;124m'\u001b[39m][n][i] \u001b[38;5;241m==\u001b[39m \u001b[38;5;28;01mTrue\u001b[39;00m:\n\u001b[1;32m     21\u001b[0m         d1, d2 \u001b[38;5;241m=\u001b[39m get_descriptor(trajectory_info)\n\u001b[1;32m     22\u001b[0m         \u001b[38;5;66;03m# d1, d2 = round(d1*BEHAVIOR_DIM), round(d2*BEHAVIOR_DIM)\u001b[39;00m\n",
      "\u001b[0;31mKeyboardInterrupt\u001b[0m: "
     ]
    }
   ],
   "source": [
    "model = ConditionedActorCriticContinuous(\n",
    "    n_anchors,\n",
    "    state_dim,\n",
    "    action_dim,\n",
    "    same_init=False,\n",
    "    actor_hidden_layers=[256, 256],\n",
    "    critic_hidden_layers=[256, 256],\n",
    "    action_std=0.5\n",
    ").to(device)\n",
    "optimizer = torch.optim.AdamW(model.parameters(), lr=0.0003)\n",
    "\n",
    "\n",
    "discriminator = Discriminator([n_anchors, 256, BEHAVIOR_DIM**2]).to(device)\n",
    "disc_optim = torch.optim.Adam(discriminator.parameters(), lr=0.01)\n",
    "\n",
    "\n",
    "rewards = []\n",
    "all_descriptors = []\n",
    "all_alphas = []\n",
    "\n",
    "H_d_a_list = []\n",
    "H_d_list = []\n",
    "cross_entropies = []\n",
    "diversity_lossses = []\n",
    "\n",
    "tqdm_epochs = tqdm(range(1, 2000+1))\n",
    "for epochs in tqdm_epochs:\n",
    "    \n",
    "    for _ in range(1):\n",
    "        alpha = random_alpha(env.num_envs, n_anchors).to(device)\n",
    "        trajectory, info = collect_trajectories(env, model, discriminator, alpha, n_steps=max_episode_steps)\n",
    "        descriptors = get_descriptors_from_trajectories(info)\n",
    "        \n",
    "        all_alphas += alpha.tolist()\n",
    "        all_descriptors += descriptors\n",
    "        print(descriptors)\n",
    "    \n",
    "    \n",
    "    if epochs % 2 == -1:\n",
    "        \n",
    "        d = torch.tensor(descriptors_to_id(all_descriptors), dtype=torch.long).to(device)\n",
    "        a = torch.tensor(all_alphas, dtype=torch.float32).to(device)\n",
    "        pred_d = discriminator(a)\n",
    "\n",
    "\n",
    "        probs = torch.softmax(pred_d, dim=-1)\n",
    "        dist = torch.distributions.Categorical(probs=probs)\n",
    "        H_d_a = dist.entropy().mean()\n",
    "        \n",
    "        log_prob_d_a = torch.log(probs.gather(1, d.unsqueeze(1))).mean()\n",
    "        \n",
    "\n",
    "        prob_d = probs.mean(dim=0)\n",
    "        dist = torch.distributions.Categorical(probs=prob_d)\n",
    "        H_d = dist.entropy()\n",
    "        \n",
    "        \n",
    "        # loss = H_d_a - 4*H_d\n",
    "        loss = - log_prob_d_a - 10*H_d\n",
    "        \n",
    "        disc_optim.zero_grad()\n",
    "        loss.backward()\n",
    "        disc_optim.step()\n",
    "        \n",
    "        H_d_a_list.append(H_d_a.item())\n",
    "        H_d_list.append(H_d.item())\n",
    "        cross_entropies.append(-log_prob_d_a.item())\n",
    "        \n",
    "        all_descriptors = []\n",
    "        all_alphas = []\n",
    "        \n",
    "        print(prob_d)\n",
    "        # print(d)\n",
    "        \n",
    "    \n",
    "    shuffled_trajectory = shufffle_trajectory(trajectory)\n",
    "    diversity_loss = ppo_optimization(shuffled_trajectory, model, optimizer, epochs=4, batch_size=512)\n",
    "    diversity_lossses.append(diversity_loss)\n",
    "    \n",
    "    # final_reward = np.mean([evaluate(env, model, random_alpha(n_anchors).to(device))[0] for _ in range(1)])\n",
    "    final_reward = get_reward_from_trajectory(info)\n",
    "    rewards.append(max(final_reward, -3000))\n",
    "    \n",
    "    tqdm_epochs.set_description(f'Reward: {final_reward:.2f}')\n",
    "    \n",
    "    \n",
    "    if epochs % 10 == 0:\n",
    "        clear_output(True)\n",
    "        fig, axes = plt.subplots(1, 2, figsize=(12, 5))\n",
    "\n",
    "        axes[0].plot(rewards)\n",
    "        axes[0].set_title('Rewards')\n",
    "        axes[0].set_xlabel('Epoch')\n",
    "        axes[0].set_ylabel('Reward')\n",
    "\n",
    "        # axes[1].plot(H_d_list, label='H(d)')\n",
    "        # axes[1].plot(H_d_a_list, label='H(d|a)')\n",
    "        # axes[1].plot(cross_entropies, label='-log(d|a)')\n",
    "        axes[1].plot(diversity_lossses, label='diversity_losss')\n",
    "        # axes[1].set_title('H_d_list and H_d_a_list')\n",
    "        # axes[1].set_xlabel('Epoch')\n",
    "        # axes[1].set_ylabel('Value')\n",
    "        # axes[1].legend()\n",
    "\n",
    "        # Display the plots\n",
    "        plt.tight_layout()\n",
    "        plt.show()"
   ]
  },
  {
   "cell_type": "markdown",
   "metadata": {},
   "source": [
    "---"
   ]
  },
  {
   "cell_type": "code",
   "execution_count": null,
   "metadata": {},
   "outputs": [
    {
     "name": "stderr",
     "output_type": "stream",
     "text": [
      "/tmpdata/ipykernel_872636/1171200678.py:11: FutureWarning: You are using `torch.load` with `weights_only=False` (the current default value), which uses the default pickle module implicitly. It is possible to construct malicious pickle data which will execute arbitrary code during unpickling (See https://github.com/pytorch/pytorch/blob/main/SECURITY.md#untrusted-models for more details). In a future release, the default value for `weights_only` will be flipped to `True`. This limits the functions that could be executed during unpickling. Arbitrary objects will no longer be allowed to be loaded via this mode unless they are explicitly allowlisted by the user via `torch.serialization.add_safe_globals`. We recommend you start setting `weights_only=True` for any use case where you don't have full control of the loaded file. Please open an issue on GitHub for any issues related to this experimental feature.\n",
      "  model.load_state_dict(torch.load('models/halfcheetah/n_anchors=1.pt'))\n"
     ]
    },
    {
     "data": {
      "text/plain": [
       "<All keys matched successfully>"
      ]
     },
     "execution_count": 22,
     "metadata": {},
     "output_type": "execute_result"
    }
   ],
   "source": [
    "# model = ActorCriticContinuous(\n",
    "#     1,\n",
    "#     state_dim,\n",
    "#     action_dim,\n",
    "#     same_init=True,\n",
    "#     actor_hidden_layers=[256, 256],\n",
    "#     critic_hidden_layers=[256, 256],\n",
    "#     action_std=0.5\n",
    "# ).to(device)\n",
    "\n",
    "# model.load_state_dict(torch.load('models/halfcheetah/n_anchors=1.pt'))"
   ]
  },
  {
   "cell_type": "code",
   "execution_count": null,
   "metadata": {},
   "outputs": [
    {
     "data": {
      "text/plain": [
       "tensor([[0.7396, 0.2604]])"
      ]
     },
     "execution_count": 235,
     "metadata": {},
     "output_type": "execute_result"
    }
   ],
   "source": [
    "random_alpha(1, n_anchors)"
   ]
  },
  {
   "cell_type": "code",
   "execution_count": null,
   "metadata": {},
   "outputs": [
    {
     "name": "stderr",
     "output_type": "stream",
     "text": [
      "  0%|          | 0/100 [00:00<?, ?it/s]/home/nazim/.local/lib/python3.10/site-packages/gym/utils/passive_env_checker.py:233: DeprecationWarning: `np.bool8` is a deprecated alias for `np.bool_`.  (Deprecated NumPy 1.24)\n",
      "  if not isinstance(terminated, (bool, np.bool8)):\n",
      "100%|██████████| 100/100 [00:47<00:00,  2.10it/s]\n"
     ]
    }
   ],
   "source": [
    "single_env = gym.make('HalfCheetah-v4', render_mode=\"rgb_array\", max_episode_steps=max_episode_steps)\n",
    "\n",
    "descriptors = []\n",
    "desc_rewards = []\n",
    "\n",
    "for _ in tqdm(range(100)):\n",
    "    reward, states, info = evaluate(single_env, model, random_alpha(1, n_anchors).to(device))\n",
    "    descriptors.append(get_descriptor(info))\n",
    "    rewards.append(reward)\n",
    "    \n",
    "descriptors_array = np.array(descriptors)"
   ]
  },
  {
   "cell_type": "code",
   "execution_count": null,
   "metadata": {},
   "outputs": [
    {
     "data": {
      "image/png": "[encoded data removed]",
      "text/plain": [
       "<Figure size 500x500 with 2 Axes>"
      ]
     },
     "metadata": {},
     "output_type": "display_data"
    }
   ],
   "source": [
    "import matplotlib.pyplot as plt\n",
    "\n",
    "x1, x2 = 0, 1\n",
    "\n",
    "x1_min = 0\n",
    "x1_max = 1\n",
    "x2_min = 0\n",
    "x2_max = 1\n",
    "\n",
    "N = 30\n",
    "\n",
    "x1_bins = np.linspace(x1_min, x1_max, N)\n",
    "x2_bins = np.linspace(x2_min, x2_max, N)\n",
    "\n",
    "map_grid = np.full((N, N), np.nan)\n",
    "\n",
    "\n",
    "def get_bin(value, bins):\n",
    "    return np.digitize(value, bins) - 1\n",
    "\n",
    "\n",
    "for descriptor, reward in zip(descriptors, rewards):\n",
    "    feature1, feature2 = descriptor[x1], descriptor[x2]\n",
    "    f1_bin = get_bin(feature1, x1_bins)\n",
    "    f2_bin = get_bin(feature2, x2_bins)\n",
    "    \n",
    "    if np.isnan(map_grid[f1_bin, f2_bin]):\n",
    "        map_grid[f1_bin][f2_bin] = reward\n",
    "    else:\n",
    "        map_grid[f1_bin][f2_bin] = max(map_grid[f1_bin][f2_bin], reward) \n",
    "\n",
    "\n",
    "fig, axs = plt.subplots(1, 1, figsize=(5,5))\n",
    "\n",
    "\n",
    "cax = axs.matshow(map_grid, cmap=\"viridis\", vmin=-1000, vmax=300)\n",
    "axs.set_title('DDPG\\n(Full oobservation)', loc='center')\n",
    "\n",
    "axs.set_xlabel('bfoot touch ground')\n",
    "axs.set_ylabel('ffoot touch ground')\n",
    "axs.set_xticks(np.linspace(0, N-1, num=11))\n",
    "axs.set_xticklabels(np.round(np.linspace(0, 1, num=11), 2))\n",
    "axs.set_yticks(np.linspace(0, N-1, num=11))\n",
    "axs.set_yticklabels(np.round(np.linspace(0, 1, num=11), 2))\n",
    "    \n",
    "fig.colorbar(cax, ax=axs, orientation='vertical', label='Reward')\n",
    "plt.show()"
   ]
  },
  {
   "cell_type": "code",
   "execution_count": null,
   "metadata": {},
   "outputs": [
    {
     "data": {
      "text/plain": [
       "<All keys matched successfully>"
      ]
     },
     "execution_count": 78,
     "metadata": {},
     "output_type": "execute_result"
    }
   ],
   "source": [
    "model = ActorCriticContinuous(\n",
    "    1,\n",
    "    state_dim,\n",
    "    action_dim,\n",
    "    same_init=False,\n",
    "    actor_hidden_layers=[256, 256],\n",
    "    critic_hidden_layers=[256, 256],\n",
    "    action_std=0.5\n",
    ").to(device)\n",
    "\n",
    "model.load_state_dict(torch.load('models/halfcheetah/n_anchors=1.pt'))\n"
   ]
  },
  {
   "cell_type": "code",
   "execution_count": null,
   "metadata": {},
   "outputs": [],
   "source": [
    "import gym"
   ]
  },
  {
   "cell_type": "code",
   "execution_count": null,
   "metadata": {},
   "outputs": [],
   "source": [
    "one_env = gym.make('HalfCheetah-v4', render_mode=\"rgb_array\", max_episode_steps=100)"
   ]
  },
  {
   "cell_type": "code",
   "execution_count": null,
   "metadata": {},
   "outputs": [
    {
     "data": {
      "image/png": "[encoded data removed]",
      "text/plain": [
       "<Figure size 640x480 with 1 Axes>"
      ]
     },
     "metadata": {},
     "output_type": "display_data"
    },
    {
     "name": "stderr",
     "output_type": "stream",
     "text": [
      "  3%|▎         | 99/3000 [00:08<04:02, 11.95it/s]"
     ]
    },
    {
     "name": "stdout",
     "output_type": "stream",
     "text": [
      "False True\n",
      "-2945.8035999225435\n"
     ]
    },
    {
     "name": "stderr",
     "output_type": "stream",
     "text": [
      "\n"
     ]
    }
   ],
   "source": [
    "from time import sleep\n",
    "\n",
    "alpha = torch.tensor([0.5.]).to(device)\n",
    "\n",
    "state, _ = one_env.reset()\n",
    "total_reward = 0\n",
    "tqdm_range = tqdm(range(max_timesteps))\n",
    "for t in tqdm_range:\n",
    "    state = torch.FloatTensor(state).to(device)\n",
    "    with torch.no_grad():\n",
    "        action, log_p, state_value, entropy = model(state, alpha)\n",
    "    # action = torch.normal(0, 1, size=(action.shape))\n",
    "    next_state, reward, terminated, truncated, _ = one_env.step(action[0].cpu().tolist())\n",
    "    done = terminated or truncated\n",
    "    \n",
    "    # Add data to memory\n",
    "    # memory.add(state, action, reward, action_logprob, done)\n",
    "    state = next_state\n",
    "    total_reward += reward\n",
    "    \n",
    "    clear_output(True)\n",
    "    frame = one_env.render()\n",
    "    plt.imshow(frame)\n",
    "    plt.show()\n",
    "    \n",
    "    # print(env.get_body_com('ffoot'))\n",
    "    # print(env.data.body('bfoot').cfrc_int, env.data.body('ffoot').cfrc_int)\n",
    "    \n",
    "    \n",
    "    # print(env.data.body('ffoot').xipos)\n",
    "    # print(env.data.body('bfoot').cfrc_ext.any(), env.data.body('ffoot').cfrc_ext.any())\n",
    "    # print(env.data.contact)\n",
    "    print(5 in one_env.data.contact.geom2, 8 in one_env.data.contact.geom2)\n",
    "    \n",
    "    # if env.data.contact.H.shape[0] != 0:\n",
    "        # break\n",
    "    \n",
    "    if done:\n",
    "        break\n",
    "    \n",
    "    # sleep(1)\n",
    "    \n",
    "print(total_reward)"
   ]
  },
  {
   "cell_type": "code",
   "execution_count": null,
   "metadata": {},
   "outputs": [
    {
     "data": {
      "text/plain": [
       "array([5, 8], dtype=int32)"
      ]
     },
     "execution_count": 129,
     "metadata": {},
     "output_type": "execute_result"
    }
   ],
   "source": [
    "env.data.contact.geom2"
   ]
  },
  {
   "cell_type": "code",
   "execution_count": null,
   "metadata": {},
   "outputs": [
    {
     "data": {
      "text/plain": [
       "<bound method PyCapsule.body of <mujoco._structs.MjData object at 0x754a173cd070>>"
      ]
     },
     "execution_count": 102,
     "metadata": {},
     "output_type": "execute_result"
    }
   ],
   "source": [
    "env.data.body"
   ]
  },
  {
   "cell_type": "code",
   "execution_count": null,
   "metadata": {},
   "outputs": [
    {
     "data": {
      "text/plain": [
       "array([  0.        ,  22.1293691 ,   0.        , -52.90674133,\n",
       "         0.        , -13.8416032 ])"
      ]
     },
     "execution_count": 96,
     "metadata": {},
     "output_type": "execute_result"
    }
   ],
   "source": [
    "env.data.body('ffoot').cfrc_int"
   ]
  },
  {
   "cell_type": "code",
   "execution_count": null,
   "metadata": {},
   "outputs": [
    {
     "data": {
      "text/plain": [
       "array([  0.        , -65.58391056,   0.        , 124.25011867,\n",
       "         0.        , -41.76418074])"
      ]
     },
     "execution_count": 94,
     "metadata": {},
     "output_type": "execute_result"
    }
   ],
   "source": [
    "env.data.body('bfoot').cfrc_int"
   ]
  },
  {
   "cell_type": "code",
   "execution_count": null,
   "metadata": {},
   "outputs": [
    {
     "data": {
      "text/plain": [
       "<_MjDataBodyViews\n",
       "  cacc: array([   0.        , -731.05017666,    0.        ,  -51.67292521,\n",
       "          0.        ,  575.00922327])\n",
       "  cfrc_ext: array([0., 0., 0., 0., 0., 0.])\n",
       "  cfrc_int: array([  0.        , -65.58391056,   0.        , 124.25011867,\n",
       "         0.        , -41.76418074])\n",
       "  cinert: array([ 0.05770359,  0.76445357,  0.70785189,  0.        , -0.19661607,\n",
       "        0.        , -0.87857201,  0.        , -0.24193659,  1.09539749])\n",
       "  crb: array([ 0.05770359,  0.76445357,  0.70785189,  0.        , -0.19661607,\n",
       "        0.        , -0.87857201,  0.        , -0.24193659,  1.09539749])\n",
       "  cvel: array([ 0.        ,  7.11009233,  0.        ,  5.33851089,  0.        ,\n",
       "       -5.19108022])\n",
       "  id: 4\n",
       "  name: 'bfoot'\n",
       "  subtree_angmom: array([0., 0., 0.])\n",
       "  subtree_com: array([2.04672575, 0.        , 0.42603072])\n",
       "  subtree_linvel: array([0., 0., 0.])\n",
       "  xfrc_applied: array([0., 0., 0., 0., 0., 0.])\n",
       "  ximat: array([ 0.77652312,  0.        ,  0.63008876,  0.        ,  1.        ,\n",
       "        0.        , -0.63008876,  0.        ,  0.77652312])\n",
       "  xipos: array([2.04672575, 0.        , 0.42603072])\n",
       "  xmat: array([ 0.5803259 ,  0.        ,  0.81438433,  0.        ,  1.        ,\n",
       "        0.        , -0.81438433,  0.        ,  0.5803259 ])\n",
       "  xpos: array([2.10831126, 0.        , 0.50675386])\n",
       "  xquat: array([0.8889111 , 0.        , 0.45807974, 0.        ])\n",
       ">"
      ]
     },
     "execution_count": 95,
     "metadata": {},
     "output_type": "execute_result"
    }
   ],
   "source": [
    "env.data.body('bfoot')"
   ]
  },
  {
   "cell_type": "code",
   "execution_count": null,
   "metadata": {},
   "outputs": [
    {
     "data": {
      "text/plain": [
       "'03/11/2024-21:15:50'"
      ]
     },
     "execution_count": 45,
     "metadata": {},
     "output_type": "execute_result"
    }
   ],
   "source": [
    "from datetime import datetime\n",
    "now = datetime.now()\n",
    "formatted_time = now.strftime(\"%d/%m/%Y-%H:%M:%S\")\n",
    "formatted_time"
   ]
  },
  {
   "cell_type": "code",
   "execution_count": null,
   "metadata": {},
   "outputs": [
    {
     "ename": "AttributeError",
     "evalue": "module 'datetime' has no attribute 'now'",
     "output_type": "error",
     "traceback": [
      "\u001b[0;31m---------------------------------------------------------------------------\u001b[0m",
      "\u001b[0;31mAttributeError\u001b[0m                            Traceback (most recent call last)",
      "Cell \u001b[0;32mIn[42], line 1\u001b[0m\n\u001b[0;32m----> 1\u001b[0m \u001b[43mdatetime\u001b[49m\u001b[38;5;241;43m.\u001b[39;49m\u001b[43mnow\u001b[49m\n",
      "\u001b[0;31mAttributeError\u001b[0m: module 'datetime' has no attribute 'now'"
     ]
    }
   ],
   "source": [
    "datetime.now"
   ]
  }
 ],
 "metadata": {
  "kernelspec": {
   "display_name": "main_rl",
   "language": "python",
   "name": "python3"
  },
  "language_info": {
   "codemirror_mode": {
    "name": "ipython",
    "version": 3
   },
   "file_extension": ".py",
   "mimetype": "text/x-python",
   "name": "python",
   "nbconvert_exporter": "python",
   "pygments_lexer": "ipython3",
   "version": "3.10.12"
  }
 },
 "nbformat": 4,
 "nbformat_minor": 2
}
