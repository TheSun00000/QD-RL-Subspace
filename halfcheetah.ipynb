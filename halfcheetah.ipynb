{
 "cells": [
  {
   "cell_type": "code",
   "execution_count": 11,
   "metadata": {},
   "outputs": [],
   "source": [
    "import gym\n",
    "import torch\n",
    "import torch.nn as nn\n",
    "import torch.optim as optim\n",
    "import numpy as np\n",
    "\n",
    "from tqdm import tqdm\n",
    "from IPython.display import clear_output\n",
    "import matplotlib.pyplot as plt\n",
    "\n",
    "from utils.network import Linear, Sequential\n",
    "import random"
   ]
  },
  {
   "cell_type": "code",
   "execution_count": 12,
   "metadata": {},
   "outputs": [
    {
     "data": {
      "text/plain": [
       "'cpu'"
      ]
     },
     "execution_count": 12,
     "metadata": {},
     "output_type": "execute_result"
    }
   ],
   "source": [
    "import torch\n",
    "import torch.nn as nn\n",
    "import torch.nn.functional as F\n",
    "from torch.distributions import Categorical, Normal\n",
    "\n",
    "device = 'cuda' if torch.cuda.is_available() else 'cpu'\n",
    "device = 'cpu'\n",
    "device"
   ]
  },
  {
   "cell_type": "code",
   "execution_count": 13,
   "metadata": {},
   "outputs": [],
   "source": [
    "# Hyperparameters\n",
    "max_timesteps = 3000\n",
    "n_epochs = 10\n",
    "learning_rate = 0.0003\n",
    "gamma = 0.99\n",
    "eps_clip = 0.2\n",
    "K_epochs = 4\n",
    "action_std = 0.5\n",
    "batch_size = 64\n",
    "update_timestep = 2000\n",
    "\n",
    "beta = 0.0"
   ]
  },
  {
   "cell_type": "code",
   "execution_count": 14,
   "metadata": {},
   "outputs": [],
   "source": [
    "def compute_gae(done, rewards, values, next_values, gamma=0.99, lambda_=0.95):\n",
    "    assert len(values) == len(next_values) == len(rewards) == len(done)\n",
    "\n",
    "    advantages = torch.zeros(done.shape[0], dtype=torch.float32)\n",
    "    returns = torch.zeros(done.shape[0], dtype=torch.float32)\n",
    "    last_advantage = 0\n",
    "    last_return = 0\n",
    "\n",
    "    for t in reversed(range(done.shape[0])):\n",
    "        mask = 1.0 - done[t]\n",
    "        last_value = next_values[t] * mask\n",
    "        last_advantage = last_advantage * mask\n",
    "        last_return = last_return * mask\n",
    "\n",
    "        delta = rewards[t] + gamma * last_value - values[t]\n",
    "        last_advantage = delta + gamma * lambda_ * last_advantage\n",
    "        last_return = rewards[t] + gamma * last_return\n",
    "\n",
    "        advantages[t] = last_advantage\n",
    "        returns[t] = last_return\n",
    "\n",
    "    return advantages, returns"
   ]
  },
  {
   "cell_type": "code",
   "execution_count": 15,
   "metadata": {},
   "outputs": [],
   "source": [
    "class ActorCriticContinuous(nn.Module):\n",
    "    def __init__(self, n_anchors, state_dim, action_dim, same_init, actor_hidden_layers, critic_hidden_layers, action_std):\n",
    "        super(ActorCriticContinuous, self).__init__()\n",
    "        \n",
    "        # Define actor network\n",
    "        actor_layers = []\n",
    "        input_dim = state_dim\n",
    "        for hidden_dim in actor_hidden_layers:\n",
    "            actor_layers.append(Linear(n_anchors, input_dim, hidden_dim, same_init=same_init))\n",
    "            actor_layers.append(nn.ReLU())\n",
    "            input_dim = hidden_dim\n",
    "        actor_layers.append(Linear(n_anchors, input_dim, action_dim, same_init=same_init))\n",
    "        self.actor = Sequential(*actor_layers)\n",
    "        self.n_anchors = n_anchors\n",
    "        \n",
    "        # Define critic network\n",
    "        critic_layers = []\n",
    "        input_dim = state_dim\n",
    "        for hidden_dim in critic_hidden_layers:\n",
    "            critic_layers.append(nn.Linear(input_dim, hidden_dim))\n",
    "            critic_layers.append(nn.ReLU())\n",
    "            input_dim = hidden_dim\n",
    "        critic_layers.append(nn.Linear(input_dim, 1))\n",
    "        self.critic = nn.Sequential(*critic_layers)\n",
    "        \n",
    "        self.action_var = nn.Parameter(torch.full((action_dim,), action_std**2, requires_grad=True))\n",
    "\n",
    "\n",
    "    def forward(self, x, alpha, action=None):\n",
    "        action_mean = self.actor(x, alpha)\n",
    "        cov_matrix = torch.exp(self.action_var)\n",
    "        dist = Normal(loc=action_mean, scale=cov_matrix)\n",
    "        \n",
    "        if action is None:\n",
    "            action = dist.sample()\n",
    "            \n",
    "        log_p = dist.log_prob(action).sum(dim=-1)\n",
    "        \n",
    "        value = self.critic(x)\n",
    "        \n",
    "        return action, log_p, value, dist.entropy()\n",
    "    \n",
    "    \n",
    "    def cosine_similarity(self,i,j):\n",
    "        assert (i < self.n_anchors) and (j < self.n_anchors), \"index higher than n_anchors\"\n",
    "        cos_sim = torch.Tensor([0.]).to(device)\n",
    "        n = 0\n",
    "        for module in self.actor:\n",
    "            if isinstance(module,Linear):\n",
    "                w1 = module.anchors[i].weight\n",
    "                w2 = module.anchors[j].weight\n",
    "                p1 = ((w1 * w2).sum() / max(((w1 ** 2).sum().sqrt() * (w2 ** 2).sum().sqrt()),1e-8)) ** 2\n",
    "                b1 = module.anchors[i].bias\n",
    "                b2 = module.anchors[j].bias\n",
    "                p2 = ((b1 * b2).sum() / max(((b1 ** 2).sum().sqrt() * (b2 ** 2).sum().sqrt()),1e-8)) ** 2\n",
    "                cos_sim += p1 + p2\n",
    "                n += 2\n",
    "        return cos_sim / n"
   ]
  },
  {
   "cell_type": "code",
   "execution_count": 16,
   "metadata": {},
   "outputs": [],
   "source": [
    "def collect_trajectories(env, model, alpha, n_steps):\n",
    "\n",
    "    states, actions, rewards, log_ps, state_values, dones = [], [], [], [], [], []\n",
    "\n",
    "    state, _ = env.reset()\n",
    "    \n",
    "\n",
    "    total_reward = 0\n",
    "    step_count = 0\n",
    "\n",
    "    for _ in range(n_steps):\n",
    "        state = torch.FloatTensor(state).to(device)\n",
    "        action, log_p, state_value, entropy = model(state, alpha)\n",
    "        next_state, reward, terminated, truncated, info = env.step(action.cpu().tolist())\n",
    "        done = terminated or truncated\n",
    "\n",
    "        states.append(state)\n",
    "        actions.append(action)\n",
    "        rewards.append(reward)\n",
    "        log_ps.append(log_p)\n",
    "        state_values.append(state_value)\n",
    "        dones.append(done)\n",
    "\n",
    "        state = next_state\n",
    "        total_reward += reward\n",
    "        step_count += 1\n",
    "\n",
    "        if done:\n",
    "            state, _ = env.reset()\n",
    "            \n",
    "    next_value = model.critic(torch.FloatTensor(next_state).unsqueeze(0).to(device)).squeeze(0).cpu()\n",
    "    \n",
    "    states = torch.stack(states)\n",
    "    \n",
    "    actions = torch.LongTensor(actions) if action.shape == 1 else torch.stack(actions)\n",
    "    rewards = torch.LongTensor(rewards)\n",
    "    state_values = torch.FloatTensor(state_values)\n",
    "    dones = torch.LongTensor(dones)\n",
    "    next_state_values = torch.concatenate((state_values[1:], next_value))\n",
    "    \n",
    "    \n",
    "    advantages, returns = compute_gae(dones, rewards, state_values, next_state_values)\n",
    "         \n",
    "    # Normalize advantages\n",
    "    advantages = torch.FloatTensor(advantages)\n",
    "    returns = advantages + torch.FloatTensor(state_values)\n",
    "            \n",
    "    trajectories = {\n",
    "        \"states\" : states.detach(),\n",
    "        \"actions\" : actions.detach(),\n",
    "        \"rewards\" : rewards.detach(),\n",
    "        \"dones\" : dones.detach(),\n",
    "        \"log_ps\" : torch.stack(log_ps).detach(),\n",
    "        \"state_values\": state_values.detach(),\n",
    "        \"next_state_values\": next_state_values.detach(),\n",
    "        \"returns\" : returns.detach(),\n",
    "        \"advantages\" : advantages.detach(),\n",
    "    }\n",
    "    \n",
    "    return trajectories\n",
    "\n",
    "\n",
    "# trajectories = collect_trajectories(env, model, n_steps=128)\n",
    "\n",
    "# for key in trajectories:\n",
    "#     print(key, trajectories[key].shape)\n",
    "\n",
    "def shufffle_trajectory(trajectories):\n",
    "    length = trajectories['states'].shape[0]\n",
    "    permutation = torch.randperm(length)\n",
    "\n",
    "    shuffled_trajectories = {key: tensor[permutation] for key, tensor in trajectories.items()}\n",
    "    return shuffled_trajectories\n",
    "\n",
    "# shuffled_trajectories = shufffle_trajectory(trajectories)"
   ]
  },
  {
   "cell_type": "code",
   "execution_count": 17,
   "metadata": {},
   "outputs": [],
   "source": [
    "def ppo_optimization(trajectories, model, alpha, optimizer, epochs, batch_size):\n",
    "    \n",
    "    model.train()\n",
    "    \n",
    "    traj_states = trajectories[\"states\"]\n",
    "    traj_actions = trajectories[\"actions\"]\n",
    "    traj_log_ps = trajectories[\"log_ps\"]\n",
    "    traj_returns = trajectories[\"returns\"]  \n",
    "    traj_advantages = trajectories[\"advantages\"]\n",
    "\n",
    "\n",
    "    len_trajectory = traj_states.shape[0]\n",
    "\n",
    "    for epoch in range(1, epochs+1):\n",
    "        for i in range(len_trajectory // batch_size):\n",
    "            state = traj_states[batch_size*i:batch_size*(i+1)].to(device)\n",
    "            action = traj_actions[batch_size*i:batch_size*(i+1)].to(device)\n",
    "            log_p = traj_log_ps[batch_size*i:batch_size*(i+1)].to(device)\n",
    "            return_ = traj_returns[batch_size*i:batch_size*(i+1)].to(device)\n",
    "            advantage = traj_advantages[batch_size*i:batch_size*(i+1)].to(device)\n",
    "            \n",
    "            new_action, new_log_p, new_state_value, entropy = model(state, alpha, action)\n",
    "            assert(new_action == action).all()\n",
    "            \n",
    "            \n",
    "            advantage = (advantage - advantage.mean()) / (advantage.std() + 1e-8)\n",
    "\n",
    "            new_log_p, log_p, advantage = new_log_p.reshape(-1), log_p.reshape(-1), advantage.reshape(-1)\n",
    "            \n",
    "            ratio = torch.exp(new_log_p - log_p.detach())\n",
    "            surr1 = ratio * advantage\n",
    "            surr2 = torch.clamp(ratio, 1-0.2, 1+0.2) * advantage\n",
    "            policy_loss = - torch.min(surr1, surr2).mean()\n",
    "            \n",
    "            # print(policy_loss)\n",
    "            \n",
    "            \n",
    "            return_, new_state_value = return_.reshape(-1), new_state_value.reshape(-1)\n",
    "            critic_loss = ((return_ - new_state_value)**2).mean()\n",
    "            \n",
    "            \n",
    "            j,k = random.sample(range(model.n_anchors),2)\n",
    "            penalty = model.cosine_similarity(j,k)\n",
    "\n",
    "            loss = policy_loss - 2e-7*entropy.mean() + 0.5*critic_loss + beta*penalty\n",
    "\n",
    "            optimizer.zero_grad()\n",
    "            loss.backward()\n",
    "            clip_factor = torch.nn.utils.clip_grad_norm_(model.parameters(), 0.5)\n",
    "            optimizer.step()\n",
    "            \n",
    "# ppo_optimization(trajectories, model, optimizer, epochs=1, batch_size=5)\n",
    "# ppo_optimization(shuffled_trajectory, model, alpha, optimizer, epochs=5, batch_size=256)"
   ]
  },
  {
   "cell_type": "code",
   "execution_count": 18,
   "metadata": {},
   "outputs": [],
   "source": [
    "def evaluate(env, model, alpha):\n",
    "    model.eval()\n",
    "\n",
    "    state, _ = env.reset()\n",
    "        \n",
    "    total_reward = 0\n",
    "    step_count = 0\n",
    "\n",
    "    trajectory = []\n",
    "    info = {\n",
    "        'ffoot_touch_ground': [],\n",
    "        'bfoot_touch_ground': [],\n",
    "    }\n",
    "    \n",
    "\n",
    "    while True:\n",
    "        trajectory.append(state)\n",
    "        state = torch.FloatTensor(state).to(device)\n",
    "        with torch.no_grad():\n",
    "            action, log_p, state_value, entropy = model(state, alpha)\n",
    "        next_state, reward, terminated, truncated, _ = env.step(action.cpu().tolist())\n",
    "\n",
    "        info['bfoot_touch_ground'].append(int(5 in env.data.contact.geom2))\n",
    "        info['ffoot_touch_ground'].append(int(8 in env.data.contact.geom2))\n",
    "        \n",
    "        done = terminated or truncated\n",
    "\n",
    "        state = next_state\n",
    "        total_reward += reward\n",
    "        step_count += 1\n",
    "        \n",
    "        \n",
    "        if done:\n",
    "            break\n",
    "        \n",
    "    return total_reward, trajectory, info\n",
    "\n",
    "\n",
    "def get_reward_from_trajectory(trajectory):\n",
    "    save_ = []\n",
    "    acc_reward = 0\n",
    "    for i in range(len(trajectory['rewards'])):\n",
    "        if trajectory['dones'][i] == True:\n",
    "            save_.append(acc_reward)\n",
    "            acc_reward = 0\n",
    "        \n",
    "        acc_reward += trajectory['rewards'][i]\n",
    "    return np.median(save_)"
   ]
  },
  {
   "cell_type": "code",
   "execution_count": 19,
   "metadata": {},
   "outputs": [],
   "source": [
    "def random_alpha(n_anchors):\n",
    "    random_probs = torch.rand(1, n_anchors)\n",
    "    proba_vector = random_probs / random_probs.sum(dim=1, keepdim=True)\n",
    "    return proba_vector[0]"
   ]
  },
  {
   "cell_type": "code",
   "execution_count": 20,
   "metadata": {},
   "outputs": [],
   "source": [
    "env = gym.make('HalfCheetah-v4', render_mode = \"rgb_array\")\n",
    "\n",
    "n_anchors = 2\n",
    "state_dim = env.observation_space.shape[0]\n",
    "action_dim = env.action_space.shape[0]\n"
   ]
  },
  {
   "cell_type": "code",
   "execution_count": 21,
   "metadata": {},
   "outputs": [
    {
     "data": {
      "image/png": "[encoded data removed]",
      "text/plain": [
       "<Figure size 640x480 with 1 Axes>"
      ]
     },
     "metadata": {},
     "output_type": "display_data"
    },
    {
     "name": "stderr",
     "output_type": "stream",
     "text": [
      "Reward: -724.0:   0%|          | 2/2001 [00:03<58:07,  1.74s/it]\n"
     ]
    },
    {
     "name": "stdout",
     "output_type": "stream",
     "text": [
      "tensor([0.3103, 0.6897])\n"
     ]
    },
    {
     "ename": "KeyboardInterrupt",
     "evalue": "",
     "output_type": "error",
     "traceback": [
      "\u001b[0;31m---------------------------------------------------------------------------\u001b[0m",
      "\u001b[0;31mKeyboardInterrupt\u001b[0m                         Traceback (most recent call last)",
      "Cell \u001b[0;32mIn[21], line 22\u001b[0m\n\u001b[1;32m     19\u001b[0m \u001b[38;5;66;03m# alpha = torch.tensor([0.5, 0.5])\u001b[39;00m\n\u001b[1;32m     20\u001b[0m \u001b[38;5;28mprint\u001b[39m(alpha)\n\u001b[0;32m---> 22\u001b[0m trajectory \u001b[38;5;241m=\u001b[39m \u001b[43mcollect_trajectories\u001b[49m\u001b[43m(\u001b[49m\u001b[43menv\u001b[49m\u001b[43m,\u001b[49m\u001b[43m \u001b[49m\u001b[43mmodel\u001b[49m\u001b[43m,\u001b[49m\u001b[43m \u001b[49m\u001b[43malpha\u001b[49m\u001b[43m,\u001b[49m\u001b[43m \u001b[49m\u001b[43mn_steps\u001b[49m\u001b[38;5;241;43m=\u001b[39;49m\u001b[38;5;241;43m1024\u001b[39;49m\u001b[43m)\u001b[49m\n\u001b[1;32m     23\u001b[0m shuffled_trajectory \u001b[38;5;241m=\u001b[39m shufffle_trajectory(trajectory)\n\u001b[1;32m     24\u001b[0m ppo_optimization(shuffled_trajectory, model, alpha, optimizer, epochs\u001b[38;5;241m=\u001b[39m\u001b[38;5;241m4\u001b[39m, batch_size\u001b[38;5;241m=\u001b[39m\u001b[38;5;241m256\u001b[39m)\n",
      "Cell \u001b[0;32mIn[16], line 13\u001b[0m, in \u001b[0;36mcollect_trajectories\u001b[0;34m(env, model, alpha, n_steps)\u001b[0m\n\u001b[1;32m     11\u001b[0m \u001b[38;5;28;01mfor\u001b[39;00m _ \u001b[38;5;129;01min\u001b[39;00m \u001b[38;5;28mrange\u001b[39m(n_steps):\n\u001b[1;32m     12\u001b[0m     state \u001b[38;5;241m=\u001b[39m torch\u001b[38;5;241m.\u001b[39mFloatTensor(state)\u001b[38;5;241m.\u001b[39mto(device)\n\u001b[0;32m---> 13\u001b[0m     action, log_p, state_value, entropy \u001b[38;5;241m=\u001b[39m \u001b[43mmodel\u001b[49m\u001b[43m(\u001b[49m\u001b[43mstate\u001b[49m\u001b[43m,\u001b[49m\u001b[43m \u001b[49m\u001b[43malpha\u001b[49m\u001b[43m)\u001b[49m\n\u001b[1;32m     14\u001b[0m     next_state, reward, terminated, truncated, info \u001b[38;5;241m=\u001b[39m env\u001b[38;5;241m.\u001b[39mstep(action\u001b[38;5;241m.\u001b[39mcpu()\u001b[38;5;241m.\u001b[39mtolist())\n\u001b[1;32m     15\u001b[0m     done \u001b[38;5;241m=\u001b[39m terminated \u001b[38;5;129;01mor\u001b[39;00m truncated\n",
      "File \u001b[0;32m~/.conda/envs/mujoco_env/lib/python3.9/site-packages/torch/nn/modules/module.py:1736\u001b[0m, in \u001b[0;36mModule._wrapped_call_impl\u001b[0;34m(self, *args, **kwargs)\u001b[0m\n\u001b[1;32m   1734\u001b[0m     \u001b[38;5;28;01mreturn\u001b[39;00m \u001b[38;5;28mself\u001b[39m\u001b[38;5;241m.\u001b[39m_compiled_call_impl(\u001b[38;5;241m*\u001b[39margs, \u001b[38;5;241m*\u001b[39m\u001b[38;5;241m*\u001b[39mkwargs)  \u001b[38;5;66;03m# type: ignore[misc]\u001b[39;00m\n\u001b[1;32m   1735\u001b[0m \u001b[38;5;28;01melse\u001b[39;00m:\n\u001b[0;32m-> 1736\u001b[0m     \u001b[38;5;28;01mreturn\u001b[39;00m \u001b[38;5;28;43mself\u001b[39;49m\u001b[38;5;241;43m.\u001b[39;49m\u001b[43m_call_impl\u001b[49m\u001b[43m(\u001b[49m\u001b[38;5;241;43m*\u001b[39;49m\u001b[43margs\u001b[49m\u001b[43m,\u001b[49m\u001b[43m \u001b[49m\u001b[38;5;241;43m*\u001b[39;49m\u001b[38;5;241;43m*\u001b[39;49m\u001b[43mkwargs\u001b[49m\u001b[43m)\u001b[49m\n",
      "File \u001b[0;32m~/.conda/envs/mujoco_env/lib/python3.9/site-packages/torch/nn/modules/module.py:1747\u001b[0m, in \u001b[0;36mModule._call_impl\u001b[0;34m(self, *args, **kwargs)\u001b[0m\n\u001b[1;32m   1742\u001b[0m \u001b[38;5;66;03m# If we don't have any hooks, we want to skip the rest of the logic in\u001b[39;00m\n\u001b[1;32m   1743\u001b[0m \u001b[38;5;66;03m# this function, and just call forward.\u001b[39;00m\n\u001b[1;32m   1744\u001b[0m \u001b[38;5;28;01mif\u001b[39;00m \u001b[38;5;129;01mnot\u001b[39;00m (\u001b[38;5;28mself\u001b[39m\u001b[38;5;241m.\u001b[39m_backward_hooks \u001b[38;5;129;01mor\u001b[39;00m \u001b[38;5;28mself\u001b[39m\u001b[38;5;241m.\u001b[39m_backward_pre_hooks \u001b[38;5;129;01mor\u001b[39;00m \u001b[38;5;28mself\u001b[39m\u001b[38;5;241m.\u001b[39m_forward_hooks \u001b[38;5;129;01mor\u001b[39;00m \u001b[38;5;28mself\u001b[39m\u001b[38;5;241m.\u001b[39m_forward_pre_hooks\n\u001b[1;32m   1745\u001b[0m         \u001b[38;5;129;01mor\u001b[39;00m _global_backward_pre_hooks \u001b[38;5;129;01mor\u001b[39;00m _global_backward_hooks\n\u001b[1;32m   1746\u001b[0m         \u001b[38;5;129;01mor\u001b[39;00m _global_forward_hooks \u001b[38;5;129;01mor\u001b[39;00m _global_forward_pre_hooks):\n\u001b[0;32m-> 1747\u001b[0m     \u001b[38;5;28;01mreturn\u001b[39;00m \u001b[43mforward_call\u001b[49m\u001b[43m(\u001b[49m\u001b[38;5;241;43m*\u001b[39;49m\u001b[43margs\u001b[49m\u001b[43m,\u001b[49m\u001b[43m \u001b[49m\u001b[38;5;241;43m*\u001b[39;49m\u001b[38;5;241;43m*\u001b[39;49m\u001b[43mkwargs\u001b[49m\u001b[43m)\u001b[49m\n\u001b[1;32m   1749\u001b[0m result \u001b[38;5;241m=\u001b[39m \u001b[38;5;28;01mNone\u001b[39;00m\n\u001b[1;32m   1750\u001b[0m called_always_called_hooks \u001b[38;5;241m=\u001b[39m \u001b[38;5;28mset\u001b[39m()\n",
      "Cell \u001b[0;32mIn[15], line 37\u001b[0m, in \u001b[0;36mActorCriticContinuous.forward\u001b[0;34m(self, x, alpha, action)\u001b[0m\n\u001b[1;32m     34\u001b[0m \u001b[38;5;28;01mif\u001b[39;00m action \u001b[38;5;129;01mis\u001b[39;00m \u001b[38;5;28;01mNone\u001b[39;00m:\n\u001b[1;32m     35\u001b[0m     action \u001b[38;5;241m=\u001b[39m dist\u001b[38;5;241m.\u001b[39msample()\n\u001b[0;32m---> 37\u001b[0m log_p \u001b[38;5;241m=\u001b[39m \u001b[43mdist\u001b[49m\u001b[38;5;241;43m.\u001b[39;49m\u001b[43mlog_prob\u001b[49m\u001b[43m(\u001b[49m\u001b[43maction\u001b[49m\u001b[43m)\u001b[49m\u001b[38;5;241m.\u001b[39msum(dim\u001b[38;5;241m=\u001b[39m\u001b[38;5;241m-\u001b[39m\u001b[38;5;241m1\u001b[39m)\n\u001b[1;32m     39\u001b[0m value \u001b[38;5;241m=\u001b[39m \u001b[38;5;28mself\u001b[39m\u001b[38;5;241m.\u001b[39mcritic(x)\n\u001b[1;32m     41\u001b[0m \u001b[38;5;28;01mreturn\u001b[39;00m action, log_p, value, dist\u001b[38;5;241m.\u001b[39mentropy()\n",
      "File \u001b[0;32m~/.conda/envs/mujoco_env/lib/python3.9/site-packages/torch/distributions/normal.py:89\u001b[0m, in \u001b[0;36mNormal.log_prob\u001b[0;34m(self, value)\u001b[0m\n\u001b[1;32m     84\u001b[0m var \u001b[38;5;241m=\u001b[39m \u001b[38;5;28mself\u001b[39m\u001b[38;5;241m.\u001b[39mscale\u001b[38;5;241m*\u001b[39m\u001b[38;5;241m*\u001b[39m\u001b[38;5;241m2\u001b[39m\n\u001b[1;32m     85\u001b[0m log_scale \u001b[38;5;241m=\u001b[39m (\n\u001b[1;32m     86\u001b[0m     math\u001b[38;5;241m.\u001b[39mlog(\u001b[38;5;28mself\u001b[39m\u001b[38;5;241m.\u001b[39mscale) \u001b[38;5;28;01mif\u001b[39;00m \u001b[38;5;28misinstance\u001b[39m(\u001b[38;5;28mself\u001b[39m\u001b[38;5;241m.\u001b[39mscale, Real) \u001b[38;5;28;01melse\u001b[39;00m \u001b[38;5;28mself\u001b[39m\u001b[38;5;241m.\u001b[39mscale\u001b[38;5;241m.\u001b[39mlog()\n\u001b[1;32m     87\u001b[0m )\n\u001b[1;32m     88\u001b[0m \u001b[38;5;28;01mreturn\u001b[39;00m (\n\u001b[0;32m---> 89\u001b[0m     \u001b[38;5;241;43m-\u001b[39;49m\u001b[43m(\u001b[49m\u001b[43m(\u001b[49m\u001b[43mvalue\u001b[49m\u001b[43m \u001b[49m\u001b[38;5;241;43m-\u001b[39;49m\u001b[43m \u001b[49m\u001b[38;5;28;43mself\u001b[39;49m\u001b[38;5;241;43m.\u001b[39;49m\u001b[43mloc\u001b[49m\u001b[43m)\u001b[49m\u001b[43m \u001b[49m\u001b[38;5;241;43m*\u001b[39;49m\u001b[38;5;241;43m*\u001b[39;49m\u001b[43m \u001b[49m\u001b[38;5;241;43m2\u001b[39;49m\u001b[43m)\u001b[49m\u001b[43m \u001b[49m\u001b[38;5;241;43m/\u001b[39;49m\u001b[43m \u001b[49m\u001b[43m(\u001b[49m\u001b[38;5;241;43m2\u001b[39;49m\u001b[43m \u001b[49m\u001b[38;5;241;43m*\u001b[39;49m\u001b[43m \u001b[49m\u001b[43mvar\u001b[49m\u001b[43m)\u001b[49m\n\u001b[1;32m     90\u001b[0m \u001b[43m    \u001b[49m\u001b[38;5;241;43m-\u001b[39;49m\u001b[43m \u001b[49m\u001b[43mlog_scale\u001b[49m\n\u001b[1;32m     91\u001b[0m     \u001b[38;5;241m-\u001b[39m math\u001b[38;5;241m.\u001b[39mlog(math\u001b[38;5;241m.\u001b[39msqrt(\u001b[38;5;241m2\u001b[39m \u001b[38;5;241m*\u001b[39m math\u001b[38;5;241m.\u001b[39mpi))\n\u001b[1;32m     92\u001b[0m )\n",
      "\u001b[0;31mKeyboardInterrupt\u001b[0m: "
     ]
    }
   ],
   "source": [
    "model = ActorCriticContinuous(\n",
    "    n_anchors,\n",
    "    state_dim,\n",
    "    action_dim,\n",
    "    same_init=False,\n",
    "    actor_hidden_layers=[256, 256],\n",
    "    critic_hidden_layers=[256, 256],\n",
    "    action_std=0.5\n",
    ").to(device)\n",
    "\n",
    "optimizer = optim.AdamW(model.parameters(), lr=0.0003)\n",
    "\n",
    "rewards = []\n",
    "\n",
    "tqdm_epochs = tqdm(range(0, 2000+1))\n",
    "for epochs in tqdm_epochs:\n",
    "    \n",
    "    alpha = random_alpha(n_anchors).to(device)\n",
    "    # alpha = torch.tensor([0.5, 0.5])\n",
    "    print(alpha)\n",
    "    \n",
    "    trajectory = collect_trajectories(env, model, alpha, n_steps=1024)\n",
    "    shuffled_trajectory = shufffle_trajectory(trajectory)\n",
    "    ppo_optimization(shuffled_trajectory, model, alpha, optimizer, epochs=4, batch_size=256)\n",
    "    \n",
    "\n",
    "    # final_reward = np.mean([evaluate(env, model, random_alpha(n_anchors).to(device))[0] for _ in range(1)])\n",
    "    final_reward = get_reward_from_trajectory(trajectory)\n",
    "    rewards.append(final_reward)\n",
    "    \n",
    "    tqdm_epochs.set_description(f'Reward: {final_reward}')\n",
    "    \n",
    "    \n",
    "    if epochs % 1 == 0:\n",
    "        clear_output(True)\n",
    "        plt.plot(rewards)\n",
    "        plt.show()"
   ]
  },
  {
   "cell_type": "code",
   "execution_count": null,
   "metadata": {},
   "outputs": [],
   "source": [
    "# torch.save(model.state_dict(), 'models/halfcheetah/n_anchors=.pt')"
   ]
  },
  {
   "cell_type": "markdown",
   "metadata": {},
   "source": [
    "---"
   ]
  },
  {
   "cell_type": "code",
   "execution_count": 22,
   "metadata": {},
   "outputs": [
    {
     "name": "stderr",
     "output_type": "stream",
     "text": [
      "/tmpdata/ipykernel_872636/1171200678.py:11: FutureWarning: You are using `torch.load` with `weights_only=False` (the current default value), which uses the default pickle module implicitly. It is possible to construct malicious pickle data which will execute arbitrary code during unpickling (See https://github.com/pytorch/pytorch/blob/main/SECURITY.md#untrusted-models for more details). In a future release, the default value for `weights_only` will be flipped to `True`. This limits the functions that could be executed during unpickling. Arbitrary objects will no longer be allowed to be loaded via this mode unless they are explicitly allowlisted by the user via `torch.serialization.add_safe_globals`. We recommend you start setting `weights_only=True` for any use case where you don't have full control of the loaded file. Please open an issue on GitHub for any issues related to this experimental feature.\n",
      "  model.load_state_dict(torch.load('models/halfcheetah/n_anchors=1.pt'))\n"
     ]
    },
    {
     "data": {
      "text/plain": [
       "<All keys matched successfully>"
      ]
     },
     "execution_count": 22,
     "metadata": {},
     "output_type": "execute_result"
    }
   ],
   "source": [
    "model = ActorCriticContinuous(\n",
    "    1,\n",
    "    state_dim,\n",
    "    action_dim,\n",
    "    same_init=True,\n",
    "    actor_hidden_layers=[256, 256],\n",
    "    critic_hidden_layers=[256, 256],\n",
    "    action_std=0.5\n",
    ").to(device)\n",
    "\n",
    "model.load_state_dict(torch.load('models/halfcheetah/n_anchors=1.pt'))"
   ]
  },
  {
   "cell_type": "code",
   "execution_count": 23,
   "metadata": {},
   "outputs": [],
   "source": [
    "def get_descriptor(info):\n",
    "    return np.mean(info['bfoot_touch_ground']), np.mean(info['ffoot_touch_ground'])"
   ]
  },
  {
   "cell_type": "code",
   "execution_count": 24,
   "metadata": {},
   "outputs": [
    {
     "name": "stderr",
     "output_type": "stream",
     "text": [
      "100%|██████████| 10/10 [00:09<00:00,  1.06it/s]\n"
     ]
    }
   ],
   "source": [
    "descriptors = []\n",
    "desc_rewards = []\n",
    "\n",
    "for _ in tqdm(range(10)):\n",
    "    reward, states, info = evaluate(env, model, random_alpha(n_anchors).to(device))\n",
    "    descriptors.append(get_descriptor(info))\n",
    "    rewards.append(reward)\n",
    "    \n",
    "descriptors_array = np.array(descriptors)"
   ]
  },
  {
   "cell_type": "code",
   "execution_count": 34,
   "metadata": {},
   "outputs": [
    {
     "data": {
      "image/png": "[encoded data removed]",
      "text/plain": [
       "<Figure size 500x500 with 2 Axes>"
      ]
     },
     "metadata": {},
     "output_type": "display_data"
    }
   ],
   "source": [
    "import matplotlib.pyplot as plt\n",
    "\n",
    "x1, x2 = 0, 1\n",
    "\n",
    "x1_min = 0\n",
    "x1_max = 1\n",
    "x2_min = 0\n",
    "x2_max = 1\n",
    "\n",
    "N = 100\n",
    "\n",
    "x1_bins = np.linspace(x1_min, x1_max, N)\n",
    "x2_bins = np.linspace(x2_min, x2_max, N)\n",
    "\n",
    "map_grid = np.full((N, N), np.nan)\n",
    "\n",
    "\n",
    "def get_bin(value, bins):\n",
    "    return np.digitize(value, bins) - 1\n",
    "\n",
    "\n",
    "for descriptor, reward in zip(descriptors, rewards):\n",
    "    feature1, feature2 = descriptor[x1], descriptor[x2]\n",
    "    f1_bin = get_bin(feature1, x1_bins)\n",
    "    f2_bin = get_bin(feature2, x2_bins)\n",
    "    \n",
    "    if np.isnan(map_grid[f1_bin, f2_bin]):\n",
    "        map_grid[f1_bin][f2_bin] = reward\n",
    "    else:\n",
    "        map_grid[f1_bin][f2_bin] = max(map_grid[f1_bin][f2_bin], reward) \n",
    "\n",
    "\n",
    "fig, axs = plt.subplots(1, 1, figsize=(5,5))\n",
    "\n",
    "\n",
    "cax = axs.matshow(map_grid, cmap=\"viridis\", vmin=-1000, vmax=300)\n",
    "axs.set_title('DDPG\\n(Full oobservation)', loc='center')\n",
    "\n",
    "axs.set_xlabel('bfoot touch ground')\n",
    "axs.set_ylabel('ffoot touch ground')\n",
    "axs.set_xticks(np.linspace(0, N-1, num=11))\n",
    "axs.set_xticklabels(np.round(np.linspace(0, 1, num=11), 2))\n",
    "axs.set_yticks(np.linspace(0, N-1, num=11))\n",
    "axs.set_yticklabels(np.round(np.linspace(0, 1, num=11), 2))\n",
    "\n",
    "fig.colorbar(cax, ax=axs, orientation='vertical', label='Reward')\n",
    "plt.show()"
   ]
  },
  {
   "cell_type": "code",
   "execution_count": null,
   "metadata": {},
   "outputs": [
    {
     "data": {
      "text/plain": [
       "True"
      ]
     },
     "execution_count": 29,
     "metadata": {},
     "output_type": "execute_result"
    }
   ],
   "source": [
    "\n"
   ]
  },
  {
   "cell_type": "code",
   "execution_count": null,
   "metadata": {},
   "outputs": [],
   "source": [
    "from time import sleep"
   ]
  },
  {
   "cell_type": "code",
   "execution_count": null,
   "metadata": {},
   "outputs": [
    {
     "name": "stderr",
     "output_type": "stream",
     "text": [
      "/tmpdata/ipykernel_857101/561642497.py:11: FutureWarning: You are using `torch.load` with `weights_only=False` (the current default value), which uses the default pickle module implicitly. It is possible to construct malicious pickle data which will execute arbitrary code during unpickling (See https://github.com/pytorch/pytorch/blob/main/SECURITY.md#untrusted-models for more details). In a future release, the default value for `weights_only` will be flipped to `True`. This limits the functions that could be executed during unpickling. Arbitrary objects will no longer be allowed to be loaded via this mode unless they are explicitly allowlisted by the user via `torch.serialization.add_safe_globals`. We recommend you start setting `weights_only=True` for any use case where you don't have full control of the loaded file. Please open an issue on GitHub for any issues related to this experimental feature.\n",
      "  model.load_state_dict(torch.load('models/halfcheetah/n_anchors=1.pt'))\n"
     ]
    },
    {
     "data": {
      "text/plain": [
       "<All keys matched successfully>"
      ]
     },
     "execution_count": 13,
     "metadata": {},
     "output_type": "execute_result"
    }
   ],
   "source": [
    "model = ActorCriticContinuous(\n",
    "    1,\n",
    "    state_dim,\n",
    "    action_dim,\n",
    "    same_init=True,\n",
    "    actor_hidden_layers=[256, 256],\n",
    "    critic_hidden_layers=[256, 256],\n",
    "    action_std=0.5\n",
    ").to(device)\n",
    "\n",
    "model.load_state_dict(torch.load('models/halfcheetah/n_anchors=1.pt'))\n"
   ]
  },
  {
   "cell_type": "code",
   "execution_count": null,
   "metadata": {},
   "outputs": [
    {
     "name": "stderr",
     "output_type": "stream",
     "text": [
      "/home/nb3891/.conda/envs/mujoco_env/lib/python3.9/site-packages/glfw/__init__.py:914: GLFWError: (65544) b'X11: The DISPLAY environment variable is missing'\n",
      "  warnings.warn(message, GLFWError)\n",
      "/home/nb3891/.conda/envs/mujoco_env/lib/python3.9/site-packages/glfw/__init__.py:914: GLFWError: (65537) b'The GLFW library is not initialized'\n",
      "  warnings.warn(message, GLFWError)\n",
      "  0%|          | 0/3000 [00:00<?, ?it/s]\n"
     ]
    },
    {
     "ename": "FatalError",
     "evalue": "an OpenGL platform library has not been loaded into this process, this most likely means that a valid OpenGL context has not been created before mjr_makeContext was called",
     "output_type": "error",
     "traceback": [
      "\u001b[0;31m---------------------------------------------------------------------------\u001b[0m",
      "\u001b[0;31mFatalError\u001b[0m                                Traceback (most recent call last)",
      "Cell \u001b[0;32mIn[15], line 19\u001b[0m\n\u001b[1;32m     16\u001b[0m total_reward \u001b[38;5;241m+\u001b[39m\u001b[38;5;241m=\u001b[39m reward\n\u001b[1;32m     18\u001b[0m clear_output(\u001b[38;5;28;01mTrue\u001b[39;00m)\n\u001b[0;32m---> 19\u001b[0m frame \u001b[38;5;241m=\u001b[39m \u001b[43menv\u001b[49m\u001b[38;5;241;43m.\u001b[39;49m\u001b[43mrender\u001b[49m\u001b[43m(\u001b[49m\u001b[43m)\u001b[49m\n\u001b[1;32m     20\u001b[0m plt\u001b[38;5;241m.\u001b[39mimshow(frame)\n\u001b[1;32m     21\u001b[0m plt\u001b[38;5;241m.\u001b[39mshow()\n",
      "File \u001b[0;32m~/.conda/envs/mujoco_env/lib/python3.9/site-packages/gym/core.py:329\u001b[0m, in \u001b[0;36mWrapper.render\u001b[0;34m(self, *args, **kwargs)\u001b[0m\n\u001b[1;32m    325\u001b[0m \u001b[38;5;28;01mdef\u001b[39;00m \u001b[38;5;21mrender\u001b[39m(\n\u001b[1;32m    326\u001b[0m     \u001b[38;5;28mself\u001b[39m, \u001b[38;5;241m*\u001b[39margs, \u001b[38;5;241m*\u001b[39m\u001b[38;5;241m*\u001b[39mkwargs\n\u001b[1;32m    327\u001b[0m ) \u001b[38;5;241m-\u001b[39m\u001b[38;5;241m>\u001b[39m Optional[Union[RenderFrame, List[RenderFrame]]]:\n\u001b[1;32m    328\u001b[0m \u001b[38;5;250m    \u001b[39m\u001b[38;5;124;03m\"\"\"Renders the environment.\"\"\"\u001b[39;00m\n\u001b[0;32m--> 329\u001b[0m     \u001b[38;5;28;01mreturn\u001b[39;00m \u001b[38;5;28;43mself\u001b[39;49m\u001b[38;5;241;43m.\u001b[39;49m\u001b[43menv\u001b[49m\u001b[38;5;241;43m.\u001b[39;49m\u001b[43mrender\u001b[49m\u001b[43m(\u001b[49m\u001b[38;5;241;43m*\u001b[39;49m\u001b[43margs\u001b[49m\u001b[43m,\u001b[49m\u001b[43m \u001b[49m\u001b[38;5;241;43m*\u001b[39;49m\u001b[38;5;241;43m*\u001b[39;49m\u001b[43mkwargs\u001b[49m\u001b[43m)\u001b[49m\n",
      "File \u001b[0;32m~/.conda/envs/mujoco_env/lib/python3.9/site-packages/gym/wrappers/order_enforcing.py:51\u001b[0m, in \u001b[0;36mOrderEnforcing.render\u001b[0;34m(self, *args, **kwargs)\u001b[0m\n\u001b[1;32m     46\u001b[0m \u001b[38;5;28;01mif\u001b[39;00m \u001b[38;5;129;01mnot\u001b[39;00m \u001b[38;5;28mself\u001b[39m\u001b[38;5;241m.\u001b[39m_disable_render_order_enforcing \u001b[38;5;129;01mand\u001b[39;00m \u001b[38;5;129;01mnot\u001b[39;00m \u001b[38;5;28mself\u001b[39m\u001b[38;5;241m.\u001b[39m_has_reset:\n\u001b[1;32m     47\u001b[0m     \u001b[38;5;28;01mraise\u001b[39;00m ResetNeeded(\n\u001b[1;32m     48\u001b[0m         \u001b[38;5;124m\"\u001b[39m\u001b[38;5;124mCannot call `env.render()` before calling `env.reset()`, if this is a intended action, \u001b[39m\u001b[38;5;124m\"\u001b[39m\n\u001b[1;32m     49\u001b[0m         \u001b[38;5;124m\"\u001b[39m\u001b[38;5;124mset `disable_render_order_enforcing=True` on the OrderEnforcer wrapper.\u001b[39m\u001b[38;5;124m\"\u001b[39m\n\u001b[1;32m     50\u001b[0m     )\n\u001b[0;32m---> 51\u001b[0m \u001b[38;5;28;01mreturn\u001b[39;00m \u001b[38;5;28;43mself\u001b[39;49m\u001b[38;5;241;43m.\u001b[39;49m\u001b[43menv\u001b[49m\u001b[38;5;241;43m.\u001b[39;49m\u001b[43mrender\u001b[49m\u001b[43m(\u001b[49m\u001b[38;5;241;43m*\u001b[39;49m\u001b[43margs\u001b[49m\u001b[43m,\u001b[49m\u001b[43m \u001b[49m\u001b[38;5;241;43m*\u001b[39;49m\u001b[38;5;241;43m*\u001b[39;49m\u001b[43mkwargs\u001b[49m\u001b[43m)\u001b[49m\n",
      "File \u001b[0;32m~/.conda/envs/mujoco_env/lib/python3.9/site-packages/gym/wrappers/env_checker.py:53\u001b[0m, in \u001b[0;36mPassiveEnvChecker.render\u001b[0;34m(self, *args, **kwargs)\u001b[0m\n\u001b[1;32m     51\u001b[0m \u001b[38;5;28;01mif\u001b[39;00m \u001b[38;5;28mself\u001b[39m\u001b[38;5;241m.\u001b[39mchecked_render \u001b[38;5;129;01mis\u001b[39;00m \u001b[38;5;28;01mFalse\u001b[39;00m:\n\u001b[1;32m     52\u001b[0m     \u001b[38;5;28mself\u001b[39m\u001b[38;5;241m.\u001b[39mchecked_render \u001b[38;5;241m=\u001b[39m \u001b[38;5;28;01mTrue\u001b[39;00m\n\u001b[0;32m---> 53\u001b[0m     \u001b[38;5;28;01mreturn\u001b[39;00m \u001b[43menv_render_passive_checker\u001b[49m\u001b[43m(\u001b[49m\u001b[38;5;28;43mself\u001b[39;49m\u001b[38;5;241;43m.\u001b[39;49m\u001b[43menv\u001b[49m\u001b[43m,\u001b[49m\u001b[43m \u001b[49m\u001b[38;5;241;43m*\u001b[39;49m\u001b[43margs\u001b[49m\u001b[43m,\u001b[49m\u001b[43m \u001b[49m\u001b[38;5;241;43m*\u001b[39;49m\u001b[38;5;241;43m*\u001b[39;49m\u001b[43mkwargs\u001b[49m\u001b[43m)\u001b[49m\n\u001b[1;32m     54\u001b[0m \u001b[38;5;28;01melse\u001b[39;00m:\n\u001b[1;32m     55\u001b[0m     \u001b[38;5;28;01mreturn\u001b[39;00m \u001b[38;5;28mself\u001b[39m\u001b[38;5;241m.\u001b[39menv\u001b[38;5;241m.\u001b[39mrender(\u001b[38;5;241m*\u001b[39margs, \u001b[38;5;241m*\u001b[39m\u001b[38;5;241m*\u001b[39mkwargs)\n",
      "File \u001b[0;32m~/.conda/envs/mujoco_env/lib/python3.9/site-packages/gym/utils/passive_env_checker.py:316\u001b[0m, in \u001b[0;36menv_render_passive_checker\u001b[0;34m(env, *args, **kwargs)\u001b[0m\n\u001b[1;32m    310\u001b[0m     \u001b[38;5;28;01melse\u001b[39;00m:\n\u001b[1;32m    311\u001b[0m         \u001b[38;5;28;01massert\u001b[39;00m env\u001b[38;5;241m.\u001b[39mrender_mode \u001b[38;5;129;01mis\u001b[39;00m \u001b[38;5;28;01mNone\u001b[39;00m \u001b[38;5;129;01mor\u001b[39;00m env\u001b[38;5;241m.\u001b[39mrender_mode \u001b[38;5;129;01min\u001b[39;00m render_modes, (\n\u001b[1;32m    312\u001b[0m             \u001b[38;5;124m\"\u001b[39m\u001b[38;5;124mThe environment was initialized successfully however with an unsupported render mode. \u001b[39m\u001b[38;5;124m\"\u001b[39m\n\u001b[1;32m    313\u001b[0m             \u001b[38;5;124mf\u001b[39m\u001b[38;5;124m\"\u001b[39m\u001b[38;5;124mRender mode: \u001b[39m\u001b[38;5;132;01m{\u001b[39;00menv\u001b[38;5;241m.\u001b[39mrender_mode\u001b[38;5;132;01m}\u001b[39;00m\u001b[38;5;124m, modes: \u001b[39m\u001b[38;5;132;01m{\u001b[39;00mrender_modes\u001b[38;5;132;01m}\u001b[39;00m\u001b[38;5;124m\"\u001b[39m\n\u001b[1;32m    314\u001b[0m         )\n\u001b[0;32m--> 316\u001b[0m result \u001b[38;5;241m=\u001b[39m \u001b[43menv\u001b[49m\u001b[38;5;241;43m.\u001b[39;49m\u001b[43mrender\u001b[49m\u001b[43m(\u001b[49m\u001b[38;5;241;43m*\u001b[39;49m\u001b[43margs\u001b[49m\u001b[43m,\u001b[49m\u001b[43m \u001b[49m\u001b[38;5;241;43m*\u001b[39;49m\u001b[38;5;241;43m*\u001b[39;49m\u001b[43mkwargs\u001b[49m\u001b[43m)\u001b[49m\n\u001b[1;32m    318\u001b[0m \u001b[38;5;66;03m# TODO: Check that the result is correct\u001b[39;00m\n\u001b[1;32m    320\u001b[0m \u001b[38;5;28;01mreturn\u001b[39;00m result\n",
      "File \u001b[0;32m~/.conda/envs/mujoco_env/lib/python3.9/site-packages/gym/envs/mujoco/mujoco_env.py:391\u001b[0m, in \u001b[0;36mMujocoEnv.render\u001b[0;34m(self)\u001b[0m\n\u001b[1;32m    384\u001b[0m     \u001b[38;5;28;01mif\u001b[39;00m camera_id \u001b[38;5;129;01mis\u001b[39;00m \u001b[38;5;28;01mNone\u001b[39;00m:\n\u001b[1;32m    385\u001b[0m         camera_id \u001b[38;5;241m=\u001b[39m mujoco\u001b[38;5;241m.\u001b[39mmj_name2id(\n\u001b[1;32m    386\u001b[0m             \u001b[38;5;28mself\u001b[39m\u001b[38;5;241m.\u001b[39mmodel,\n\u001b[1;32m    387\u001b[0m             mujoco\u001b[38;5;241m.\u001b[39mmjtObj\u001b[38;5;241m.\u001b[39mmjOBJ_CAMERA,\n\u001b[1;32m    388\u001b[0m             camera_name,\n\u001b[1;32m    389\u001b[0m         )\n\u001b[0;32m--> 391\u001b[0m         \u001b[38;5;28;43mself\u001b[39;49m\u001b[38;5;241;43m.\u001b[39;49m\u001b[43m_get_viewer\u001b[49m\u001b[43m(\u001b[49m\u001b[38;5;28;43mself\u001b[39;49m\u001b[38;5;241;43m.\u001b[39;49m\u001b[43mrender_mode\u001b[49m\u001b[43m)\u001b[49m\u001b[38;5;241m.\u001b[39mrender(camera_id\u001b[38;5;241m=\u001b[39mcamera_id)\n\u001b[1;32m    393\u001b[0m \u001b[38;5;28;01mif\u001b[39;00m \u001b[38;5;28mself\u001b[39m\u001b[38;5;241m.\u001b[39mrender_mode \u001b[38;5;241m==\u001b[39m \u001b[38;5;124m\"\u001b[39m\u001b[38;5;124mrgb_array\u001b[39m\u001b[38;5;124m\"\u001b[39m:\n\u001b[1;32m    394\u001b[0m     data \u001b[38;5;241m=\u001b[39m \u001b[38;5;28mself\u001b[39m\u001b[38;5;241m.\u001b[39m_get_viewer(\u001b[38;5;28mself\u001b[39m\u001b[38;5;241m.\u001b[39mrender_mode)\u001b[38;5;241m.\u001b[39mread_pixels(depth\u001b[38;5;241m=\u001b[39m\u001b[38;5;28;01mFalse\u001b[39;00m)\n",
      "File \u001b[0;32m~/.conda/envs/mujoco_env/lib/python3.9/site-packages/gym/envs/mujoco/mujoco_env.py:426\u001b[0m, in \u001b[0;36mMujocoEnv._get_viewer\u001b[0;34m(self, mode)\u001b[0m\n\u001b[1;32m    423\u001b[0m \u001b[38;5;28;01melif\u001b[39;00m mode \u001b[38;5;129;01min\u001b[39;00m {\u001b[38;5;124m\"\u001b[39m\u001b[38;5;124mrgb_array\u001b[39m\u001b[38;5;124m\"\u001b[39m, \u001b[38;5;124m\"\u001b[39m\u001b[38;5;124mdepth_array\u001b[39m\u001b[38;5;124m\"\u001b[39m}:\n\u001b[1;32m    424\u001b[0m     \u001b[38;5;28;01mfrom\u001b[39;00m \u001b[38;5;21;01mgym\u001b[39;00m\u001b[38;5;21;01m.\u001b[39;00m\u001b[38;5;21;01menvs\u001b[39;00m\u001b[38;5;21;01m.\u001b[39;00m\u001b[38;5;21;01mmujoco\u001b[39;00m\u001b[38;5;21;01m.\u001b[39;00m\u001b[38;5;21;01mmujoco_rendering\u001b[39;00m \u001b[38;5;28;01mimport\u001b[39;00m RenderContextOffscreen\n\u001b[0;32m--> 426\u001b[0m     \u001b[38;5;28mself\u001b[39m\u001b[38;5;241m.\u001b[39mviewer \u001b[38;5;241m=\u001b[39m \u001b[43mRenderContextOffscreen\u001b[49m\u001b[43m(\u001b[49m\u001b[38;5;28;43mself\u001b[39;49m\u001b[38;5;241;43m.\u001b[39;49m\u001b[43mmodel\u001b[49m\u001b[43m,\u001b[49m\u001b[43m \u001b[49m\u001b[38;5;28;43mself\u001b[39;49m\u001b[38;5;241;43m.\u001b[39;49m\u001b[43mdata\u001b[49m\u001b[43m)\u001b[49m\n\u001b[1;32m    427\u001b[0m \u001b[38;5;28;01melse\u001b[39;00m:\n\u001b[1;32m    428\u001b[0m     \u001b[38;5;28;01mraise\u001b[39;00m \u001b[38;5;167;01mAttributeError\u001b[39;00m(\n\u001b[1;32m    429\u001b[0m         \u001b[38;5;124mf\u001b[39m\u001b[38;5;124m\"\u001b[39m\u001b[38;5;124mUnexpected mode: \u001b[39m\u001b[38;5;132;01m{\u001b[39;00mmode\u001b[38;5;132;01m}\u001b[39;00m\u001b[38;5;124m, expected modes: \u001b[39m\u001b[38;5;132;01m{\u001b[39;00m\u001b[38;5;28mself\u001b[39m\u001b[38;5;241m.\u001b[39mmetadata[\u001b[38;5;124m'\u001b[39m\u001b[38;5;124mrender_modes\u001b[39m\u001b[38;5;124m'\u001b[39m]\u001b[38;5;132;01m}\u001b[39;00m\u001b[38;5;124m\"\u001b[39m\n\u001b[1;32m    430\u001b[0m     )\n",
      "File \u001b[0;32m~/.conda/envs/mujoco_env/lib/python3.9/site-packages/gym/envs/mujoco/mujoco_rendering.py:232\u001b[0m, in \u001b[0;36mRenderContextOffscreen.__init__\u001b[0;34m(self, model, data)\u001b[0m\n\u001b[1;32m    229\u001b[0m \u001b[38;5;28mself\u001b[39m\u001b[38;5;241m.\u001b[39m_get_opengl_backend(width, height)\n\u001b[1;32m    230\u001b[0m \u001b[38;5;28mself\u001b[39m\u001b[38;5;241m.\u001b[39mopengl_context\u001b[38;5;241m.\u001b[39mmake_current()\n\u001b[0;32m--> 232\u001b[0m \u001b[38;5;28;43msuper\u001b[39;49m\u001b[43m(\u001b[49m\u001b[43m)\u001b[49m\u001b[38;5;241;43m.\u001b[39;49m\u001b[38;5;21;43m__init__\u001b[39;49m\u001b[43m(\u001b[49m\u001b[43mmodel\u001b[49m\u001b[43m,\u001b[49m\u001b[43m \u001b[49m\u001b[43mdata\u001b[49m\u001b[43m,\u001b[49m\u001b[43m \u001b[49m\u001b[43moffscreen\u001b[49m\u001b[38;5;241;43m=\u001b[39;49m\u001b[38;5;28;43;01mTrue\u001b[39;49;00m\u001b[43m)\u001b[49m\n",
      "File \u001b[0;32m~/.conda/envs/mujoco_env/lib/python3.9/site-packages/gym/envs/mujoco/mujoco_rendering.py:57\u001b[0m, in \u001b[0;36mRenderContext.__init__\u001b[0;34m(self, model, data, offscreen)\u001b[0m\n\u001b[1;32m     55\u001b[0m \u001b[38;5;28mself\u001b[39m\u001b[38;5;241m.\u001b[39mvopt \u001b[38;5;241m=\u001b[39m mujoco\u001b[38;5;241m.\u001b[39mMjvOption()\n\u001b[1;32m     56\u001b[0m \u001b[38;5;28mself\u001b[39m\u001b[38;5;241m.\u001b[39mpert \u001b[38;5;241m=\u001b[39m mujoco\u001b[38;5;241m.\u001b[39mMjvPerturb()\n\u001b[0;32m---> 57\u001b[0m \u001b[38;5;28mself\u001b[39m\u001b[38;5;241m.\u001b[39mcon \u001b[38;5;241m=\u001b[39m \u001b[43mmujoco\u001b[49m\u001b[38;5;241;43m.\u001b[39;49m\u001b[43mMjrContext\u001b[49m\u001b[43m(\u001b[49m\u001b[38;5;28;43mself\u001b[39;49m\u001b[38;5;241;43m.\u001b[39;49m\u001b[43mmodel\u001b[49m\u001b[43m,\u001b[49m\u001b[43m \u001b[49m\u001b[43mmujoco\u001b[49m\u001b[38;5;241;43m.\u001b[39;49m\u001b[43mmjtFontScale\u001b[49m\u001b[38;5;241;43m.\u001b[39;49m\u001b[43mmjFONTSCALE_150\u001b[49m\u001b[43m)\u001b[49m\n\u001b[1;32m     59\u001b[0m \u001b[38;5;28mself\u001b[39m\u001b[38;5;241m.\u001b[39m_markers \u001b[38;5;241m=\u001b[39m []\n\u001b[1;32m     60\u001b[0m \u001b[38;5;28mself\u001b[39m\u001b[38;5;241m.\u001b[39m_overlays \u001b[38;5;241m=\u001b[39m {}\n",
      "\u001b[0;31mFatalError\u001b[0m: an OpenGL platform library has not been loaded into this process, this most likely means that a valid OpenGL context has not been created before mjr_makeContext was called"
     ]
    }
   ],
   "source": [
    "alpha = torch.tensor([1.])\n",
    "\n",
    "state, _ = env.reset()\n",
    "total_reward = 0\n",
    "tqdm_range = tqdm(range(max_timesteps))\n",
    "for t in tqdm_range:\n",
    "    state = torch.FloatTensor(state).to(device)\n",
    "    with torch.no_grad():\n",
    "        action, log_p, state_value, entropy = model(state, alpha)\n",
    "    next_state, reward, terminated, truncated, _ = env.step(action.cpu().tolist())\n",
    "    done = terminated or truncated\n",
    "    \n",
    "    # Add data to memory\n",
    "    # memory.add(state, action, reward, action_logprob, done)\n",
    "    state = next_state\n",
    "    total_reward += reward\n",
    "    \n",
    "    clear_output(True)\n",
    "    frame = env.render()\n",
    "    plt.imshow(frame)\n",
    "    plt.show()\n",
    "    \n",
    "    # print(env.get_body_com('ffoot'))\n",
    "    # print(env.data.body('bfoot').cfrc_int, env.data.body('ffoot').cfrc_int)\n",
    "    \n",
    "    \n",
    "    # print(env.data.body('ffoot').xipos)\n",
    "    # print(env.data.body('bfoot').cfrc_ext.any(), env.data.body('ffoot').cfrc_ext.any())\n",
    "    # print(env.data.contact)\n",
    "    print(5 in env.data.contact.geom2, 8 in env.data.contact.geom2)\n",
    "    \n",
    "    # if env.data.contact.H.shape[0] != 0:\n",
    "        # break\n",
    "    \n",
    "    if done:\n",
    "        break\n",
    "    \n",
    "    # sleep(1)\n",
    "    \n",
    "print(total_reward)"
   ]
  },
  {
   "cell_type": "code",
   "execution_count": null,
   "metadata": {},
   "outputs": [
    {
     "data": {
      "text/plain": [
       "array([5, 8], dtype=int32)"
      ]
     },
     "execution_count": 129,
     "metadata": {},
     "output_type": "execute_result"
    }
   ],
   "source": [
    "env.data.contact.geom2"
   ]
  },
  {
   "cell_type": "code",
   "execution_count": null,
   "metadata": {},
   "outputs": [
    {
     "data": {
      "text/plain": [
       "<bound method PyCapsule.body of <mujoco._structs.MjData object at 0x754a173cd070>>"
      ]
     },
     "execution_count": 102,
     "metadata": {},
     "output_type": "execute_result"
    }
   ],
   "source": [
    "env.data.body"
   ]
  },
  {
   "cell_type": "code",
   "execution_count": null,
   "metadata": {},
   "outputs": [
    {
     "data": {
      "text/plain": [
       "array([  0.        ,  22.1293691 ,   0.        , -52.90674133,\n",
       "         0.        , -13.8416032 ])"
      ]
     },
     "execution_count": 96,
     "metadata": {},
     "output_type": "execute_result"
    }
   ],
   "source": [
    "env.data.body('ffoot').cfrc_int"
   ]
  },
  {
   "cell_type": "code",
   "execution_count": null,
   "metadata": {},
   "outputs": [
    {
     "data": {
      "text/plain": [
       "array([  0.        , -65.58391056,   0.        , 124.25011867,\n",
       "         0.        , -41.76418074])"
      ]
     },
     "execution_count": 94,
     "metadata": {},
     "output_type": "execute_result"
    }
   ],
   "source": [
    "env.data.body('bfoot').cfrc_int"
   ]
  },
  {
   "cell_type": "code",
   "execution_count": null,
   "metadata": {},
   "outputs": [
    {
     "data": {
      "text/plain": [
       "<_MjDataBodyViews\n",
       "  cacc: array([   0.        , -731.05017666,    0.        ,  -51.67292521,\n",
       "          0.        ,  575.00922327])\n",
       "  cfrc_ext: array([0., 0., 0., 0., 0., 0.])\n",
       "  cfrc_int: array([  0.        , -65.58391056,   0.        , 124.25011867,\n",
       "         0.        , -41.76418074])\n",
       "  cinert: array([ 0.05770359,  0.76445357,  0.70785189,  0.        , -0.19661607,\n",
       "        0.        , -0.87857201,  0.        , -0.24193659,  1.09539749])\n",
       "  crb: array([ 0.05770359,  0.76445357,  0.70785189,  0.        , -0.19661607,\n",
       "        0.        , -0.87857201,  0.        , -0.24193659,  1.09539749])\n",
       "  cvel: array([ 0.        ,  7.11009233,  0.        ,  5.33851089,  0.        ,\n",
       "       -5.19108022])\n",
       "  id: 4\n",
       "  name: 'bfoot'\n",
       "  subtree_angmom: array([0., 0., 0.])\n",
       "  subtree_com: array([2.04672575, 0.        , 0.42603072])\n",
       "  subtree_linvel: array([0., 0., 0.])\n",
       "  xfrc_applied: array([0., 0., 0., 0., 0., 0.])\n",
       "  ximat: array([ 0.77652312,  0.        ,  0.63008876,  0.        ,  1.        ,\n",
       "        0.        , -0.63008876,  0.        ,  0.77652312])\n",
       "  xipos: array([2.04672575, 0.        , 0.42603072])\n",
       "  xmat: array([ 0.5803259 ,  0.        ,  0.81438433,  0.        ,  1.        ,\n",
       "        0.        , -0.81438433,  0.        ,  0.5803259 ])\n",
       "  xpos: array([2.10831126, 0.        , 0.50675386])\n",
       "  xquat: array([0.8889111 , 0.        , 0.45807974, 0.        ])\n",
       ">"
      ]
     },
     "execution_count": 95,
     "metadata": {},
     "output_type": "execute_result"
    }
   ],
   "source": [
    "env.data.body('bfoot')"
   ]
  },
  {
   "cell_type": "code",
   "execution_count": 45,
   "metadata": {},
   "outputs": [
    {
     "data": {
      "text/plain": [
       "'03/11/2024-21:15:50'"
      ]
     },
     "execution_count": 45,
     "metadata": {},
     "output_type": "execute_result"
    }
   ],
   "source": [
    "from datetime import datetime\n",
    "now = datetime.now()\n",
    "formatted_time = now.strftime(\"%d/%m/%Y-%H:%M:%S\")\n",
    "formatted_time"
   ]
  },
  {
   "cell_type": "code",
   "execution_count": 42,
   "metadata": {},
   "outputs": [
    {
     "ename": "AttributeError",
     "evalue": "module 'datetime' has no attribute 'now'",
     "output_type": "error",
     "traceback": [
      "\u001b[0;31m---------------------------------------------------------------------------\u001b[0m",
      "\u001b[0;31mAttributeError\u001b[0m                            Traceback (most recent call last)",
      "Cell \u001b[0;32mIn[42], line 1\u001b[0m\n\u001b[0;32m----> 1\u001b[0m \u001b[43mdatetime\u001b[49m\u001b[38;5;241;43m.\u001b[39;49m\u001b[43mnow\u001b[49m\n",
      "\u001b[0;31mAttributeError\u001b[0m: module 'datetime' has no attribute 'now'"
     ]
    }
   ],
   "source": [
    "datetime.now"
   ]
  }
 ],
 "metadata": {
  "kernelspec": {
   "display_name": "main_rl",
   "language": "python",
   "name": "python3"
  },
  "language_info": {
   "codemirror_mode": {
    "name": "ipython",
    "version": 3
   },
   "file_extension": ".py",
   "mimetype": "text/x-python",
   "name": "python",
   "nbconvert_exporter": "python",
   "pygments_lexer": "ipython3",
   "version": "3.9.20"
  }
 },
 "nbformat": 4,
 "nbformat_minor": 2
}
