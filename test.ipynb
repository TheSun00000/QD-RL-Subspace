{
 "cells": [
  {
   "cell_type": "code",
   "execution_count": 1,
   "metadata": {},
   "outputs": [],
   "source": [
    "import gym\n",
    "import torch\n",
    "import torch.nn as nn\n",
    "import torch.nn.functional as F\n",
    "import torch.optim as optim\n",
    "from torch.distributions import Categorical\n",
    "import numpy as np\n",
    "\n",
    "from tqdm import tqdm\n",
    "from IPython.display import clear_output\n",
    "import matplotlib.pyplot as plt"
   ]
  },
  {
   "cell_type": "code",
   "execution_count": 93,
   "metadata": {},
   "outputs": [],
   "source": [
    "class ActorCritic(nn.Module):\n",
    "    def __init__(self):\n",
    "        super(ActorCritic, self).__init__()\n",
    "        self.actor = nn.Sequential(\n",
    "            nn.Linear(2, 1),\n",
    "        )\n",
    "        \n",
    "    def forward(self, x):\n",
    "        return self.actor(x)"
   ]
  },
  {
   "cell_type": "code",
   "execution_count": 121,
   "metadata": {},
   "outputs": [
    {
     "name": "stdout",
     "output_type": "stream",
     "text": [
      "tensor([[-0.3053, -0.5017]])\n",
      "tensor([-0.0585])\n",
      "tensor([[-0.3566, -0.5534]])\n",
      "tensor([-0.1585])\n"
     ]
    }
   ],
   "source": [
    "model1 = ActorCritic()\n",
    "model2 = ActorCritic()\n",
    "\n",
    "optimizer1 = torch.optim.SGD(model1.parameters(), lr=0.1)\n",
    "\n",
    "x = torch.rand((128, 2))\n",
    "\n",
    "\n",
    "model3 = ActorCritic()\n",
    "\n",
    "\n",
    "# Add the weights of model2 to model3\n",
    "for param1, param2, param3 in zip(model1.parameters(), model2.parameters(), model3.parameters()):\n",
    "    param3.data = param1 + param2\n",
    "    print(param1.data)\n",
    "        \n",
    "model3(x).mean().backward()\n",
    "\n",
    "for param1, param2, param3 in zip(model1.parameters(), model2.parameters(), model3.parameters()):\n",
    "    # print(param1.grad)\n",
    "    param1.grad = param3.grad\n",
    "    \n",
    "# for param1, param2, param3 in zip(model1.parameters(), model2.parameters(), model3.parameters()):\n",
    "    # print(param1.grad)\n",
    "    \n",
    "optimizer1.step()\n",
    "\n",
    "for param1, param2, param3 in zip(model1.parameters(), model2.parameters(), model3.parameters()):\n",
    "    print(param1.data)"
   ]
  },
  {
   "cell_type": "code",
   "execution_count": 78,
   "metadata": {},
   "outputs": [
    {
     "data": {
      "text/plain": [
       "(None, None, tensor([[0.5532]]))"
      ]
     },
     "execution_count": 78,
     "metadata": {},
     "output_type": "execute_result"
    }
   ],
   "source": [
    "list(model1.actor.parameters())[0].grad, list(model2.actor.parameters())[0].grad, list(model3.actor.parameters())[0].grad"
   ]
  },
  {
   "cell_type": "markdown",
   "metadata": {},
   "source": [
    "---"
   ]
  },
  {
   "cell_type": "code",
   "execution_count": 2,
   "metadata": {},
   "outputs": [],
   "source": [
    "import copy\n",
    "\n",
    "class Linear(nn.Module):\n",
    "    def __init__(self, n_anchors, in_channels, out_channels, bias = True, same_init = False):\n",
    "        super().__init__()\n",
    "        self.n_anchors = n_anchors\n",
    "        self.in_channels = in_channels\n",
    "        self.out_channels = out_channels\n",
    "        self.is_bias = bias\n",
    "\n",
    "        if same_init:\n",
    "            anchor = nn.Linear(in_channels,out_channels,bias=self.is_bias)\n",
    "            anchors = [copy.deepcopy(anchor) for _ in range(n_anchors)]\n",
    "        else:\n",
    "            anchors = [nn.Linear(in_channels,out_channels,bias=self.is_bias) for _ in range(n_anchors)]\n",
    "        self.anchors = nn.ModuleList(anchors)\n",
    "\n",
    "    def forward(self, x, alpha):\n",
    "        xs = [anchor(x) for anchor in self.anchors]\n",
    "        xs = torch.stack(xs,dim=-1)\n",
    "\n",
    "        alpha = torch.stack([alpha] * self.out_channels, dim=-2)\n",
    "        xs = (xs * alpha).sum(-1)\n",
    "        return xs\n",
    "\n",
    "class Sequential(nn.Sequential):\n",
    "    def __init__(self,*args):\n",
    "        super().__init__(*args)\n",
    "\n",
    "    def forward(self, input, t):\n",
    "        for module in self:\n",
    "            input = module(input,t) if isinstance(module,Linear) else module(input)\n",
    "        return input"
   ]
  },
  {
   "cell_type": "code",
   "execution_count": 16,
   "metadata": {},
   "outputs": [
    {
     "data": {
      "text/plain": [
       "tensor(-0.3001, grad_fn=<MeanBackward0>)"
      ]
     },
     "execution_count": 16,
     "metadata": {},
     "output_type": "execute_result"
    }
   ],
   "source": []
  },
  {
   "cell_type": "code",
   "execution_count": 49,
   "metadata": {},
   "outputs": [],
   "source": [
    "linear = Linear(2, 2, 3, bias=False)\n",
    "\n",
    "x = torch.rand((128, 2))\n",
    "alpha = torch.tensor([1., 1])\n",
    "linear(x, alpha).mean().backward()"
   ]
  },
  {
   "cell_type": "code",
   "execution_count": 50,
   "metadata": {},
   "outputs": [
    {
     "data": {
      "text/plain": [
       "tensor([[0.1646, 0.1663],\n",
       "        [0.1646, 0.1663],\n",
       "        [0.1646, 0.1663]])"
      ]
     },
     "execution_count": 50,
     "metadata": {},
     "output_type": "execute_result"
    }
   ],
   "source": [
    "list(linear.anchors[0].parameters())[0].grad"
   ]
  },
  {
   "cell_type": "code",
   "execution_count": 51,
   "metadata": {},
   "outputs": [
    {
     "data": {
      "text/plain": [
       "tensor([[0.1646, 0.1663],\n",
       "        [0.1646, 0.1663],\n",
       "        [0.1646, 0.1663]])"
      ]
     },
     "execution_count": 51,
     "metadata": {},
     "output_type": "execute_result"
    }
   ],
   "source": [
    "list(linear.anchors[1].parameters())[0].grad"
   ]
  }
 ],
 "metadata": {
  "kernelspec": {
   "display_name": "Python 3",
   "language": "python",
   "name": "python3"
  },
  "language_info": {
   "codemirror_mode": {
    "name": "ipython",
    "version": 3
   },
   "file_extension": ".py",
   "mimetype": "text/x-python",
   "name": "python",
   "nbconvert_exporter": "python",
   "pygments_lexer": "ipython3",
   "version": "3.10.12"
  }
 },
 "nbformat": 4,
 "nbformat_minor": 2
}
