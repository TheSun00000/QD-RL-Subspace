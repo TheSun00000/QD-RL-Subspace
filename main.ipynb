{
 "cells": [
  {
   "cell_type": "code",
   "execution_count": 3,
   "metadata": {},
   "outputs": [],
   "source": [
    "import gym\n",
    "import torch\n",
    "import torch.nn as nn\n",
    "import torch.optim as optim\n",
    "import numpy as np\n",
    "from torch.distributions import Normal\n",
    "\n",
    "import matplotlib.pyplot as plt\n",
    "from IPython.display import clear_output\n",
    "\n",
    "device = 'cuda' if torch.cuda.is_available() else 'cpu'"
   ]
  },
  {
   "cell_type": "code",
   "execution_count": 4,
   "metadata": {},
   "outputs": [],
   "source": [
    "# Hyperparameters\n",
    "max_timesteps = 3000\n",
    "n_epochs = 10\n",
    "learning_rate = 0.0003\n",
    "gamma = 0.99\n",
    "eps_clip = 0.2\n",
    "K_epochs = 4\n",
    "action_std = 0.5\n",
    "batch_size = 64\n",
    "update_timestep = 2000"
   ]
  },
  {
   "cell_type": "code",
   "execution_count": 5,
   "metadata": {},
   "outputs": [],
   "source": [
    "class Memory:\n",
    "    def __init__(self):\n",
    "        self.states = []\n",
    "        self.actions = []\n",
    "        self.rewards = []\n",
    "        self.logprobs = []\n",
    "        self.dones = []\n",
    "\n",
    "    def add(self, state, action, reward, logprob, done):\n",
    "        self.states.append(state)\n",
    "        self.actions.append(action)\n",
    "        self.rewards.append(reward)\n",
    "        self.logprobs.append(logprob)\n",
    "        self.dones.append(done)\n",
    "\n",
    "    def clear(self):\n",
    "        self.states = []\n",
    "        self.actions = []\n",
    "        self.rewards = []\n",
    "        self.logprobs = []\n",
    "        self.dones = []"
   ]
  },
  {
   "cell_type": "code",
   "execution_count": 6,
   "metadata": {},
   "outputs": [],
   "source": [
    "memory = Memory()"
   ]
  },
  {
   "cell_type": "code",
   "execution_count": 7,
   "metadata": {},
   "outputs": [
    {
     "name": "stderr",
     "output_type": "stream",
     "text": [
      "/home/nazim/.local/lib/python3.10/site-packages/gym/utils/passive_env_checker.py:233: DeprecationWarning: `np.bool8` is a deprecated alias for `np.bool_`.  (Deprecated NumPy 1.24)\n",
      "  if not isinstance(terminated, (bool, np.bool8)):\n"
     ]
    },
    {
     "ename": "NameError",
     "evalue": "name 'state' is not defined",
     "output_type": "error",
     "traceback": [
      "\u001b[0;31m---------------------------------------------------------------------------\u001b[0m",
      "\u001b[0;31mNameError\u001b[0m                                 Traceback (most recent call last)",
      "Cell \u001b[0;32mIn[7], line 20\u001b[0m\n\u001b[1;32m     17\u001b[0m next_state, reward, terminated, truncated, _ \u001b[38;5;241m=\u001b[39m env\u001b[38;5;241m.\u001b[39mstep(action)\n\u001b[1;32m     19\u001b[0m \u001b[38;5;66;03m# model.put_data((s, a, r/100.0, s_prime, prob, done))\u001b[39;00m\n\u001b[0;32m---> 20\u001b[0m memory\u001b[38;5;241m.\u001b[39madd(\u001b[43mstate\u001b[49m, action, reward, action_logprob, terminated)\n\u001b[1;32m     21\u001b[0m state \u001b[38;5;241m=\u001b[39m next_state\n\u001b[1;32m     22\u001b[0m total_reward \u001b[38;5;241m+\u001b[39m\u001b[38;5;241m=\u001b[39m reward\n",
      "\u001b[0;31mNameError\u001b[0m: name 'state' is not defined"
     ]
    }
   ],
   "source": [
    "env = gym.make('CartPole-v1')\n",
    "# model = PPO()\n",
    "score = 0.0\n",
    "print_interval = 1\n",
    "\n",
    "timestep = 0\n",
    "\n",
    "for n_epi in range(1000):\n",
    "    s = env.reset()\n",
    "    done = False\n",
    "    total_reward = 0\n",
    "    for t in range(600):\n",
    "        timestep += 1\n",
    "        # a, prob = model.select_action(s)\n",
    "        action = 0\n",
    "        action_logprob  = 0.5\n",
    "        next_state, reward, terminated, truncated, _ = env.step(action)\n",
    "\n",
    "        # model.put_data((s, a, r/100.0, s_prime, prob, done))\n",
    "        memory.add(state, action, reward, action_logprob, terminated)\n",
    "        state = next_state\n",
    "        total_reward += reward\n",
    "        \n",
    "        if terminated or truncated:\n",
    "            break\n",
    "        \n",
    "        if timestep % update_timestep == 0:\n",
    "            # ppo_agent.update(memory)\n",
    "            memory.clear()\n",
    "            timestep = 0\n",
    "        # print(t)\n",
    "\n",
    "        # model.train()\n",
    "\n",
    "    # if n_epi % print_interval == 0 and n_epi != 0:\n",
    "    # print(\"# of episode :{}, avg score : {:.1f}\".format(n_epi, score/print_interval))\n",
    "    score = 0.0\n",
    "    \n",
    "    # print(score)"
   ]
  },
  {
   "cell_type": "code",
   "execution_count": 21,
   "metadata": {},
   "outputs": [
    {
     "data": {
      "text/plain": [
       "1345"
      ]
     },
     "execution_count": 21,
     "metadata": {},
     "output_type": "execute_result"
    }
   ],
   "source": [
    "len(memory.states)"
   ]
  }
 ],
 "metadata": {
  "kernelspec": {
   "display_name": "Python 3",
   "language": "python",
   "name": "python3"
  },
  "language_info": {
   "codemirror_mode": {
    "name": "ipython",
    "version": 3
   },
   "file_extension": ".py",
   "mimetype": "text/x-python",
   "name": "python",
   "nbconvert_exporter": "python",
   "pygments_lexer": "ipython3",
   "version": "3.10.12"
  }
 },
 "nbformat": 4,
 "nbformat_minor": 2
}
