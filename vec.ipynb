{
 "cells": [
  {
   "cell_type": "code",
   "execution_count": 1,
   "metadata": {},
   "outputs": [],
   "source": [
    "import gym\n",
    "from gym.vector import make\n",
    "\n",
    "import torch\n",
    "import torch.nn as nn\n",
    "import torch.optim as optim\n",
    "import numpy as np\n",
    "\n",
    "from tqdm import tqdm\n",
    "from IPython.display import clear_output\n",
    "import matplotlib.pyplot as plt\n",
    "\n",
    "from utils.network import Linear, Sequential\n",
    "import random\n",
    "\n",
    "from tqdm import tqdm"
   ]
  },
  {
   "cell_type": "code",
   "execution_count": 37,
   "metadata": {},
   "outputs": [
    {
     "name": "stderr",
     "output_type": "stream",
     "text": [
      "  0%|          | 0/1000 [00:00<?, ?it/s]/home/nazim/.local/lib/python3.10/site-packages/gym/utils/passive_env_checker.py:233: DeprecationWarning: `np.bool8` is a deprecated alias for `np.bool_`.  (Deprecated NumPy 1.24)\n",
      "  if not isinstance(terminated, (bool, np.bool8)):\n",
      "100%|██████████| 1000/1000 [00:00<00:00, 1939.26it/s]\n"
     ]
    }
   ],
   "source": [
    "env = make('HalfCheetah-v4', num_envs=8, render_mode=\"rgb_array\")\n",
    "obs, _ = env.reset()\n",
    "\n",
    "\n",
    "for _ in tqdm(range(1000)):  # Run for 100 timesteps\n",
    "    # Take random actions for each environment instance\n",
    "    actions = env.action_space.sample()\n",
    "    \n",
    "    # Step through the environment\n",
    "    obs, rewards, terminated, truncated, infos = env.step(actions)\n",
    "    \n",
    "    # Print information\n",
    "    # print(\"obs:\", obs)\n",
    "    # print(\"Rewards:\", rewards)\n",
    "    # print(\"Dones:\", dones)\n",
    "    # print(\"Infos:\", infos)\n",
    "    \n",
    "    # # Check if any environments are done\n",
    "    # if dones.any():\n",
    "    #     print(\"Resetting environments that are done...\")\n",
    "    #     obs, _ = env.reset(np.where(dones)[0])"
   ]
  },
  {
   "cell_type": "code",
   "execution_count": 1,
   "metadata": {},
   "outputs": [],
   "source": [
    "import gym\n",
    "from gym.vector import SyncVectorEnv\n",
    "import numpy as np\n",
    "from tqdm import tqdm"
   ]
  },
  {
   "cell_type": "code",
   "execution_count": 14,
   "metadata": {},
   "outputs": [
    {
     "name": "stderr",
     "output_type": "stream",
     "text": [
      "100%|██████████| 1000/1000 [00:00<00:00, 8570.98it/s]\n"
     ]
    }
   ],
   "source": [
    "# Define the environment creation functions\n",
    "env_fns = [lambda: gym.make('HalfCheetah-v4', render_mode=\"rgb_array\") for _ in range(2)]\n",
    "\n",
    "# Create the SyncVectorEnv with 8 parallel environments\n",
    "env = SyncVectorEnv(env_fns)\n",
    "obs = env.reset()\n",
    "\n",
    "for _ in tqdm(range(1000)):  # Run for 1000 timesteps\n",
    "    # Sample random actions for each environment instance\n",
    "    actions = np.array([env.single_action_space.sample() for _ in range(env.num_envs)])\n",
    "    \n",
    "    # Step through the environments\n",
    "    obs, rewards, terminated, truncated, infos = env.step(actions)\n",
    "    \n",
    "    \n",
    "    # # Check if any environments are done\n",
    "    # if np.any(terminated) or np.any(truncated):\n",
    "    #     # Reset only the environments that are done\n",
    "    #     envs_to_reset = np.where(terminated | truncated)[0]\n",
    "    #     new_obs = env.reset(envs_to_reset)\n",
    "    #     obs[envs_to_reset] = new_obs  # Update obs with the reset ones\n"
   ]
  },
  {
   "cell_type": "code",
   "execution_count": 14,
   "metadata": {},
   "outputs": [
    {
     "ename": "XlaRuntimeError",
     "evalue": "INTERNAL: cuSolver internal error",
     "output_type": "error",
     "traceback": [
      "\u001b[0;31m---------------------------------------------------------------------------\u001b[0m",
      "\u001b[0;31mXlaRuntimeError\u001b[0m                           Traceback (most recent call last)",
      "Cell \u001b[0;32mIn[14], line 9\u001b[0m\n\u001b[1;32m      7\u001b[0m env \u001b[38;5;241m=\u001b[39m create(env_name\u001b[38;5;241m=\u001b[39m\u001b[38;5;124m'\u001b[39m\u001b[38;5;124mant\u001b[39m\u001b[38;5;124m'\u001b[39m, debug\u001b[38;5;241m=\u001b[39m\u001b[38;5;28;01mTrue\u001b[39;00m, backend\u001b[38;5;241m=\u001b[39m\u001b[38;5;124m'\u001b[39m\u001b[38;5;124mmjx\u001b[39m\u001b[38;5;124m'\u001b[39m)\n\u001b[1;32m      8\u001b[0m key \u001b[38;5;241m=\u001b[39m jax\u001b[38;5;241m.\u001b[39mrandom\u001b[38;5;241m.\u001b[39mPRNGKey(\u001b[38;5;241m0\u001b[39m)  \u001b[38;5;66;03m# Initialize the random key\u001b[39;00m\n\u001b[0;32m----> 9\u001b[0m state \u001b[38;5;241m=\u001b[39m \u001b[43menv\u001b[49m\u001b[38;5;241;43m.\u001b[39;49m\u001b[43mreset\u001b[49m\u001b[43m(\u001b[49m\u001b[43mkey\u001b[49m\u001b[43m)\u001b[49m\n\u001b[1;32m     11\u001b[0m \u001b[38;5;66;03m# Run a simple loop with random actions\u001b[39;00m\n\u001b[1;32m     12\u001b[0m \u001b[38;5;28;01mfor\u001b[39;00m _ \u001b[38;5;129;01min\u001b[39;00m \u001b[38;5;28mrange\u001b[39m(\u001b[38;5;241m100\u001b[39m):\n",
      "File \u001b[0;32m~/.local/lib/python3.10/site-packages/brax/envs/wrappers/training.py:111\u001b[0m, in \u001b[0;36mAutoResetWrapper.reset\u001b[0;34m(self, rng)\u001b[0m\n\u001b[1;32m    110\u001b[0m \u001b[38;5;28;01mdef\u001b[39;00m \u001b[38;5;21mreset\u001b[39m(\u001b[38;5;28mself\u001b[39m, rng: jax\u001b[38;5;241m.\u001b[39mArray) \u001b[38;5;241m-\u001b[39m\u001b[38;5;241m>\u001b[39m State:\n\u001b[0;32m--> 111\u001b[0m   state \u001b[38;5;241m=\u001b[39m \u001b[38;5;28;43mself\u001b[39;49m\u001b[38;5;241;43m.\u001b[39;49m\u001b[43menv\u001b[49m\u001b[38;5;241;43m.\u001b[39;49m\u001b[43mreset\u001b[49m\u001b[43m(\u001b[49m\u001b[43mrng\u001b[49m\u001b[43m)\u001b[49m\n\u001b[1;32m    112\u001b[0m   state\u001b[38;5;241m.\u001b[39minfo[\u001b[38;5;124m'\u001b[39m\u001b[38;5;124mfirst_pipeline_state\u001b[39m\u001b[38;5;124m'\u001b[39m] \u001b[38;5;241m=\u001b[39m state\u001b[38;5;241m.\u001b[39mpipeline_state\n\u001b[1;32m    113\u001b[0m   state\u001b[38;5;241m.\u001b[39minfo[\u001b[38;5;124m'\u001b[39m\u001b[38;5;124mfirst_obs\u001b[39m\u001b[38;5;124m'\u001b[39m] \u001b[38;5;241m=\u001b[39m state\u001b[38;5;241m.\u001b[39mobs\n",
      "File \u001b[0;32m~/.local/lib/python3.10/site-packages/brax/envs/wrappers/training.py:83\u001b[0m, in \u001b[0;36mEpisodeWrapper.reset\u001b[0;34m(self, rng)\u001b[0m\n\u001b[1;32m     82\u001b[0m \u001b[38;5;28;01mdef\u001b[39;00m \u001b[38;5;21mreset\u001b[39m(\u001b[38;5;28mself\u001b[39m, rng: jax\u001b[38;5;241m.\u001b[39mArray) \u001b[38;5;241m-\u001b[39m\u001b[38;5;241m>\u001b[39m State:\n\u001b[0;32m---> 83\u001b[0m   state \u001b[38;5;241m=\u001b[39m \u001b[38;5;28;43mself\u001b[39;49m\u001b[38;5;241;43m.\u001b[39;49m\u001b[43menv\u001b[49m\u001b[38;5;241;43m.\u001b[39;49m\u001b[43mreset\u001b[49m\u001b[43m(\u001b[49m\u001b[43mrng\u001b[49m\u001b[43m)\u001b[49m\n\u001b[1;32m     84\u001b[0m   state\u001b[38;5;241m.\u001b[39minfo[\u001b[38;5;124m'\u001b[39m\u001b[38;5;124msteps\u001b[39m\u001b[38;5;124m'\u001b[39m] \u001b[38;5;241m=\u001b[39m jp\u001b[38;5;241m.\u001b[39mzeros(rng\u001b[38;5;241m.\u001b[39mshape[:\u001b[38;5;241m-\u001b[39m\u001b[38;5;241m1\u001b[39m])\n\u001b[1;32m     85\u001b[0m   state\u001b[38;5;241m.\u001b[39minfo[\u001b[38;5;124m'\u001b[39m\u001b[38;5;124mtruncation\u001b[39m\u001b[38;5;124m'\u001b[39m] \u001b[38;5;241m=\u001b[39m jp\u001b[38;5;241m.\u001b[39mzeros(rng\u001b[38;5;241m.\u001b[39mshape[:\u001b[38;5;241m-\u001b[39m\u001b[38;5;241m1\u001b[39m])\n",
      "File \u001b[0;32m~/.local/lib/python3.10/site-packages/brax/envs/ant.py:215\u001b[0m, in \u001b[0;36mAnt.reset\u001b[0;34m(self, rng)\u001b[0m\n\u001b[1;32m    210\u001b[0m q \u001b[38;5;241m=\u001b[39m \u001b[38;5;28mself\u001b[39m\u001b[38;5;241m.\u001b[39msys\u001b[38;5;241m.\u001b[39minit_q \u001b[38;5;241m+\u001b[39m jax\u001b[38;5;241m.\u001b[39mrandom\u001b[38;5;241m.\u001b[39muniform(\n\u001b[1;32m    211\u001b[0m     rng1, (\u001b[38;5;28mself\u001b[39m\u001b[38;5;241m.\u001b[39msys\u001b[38;5;241m.\u001b[39mq_size(),), minval\u001b[38;5;241m=\u001b[39mlow, maxval\u001b[38;5;241m=\u001b[39mhi\n\u001b[1;32m    212\u001b[0m )\n\u001b[1;32m    213\u001b[0m qd \u001b[38;5;241m=\u001b[39m hi \u001b[38;5;241m*\u001b[39m jax\u001b[38;5;241m.\u001b[39mrandom\u001b[38;5;241m.\u001b[39mnormal(rng2, (\u001b[38;5;28mself\u001b[39m\u001b[38;5;241m.\u001b[39msys\u001b[38;5;241m.\u001b[39mqd_size(),))\n\u001b[0;32m--> 215\u001b[0m pipeline_state \u001b[38;5;241m=\u001b[39m \u001b[38;5;28;43mself\u001b[39;49m\u001b[38;5;241;43m.\u001b[39;49m\u001b[43mpipeline_init\u001b[49m\u001b[43m(\u001b[49m\u001b[43mq\u001b[49m\u001b[43m,\u001b[49m\u001b[43m \u001b[49m\u001b[43mqd\u001b[49m\u001b[43m)\u001b[49m\n\u001b[1;32m    216\u001b[0m obs \u001b[38;5;241m=\u001b[39m \u001b[38;5;28mself\u001b[39m\u001b[38;5;241m.\u001b[39m_get_obs(pipeline_state)\n\u001b[1;32m    218\u001b[0m reward, done, zero \u001b[38;5;241m=\u001b[39m jp\u001b[38;5;241m.\u001b[39mzeros(\u001b[38;5;241m3\u001b[39m)\n",
      "File \u001b[0;32m~/.local/lib/python3.10/site-packages/brax/envs/base.py:123\u001b[0m, in \u001b[0;36mPipelineEnv.pipeline_init\u001b[0;34m(self, q, qd, act, ctrl)\u001b[0m\n\u001b[1;32m    115\u001b[0m \u001b[38;5;28;01mdef\u001b[39;00m \u001b[38;5;21mpipeline_init\u001b[39m(\n\u001b[1;32m    116\u001b[0m     \u001b[38;5;28mself\u001b[39m,\n\u001b[1;32m    117\u001b[0m     q: jax\u001b[38;5;241m.\u001b[39mArray,\n\u001b[0;32m   (...)\u001b[0m\n\u001b[1;32m    120\u001b[0m     ctrl: Optional[jax\u001b[38;5;241m.\u001b[39mArray] \u001b[38;5;241m=\u001b[39m \u001b[38;5;28;01mNone\u001b[39;00m,\n\u001b[1;32m    121\u001b[0m ) \u001b[38;5;241m-\u001b[39m\u001b[38;5;241m>\u001b[39m base\u001b[38;5;241m.\u001b[39mState:\n\u001b[1;32m    122\u001b[0m \u001b[38;5;250m  \u001b[39m\u001b[38;5;124;03m\"\"\"Initializes the pipeline state.\"\"\"\u001b[39;00m\n\u001b[0;32m--> 123\u001b[0m   \u001b[38;5;28;01mreturn\u001b[39;00m \u001b[38;5;28;43mself\u001b[39;49m\u001b[38;5;241;43m.\u001b[39;49m\u001b[43m_pipeline\u001b[49m\u001b[38;5;241;43m.\u001b[39;49m\u001b[43minit\u001b[49m\u001b[43m(\u001b[49m\u001b[38;5;28;43mself\u001b[39;49m\u001b[38;5;241;43m.\u001b[39;49m\u001b[43msys\u001b[49m\u001b[43m,\u001b[49m\u001b[43m \u001b[49m\u001b[43mq\u001b[49m\u001b[43m,\u001b[49m\u001b[43m \u001b[49m\u001b[43mqd\u001b[49m\u001b[43m,\u001b[49m\u001b[43m \u001b[49m\u001b[43mact\u001b[49m\u001b[43m,\u001b[49m\u001b[43m \u001b[49m\u001b[43mctrl\u001b[49m\u001b[43m,\u001b[49m\u001b[43m \u001b[49m\u001b[38;5;28;43mself\u001b[39;49m\u001b[38;5;241;43m.\u001b[39;49m\u001b[43m_debug\u001b[49m\u001b[43m)\u001b[49m\n",
      "File \u001b[0;32m~/.local/lib/python3.10/site-packages/brax/mjx/pipeline.py:72\u001b[0m, in \u001b[0;36minit\u001b[0;34m(sys, q, qd, act, ctrl, unused_debug)\u001b[0m\n\u001b[1;32m     69\u001b[0m \u001b[38;5;28;01mif\u001b[39;00m ctrl \u001b[38;5;129;01mis\u001b[39;00m \u001b[38;5;129;01mnot\u001b[39;00m \u001b[38;5;28;01mNone\u001b[39;00m:\n\u001b[1;32m     70\u001b[0m   data \u001b[38;5;241m=\u001b[39m data\u001b[38;5;241m.\u001b[39mreplace(ctrl\u001b[38;5;241m=\u001b[39mctrl)\n\u001b[0;32m---> 72\u001b[0m data \u001b[38;5;241m=\u001b[39m \u001b[43mmjx\u001b[49m\u001b[38;5;241;43m.\u001b[39;49m\u001b[43mforward\u001b[49m\u001b[43m(\u001b[49m\u001b[43msys\u001b[49m\u001b[43m,\u001b[49m\u001b[43m \u001b[49m\u001b[43mdata\u001b[49m\u001b[43m)\u001b[49m\n\u001b[1;32m     74\u001b[0m q, qd \u001b[38;5;241m=\u001b[39m data\u001b[38;5;241m.\u001b[39mqpos, data\u001b[38;5;241m.\u001b[39mqvel\n\u001b[1;32m     75\u001b[0m x \u001b[38;5;241m=\u001b[39m Transform(pos\u001b[38;5;241m=\u001b[39mdata\u001b[38;5;241m.\u001b[39mxpos[\u001b[38;5;241m1\u001b[39m:], rot\u001b[38;5;241m=\u001b[39mdata\u001b[38;5;241m.\u001b[39mxquat[\u001b[38;5;241m1\u001b[39m:])\n",
      "File \u001b[0;32m~/.local/lib/python3.10/site-packages/mujoco/mjx/_src/forward.py:57\u001b[0m, in \u001b[0;36mnamed_scope.<locals>.wrapper\u001b[0;34m(*args, **kwargs)\u001b[0m\n\u001b[1;32m     54\u001b[0m \u001b[38;5;129m@functools\u001b[39m\u001b[38;5;241m.\u001b[39mwraps(fn)\n\u001b[1;32m     55\u001b[0m \u001b[38;5;28;01mdef\u001b[39;00m \u001b[38;5;21mwrapper\u001b[39m(\u001b[38;5;241m*\u001b[39margs, \u001b[38;5;241m*\u001b[39m\u001b[38;5;241m*\u001b[39mkwargs):\n\u001b[1;32m     56\u001b[0m   \u001b[38;5;28;01mwith\u001b[39;00m jax\u001b[38;5;241m.\u001b[39mnamed_scope(name \u001b[38;5;129;01mor\u001b[39;00m \u001b[38;5;28mgetattr\u001b[39m(fn, \u001b[38;5;124m'\u001b[39m\u001b[38;5;124m__name__\u001b[39m\u001b[38;5;124m'\u001b[39m)):\n\u001b[0;32m---> 57\u001b[0m     res \u001b[38;5;241m=\u001b[39m \u001b[43mfn\u001b[49m\u001b[43m(\u001b[49m\u001b[38;5;241;43m*\u001b[39;49m\u001b[43margs\u001b[49m\u001b[43m,\u001b[49m\u001b[43m \u001b[49m\u001b[38;5;241;43m*\u001b[39;49m\u001b[38;5;241;43m*\u001b[39;49m\u001b[43mkwargs\u001b[49m\u001b[43m)\u001b[49m\n\u001b[1;32m     58\u001b[0m   \u001b[38;5;28;01mreturn\u001b[39;00m res\n",
      "File \u001b[0;32m~/.local/lib/python3.10/site-packages/mujoco/mjx/_src/forward.py:396\u001b[0m, in \u001b[0;36mforward\u001b[0;34m(m, d)\u001b[0m\n\u001b[1;32m    393\u001b[0m \u001b[38;5;129m@named_scope\u001b[39m\n\u001b[1;32m    394\u001b[0m \u001b[38;5;28;01mdef\u001b[39;00m \u001b[38;5;21mforward\u001b[39m(m: Model, d: Data) \u001b[38;5;241m-\u001b[39m\u001b[38;5;241m>\u001b[39m Data:\n\u001b[1;32m    395\u001b[0m \u001b[38;5;250m  \u001b[39m\u001b[38;5;124;03m\"\"\"Forward dynamics.\"\"\"\u001b[39;00m\n\u001b[0;32m--> 396\u001b[0m   d \u001b[38;5;241m=\u001b[39m \u001b[43mfwd_position\u001b[49m\u001b[43m(\u001b[49m\u001b[43mm\u001b[49m\u001b[43m,\u001b[49m\u001b[43m \u001b[49m\u001b[43md\u001b[49m\u001b[43m)\u001b[49m\n\u001b[1;32m    397\u001b[0m   d \u001b[38;5;241m=\u001b[39m sensor\u001b[38;5;241m.\u001b[39msensor_pos(m, d)\n\u001b[1;32m    398\u001b[0m   d \u001b[38;5;241m=\u001b[39m fwd_velocity(m, d)\n",
      "File \u001b[0;32m~/.local/lib/python3.10/site-packages/mujoco/mjx/_src/forward.py:57\u001b[0m, in \u001b[0;36mnamed_scope.<locals>.wrapper\u001b[0;34m(*args, **kwargs)\u001b[0m\n\u001b[1;32m     54\u001b[0m \u001b[38;5;129m@functools\u001b[39m\u001b[38;5;241m.\u001b[39mwraps(fn)\n\u001b[1;32m     55\u001b[0m \u001b[38;5;28;01mdef\u001b[39;00m \u001b[38;5;21mwrapper\u001b[39m(\u001b[38;5;241m*\u001b[39margs, \u001b[38;5;241m*\u001b[39m\u001b[38;5;241m*\u001b[39mkwargs):\n\u001b[1;32m     56\u001b[0m   \u001b[38;5;28;01mwith\u001b[39;00m jax\u001b[38;5;241m.\u001b[39mnamed_scope(name \u001b[38;5;129;01mor\u001b[39;00m \u001b[38;5;28mgetattr\u001b[39m(fn, \u001b[38;5;124m'\u001b[39m\u001b[38;5;124m__name__\u001b[39m\u001b[38;5;124m'\u001b[39m)):\n\u001b[0;32m---> 57\u001b[0m     res \u001b[38;5;241m=\u001b[39m \u001b[43mfn\u001b[49m\u001b[43m(\u001b[49m\u001b[38;5;241;43m*\u001b[39;49m\u001b[43margs\u001b[49m\u001b[43m,\u001b[49m\u001b[43m \u001b[49m\u001b[38;5;241;43m*\u001b[39;49m\u001b[38;5;241;43m*\u001b[39;49m\u001b[43mkwargs\u001b[49m\u001b[43m)\u001b[49m\n\u001b[1;32m     58\u001b[0m   \u001b[38;5;28;01mreturn\u001b[39;00m res\n",
      "File \u001b[0;32m~/.local/lib/python3.10/site-packages/mujoco/mjx/_src/forward.py:72\u001b[0m, in \u001b[0;36mfwd_position\u001b[0;34m(m, d)\u001b[0m\n\u001b[1;32m     70\u001b[0m d \u001b[38;5;241m=\u001b[39m smooth\u001b[38;5;241m.\u001b[39mtendon(m, d)\n\u001b[1;32m     71\u001b[0m d \u001b[38;5;241m=\u001b[39m smooth\u001b[38;5;241m.\u001b[39mcrb(m, d)\n\u001b[0;32m---> 72\u001b[0m d \u001b[38;5;241m=\u001b[39m \u001b[43msmooth\u001b[49m\u001b[38;5;241;43m.\u001b[39;49m\u001b[43mfactor_m\u001b[49m\u001b[43m(\u001b[49m\u001b[43mm\u001b[49m\u001b[43m,\u001b[49m\u001b[43m \u001b[49m\u001b[43md\u001b[49m\u001b[43m)\u001b[49m\n\u001b[1;32m     73\u001b[0m d \u001b[38;5;241m=\u001b[39m collision_driver\u001b[38;5;241m.\u001b[39mcollision(m, d)\n\u001b[1;32m     74\u001b[0m d \u001b[38;5;241m=\u001b[39m constraint\u001b[38;5;241m.\u001b[39mmake_constraint(m, d)\n",
      "File \u001b[0;32m~/.local/lib/python3.10/site-packages/mujoco/mjx/_src/smooth.py:304\u001b[0m, in \u001b[0;36mfactor_m\u001b[0;34m(m, d)\u001b[0m\n\u001b[1;32m    301\u001b[0m \u001b[38;5;250m\u001b[39m\u001b[38;5;124;03m\"\"\"Gets factorizaton of inertia-like matrix M, assumed spd.\"\"\"\u001b[39;00m\n\u001b[1;32m    303\u001b[0m \u001b[38;5;28;01mif\u001b[39;00m \u001b[38;5;129;01mnot\u001b[39;00m support\u001b[38;5;241m.\u001b[39mis_sparse(m):\n\u001b[0;32m--> 304\u001b[0m   qh, _ \u001b[38;5;241m=\u001b[39m \u001b[43mjax\u001b[49m\u001b[38;5;241;43m.\u001b[39;49m\u001b[43mscipy\u001b[49m\u001b[38;5;241;43m.\u001b[39;49m\u001b[43mlinalg\u001b[49m\u001b[38;5;241;43m.\u001b[39;49m\u001b[43mcho_factor\u001b[49m\u001b[43m(\u001b[49m\u001b[43md\u001b[49m\u001b[38;5;241;43m.\u001b[39;49m\u001b[43mqM\u001b[49m\u001b[43m)\u001b[49m\n\u001b[1;32m    305\u001b[0m   d \u001b[38;5;241m=\u001b[39m d\u001b[38;5;241m.\u001b[39mreplace(qLD\u001b[38;5;241m=\u001b[39mqh)\n\u001b[1;32m    306\u001b[0m   \u001b[38;5;28;01mreturn\u001b[39;00m d\n",
      "File \u001b[0;32m~/.local/lib/python3.10/site-packages/jax/_src/scipy/linalg.py:154\u001b[0m, in \u001b[0;36mcho_factor\u001b[0;34m(***failed resolving arguments***)\u001b[0m\n\u001b[1;32m    111\u001b[0m \u001b[38;5;250m\u001b[39m\u001b[38;5;124;03m\"\"\"Factorization for Cholesky-based linear solves\u001b[39;00m\n\u001b[1;32m    112\u001b[0m \n\u001b[1;32m    113\u001b[0m \u001b[38;5;124;03mJAX implementation of :func:`scipy.linalg.cho_factor`. This function returns\u001b[39;00m\n\u001b[0;32m   (...)\u001b[0m\n\u001b[1;32m    151\u001b[0m \u001b[38;5;124;03m  Array(True, dtype=bool)\u001b[39;00m\n\u001b[1;32m    152\u001b[0m \u001b[38;5;124;03m\"\"\"\u001b[39;00m\n\u001b[1;32m    153\u001b[0m \u001b[38;5;28;01mdel\u001b[39;00m overwrite_a, check_finite  \u001b[38;5;66;03m# Unused\u001b[39;00m\n\u001b[0;32m--> 154\u001b[0m \u001b[38;5;28;01mreturn\u001b[39;00m (\u001b[43mcholesky\u001b[49m\u001b[43m(\u001b[49m\u001b[43ma\u001b[49m\u001b[43m,\u001b[49m\u001b[43m \u001b[49m\u001b[43mlower\u001b[49m\u001b[38;5;241;43m=\u001b[39;49m\u001b[43mlower\u001b[49m\u001b[43m)\u001b[49m, lower)\n",
      "File \u001b[0;32m~/.local/lib/python3.10/site-packages/jax/_src/scipy/linalg.py:106\u001b[0m, in \u001b[0;36mcholesky\u001b[0;34m(***failed resolving arguments***)\u001b[0m\n\u001b[1;32m     51\u001b[0m \u001b[38;5;250m\u001b[39m\u001b[38;5;124;03m\"\"\"Compute the Cholesky decomposition of a matrix.\u001b[39;00m\n\u001b[1;32m     52\u001b[0m \n\u001b[1;32m     53\u001b[0m \u001b[38;5;124;03mJAX implementation of :func:`scipy.linalg.cholesky`.\u001b[39;00m\n\u001b[0;32m   (...)\u001b[0m\n\u001b[1;32m    103\u001b[0m \u001b[38;5;124;03m  Array(True, dtype=bool)\u001b[39;00m\n\u001b[1;32m    104\u001b[0m \u001b[38;5;124;03m\"\"\"\u001b[39;00m\n\u001b[1;32m    105\u001b[0m \u001b[38;5;28;01mdel\u001b[39;00m overwrite_a, check_finite  \u001b[38;5;66;03m# Unused\u001b[39;00m\n\u001b[0;32m--> 106\u001b[0m \u001b[38;5;28;01mreturn\u001b[39;00m \u001b[43m_cholesky\u001b[49m\u001b[43m(\u001b[49m\u001b[43ma\u001b[49m\u001b[43m,\u001b[49m\u001b[43m \u001b[49m\u001b[43mlower\u001b[49m\u001b[43m)\u001b[49m\n",
      "    \u001b[0;31m[... skipping hidden 16 frame]\u001b[0m\n",
      "File \u001b[0;32m~/.local/lib/python3.10/site-packages/jax/_src/compiler.py:267\u001b[0m, in \u001b[0;36mbackend_compile\u001b[0;34m(backend, module, options, host_callbacks)\u001b[0m\n\u001b[1;32m    261\u001b[0m     \u001b[38;5;28;01mreturn\u001b[39;00m backend\u001b[38;5;241m.\u001b[39mcompile(\n\u001b[1;32m    262\u001b[0m         built_c, compile_options\u001b[38;5;241m=\u001b[39moptions, host_callbacks\u001b[38;5;241m=\u001b[39mhost_callbacks\n\u001b[1;32m    263\u001b[0m     )\n\u001b[1;32m    264\u001b[0m   \u001b[38;5;66;03m# Some backends don't have `host_callbacks` option yet\u001b[39;00m\n\u001b[1;32m    265\u001b[0m   \u001b[38;5;66;03m# TODO(sharadmv): remove this fallback when all backends allow `compile`\u001b[39;00m\n\u001b[1;32m    266\u001b[0m   \u001b[38;5;66;03m# to take in `host_callbacks`\u001b[39;00m\n\u001b[0;32m--> 267\u001b[0m   \u001b[38;5;28;01mreturn\u001b[39;00m \u001b[43mbackend\u001b[49m\u001b[38;5;241;43m.\u001b[39;49m\u001b[43mcompile\u001b[49m\u001b[43m(\u001b[49m\u001b[43mbuilt_c\u001b[49m\u001b[43m,\u001b[49m\u001b[43m \u001b[49m\u001b[43mcompile_options\u001b[49m\u001b[38;5;241;43m=\u001b[39;49m\u001b[43moptions\u001b[49m\u001b[43m)\u001b[49m\n\u001b[1;32m    268\u001b[0m \u001b[38;5;28;01mexcept\u001b[39;00m xc\u001b[38;5;241m.\u001b[39mXlaRuntimeError \u001b[38;5;28;01mas\u001b[39;00m e:\n\u001b[1;32m    269\u001b[0m   \u001b[38;5;28;01mfor\u001b[39;00m error_handler \u001b[38;5;129;01min\u001b[39;00m _XLA_RUNTIME_ERROR_HANDLERS:\n",
      "\u001b[0;31mXlaRuntimeError\u001b[0m: INTERNAL: cuSolver internal error"
     ]
    }
   ],
   "source": [
    "import brax\n",
    "import jax\n",
    "import jax.numpy as jnp\n",
    "from brax.envs import create\n",
    "\n",
    "# Create the HalfCheetah environment\n",
    "env = create(env_name='ant', debug=True, backend='mjx')\n",
    "key = jax.random.PRNGKey(0)  # Initialize the random key\n",
    "state = env.reset(key)\n",
    "\n",
    "# Run a simple loop with random actions\n",
    "for _ in range(100):\n",
    "    key, subkey = jax.random.split(key)\n",
    "    action = jax.random.uniform(subkey, shape=(env.action_size,), minval=-1.0, maxval=1.0)\n",
    "    state = env.step(state, action)\n",
    "    # print(f\"Position: {state.qp.pos}, Velocity: {state.qp.vel}, Reward: {state.reward}\")\n",
    "    print(state.pipeline_state.contact)\n",
    "    break\n",
    "# You can access more details about the environment\n",
    "print(\"Observation size:\", env.observation_size)\n",
    "print(\"Action size:\", env.action_size)\n"
   ]
  },
  {
   "cell_type": "code",
   "execution_count": 20,
   "metadata": {},
   "outputs": [
    {
     "data": {
      "text/plain": [
       "18"
      ]
     },
     "execution_count": 20,
     "metadata": {},
     "output_type": "execute_result"
    }
   ],
   "source": [
    "env.sys.ngeom"
   ]
  },
  {
   "cell_type": "code",
   "execution_count": 12,
   "metadata": {},
   "outputs": [
    {
     "data": {
      "text/plain": [
       "dict_keys(['first_obs', 'first_pipeline_state', 'steps', 'truncation'])"
      ]
     },
     "execution_count": 12,
     "metadata": {},
     "output_type": "execute_result"
    }
   ],
   "source": [
    "state.info.keys()"
   ]
  },
  {
   "cell_type": "code",
   "execution_count": 13,
   "metadata": {},
   "outputs": [
    {
     "data": {
      "text/plain": [
       "<module 'brax' from '/home/nazim/.local/lib/python3.10/site-packages/brax/__init__.py'>"
      ]
     },
     "execution_count": 13,
     "metadata": {},
     "output_type": "execute_result"
    }
   ],
   "source": [
    "brax"
   ]
  },
  {
   "cell_type": "code",
   "execution_count": 10,
   "metadata": {},
   "outputs": [
    {
     "data": {
      "text/plain": [
       "['dist',\n",
       " 'pos',\n",
       " 'frame',\n",
       " 'includemargin',\n",
       " 'friction',\n",
       " 'solref',\n",
       " 'solreffriction',\n",
       " 'solimp',\n",
       " 'dim',\n",
       " 'geom1',\n",
       " 'geom2',\n",
       " 'geom',\n",
       " 'efc_address',\n",
       " 'link_idx',\n",
       " 'elasticity',\n",
       " '__module__',\n",
       " '__annotations__',\n",
       " '__doc__',\n",
       " '__dataclass_params__',\n",
       " '__dataclass_fields__',\n",
       " '__init__',\n",
       " '__repr__',\n",
       " '__eq__',\n",
       " '__setattr__',\n",
       " '__delattr__',\n",
       " '__hash__',\n",
       " '__match_args__',\n",
       " 'replace',\n",
       " '__init_subclass__',\n",
       " 'fields',\n",
       " 'tree_replace',\n",
       " '__dict__',\n",
       " '__weakref__',\n",
       " '__new__',\n",
       " '__str__',\n",
       " '__getattribute__',\n",
       " '__lt__',\n",
       " '__le__',\n",
       " '__ne__',\n",
       " '__gt__',\n",
       " '__ge__',\n",
       " '__reduce_ex__',\n",
       " '__reduce__',\n",
       " '__subclasshook__',\n",
       " '__format__',\n",
       " '__sizeof__',\n",
       " '__dir__',\n",
       " '__class__',\n",
       " '__add__',\n",
       " '__sub__',\n",
       " '__mul__',\n",
       " '__neg__',\n",
       " '__truediv__',\n",
       " 'reshape',\n",
       " 'select',\n",
       " 'slice',\n",
       " 'take',\n",
       " 'concatenate',\n",
       " 'index_set',\n",
       " 'index_sum',\n",
       " 'vmap',\n",
       " 'T',\n",
       " '_flax_dataclass']"
      ]
     },
     "execution_count": 10,
     "metadata": {},
     "output_type": "execute_result"
    }
   ],
   "source": [
    "state.pipeline_state.contact.__dir__()"
   ]
  },
  {
   "cell_type": "code",
   "execution_count": 5,
   "metadata": {},
   "outputs": [
    {
     "name": "stdout",
     "output_type": "stream",
     "text": [
      "None\n",
      "None\n",
      "None\n",
      "None\n",
      "None\n",
      "None\n",
      "None\n",
      "None\n",
      "None\n",
      "None\n",
      "None\n",
      "None\n",
      "None\n",
      "None\n",
      "None\n",
      "None\n",
      "None\n",
      "None\n",
      "None\n",
      "None\n",
      "None\n",
      "None\n",
      "None\n",
      "None\n",
      "None\n",
      "None\n",
      "None\n",
      "None\n",
      "None\n",
      "None\n",
      "None\n",
      "None\n",
      "None\n",
      "None\n",
      "None\n",
      "None\n",
      "None\n",
      "None\n",
      "None\n",
      "None\n",
      "None\n",
      "None\n",
      "None\n",
      "None\n",
      "None\n",
      "None\n",
      "None\n",
      "None\n",
      "None\n",
      "None\n",
      "None\n",
      "None\n",
      "None\n",
      "None\n",
      "None\n",
      "None\n",
      "None\n",
      "None\n",
      "None\n",
      "None\n",
      "None\n",
      "None\n",
      "None\n",
      "None\n",
      "None\n",
      "None\n",
      "None\n",
      "None\n",
      "None\n",
      "None\n",
      "None\n",
      "None\n",
      "None\n",
      "None\n",
      "None\n",
      "None\n",
      "None\n",
      "None\n",
      "None\n",
      "None\n",
      "None\n",
      "None\n",
      "None\n",
      "None\n",
      "None\n",
      "None\n",
      "None\n",
      "None\n",
      "None\n",
      "None\n",
      "None\n",
      "None\n",
      "None\n",
      "None\n",
      "None\n",
      "None\n",
      "None\n",
      "None\n",
      "None\n",
      "None\n",
      "Observation size: 17\n",
      "Action size: 6\n"
     ]
    }
   ],
   "source": [
    "import brax\n",
    "import jax\n",
    "import jax.numpy as jnp\n",
    "from brax.envs import create\n",
    "\n",
    "# Create the HalfCheetah environment\n",
    "env = create(env_name='halfcheetah')\n",
    "key = jax.random.PRNGKey(0)  # Initialize the random key\n",
    "state = env.reset(key)\n",
    "\n",
    "# JIT compile the step function for faster performance\n",
    "jit_step = jax.jit(env.step)\n"
   ]
  },
  {
   "cell_type": "code",
   "execution_count": 8,
   "metadata": {},
   "outputs": [
    {
     "name": "stdout",
     "output_type": "stream",
     "text": [
      "Observation size: 17\n",
      "Action size: 6\n"
     ]
    }
   ],
   "source": [
    "\n",
    "# Run a simple loop with random actions\n",
    "for _ in range(1000):\n",
    "    key, subkey = jax.random.split(key)\n",
    "    action = jax.random.uniform(subkey, shape=(env.action_size,), minval=-1.0, maxval=1.0)\n",
    "    state = jit_step(state, action)  # Use the JIT-compiled step\n",
    "    # print(f\"Position: {state.qp.pos}, Velocity: {state.qp.vel}, Reward: {state.reward}\")\n",
    "    # print(state.pipeline_state.contact)\n",
    "\n",
    "# You can access more details about the environment\n",
    "print(\"Observation size:\", env.observation_size)\n",
    "print(\"Action size:\", env.action_size)\n"
   ]
  },
  {
   "cell_type": "code",
   "execution_count": 3,
   "metadata": {},
   "outputs": [
    {
     "data": {
      "text/plain": [
       "array([[ -0.10528024,   0.85361652,  -0.30795678, ...,   3.77239866,\n",
       "        -17.20474988,  13.56826719],\n",
       "       [ -0.5404349 ,   3.33156089,   0.08875557, ...,   9.44116568,\n",
       "         -4.96446806,  -0.87808777],\n",
       "       [  0.05814471,   0.08896324,   0.1109116 , ...,  -6.81672797,\n",
       "          2.49000965,   2.3275792 ],\n",
       "       ...,\n",
       "       [ -0.09578597,   0.20662664,  -0.39879245, ...,  -0.54758868,\n",
       "         -3.07707887,  -4.07165926],\n",
       "       [ -0.131607  ,   0.14488677,  -0.34199292, ...,  10.35181668,\n",
       "        -13.33417952,  -3.41434841],\n",
       "       [ -0.57572957,   3.30456687,   0.26041024, ...,   9.22364236,\n",
       "         -9.313844  ,   3.91076384]])"
      ]
     },
     "execution_count": 3,
     "metadata": {},
     "output_type": "execute_result"
    }
   ],
   "source": [
    "obs"
   ]
  },
  {
   "cell_type": "code",
   "execution_count": 1,
   "metadata": {},
   "outputs": [
    {
     "name": "stderr",
     "output_type": "stream",
     "text": [
      "  0%|          | 0/1000 [00:00<?, ?it/s]/home/nazim/.local/lib/python3.10/site-packages/gym/utils/passive_env_checker.py:233: DeprecationWarning: `np.bool8` is a deprecated alias for `np.bool_`.  (Deprecated NumPy 1.24)\n",
      "  if not isinstance(terminated, (bool, np.bool8)):\n",
      " 94%|█████████▎| 936/1000 [00:02<00:00, 320.94it/s]\n"
     ]
    },
    {
     "ename": "KeyboardInterrupt",
     "evalue": "",
     "output_type": "error",
     "traceback": [
      "\u001b[0;31m---------------------------------------------------------------------------\u001b[0m",
      "\u001b[0;31mKeyboardInterrupt\u001b[0m                         Traceback (most recent call last)",
      "Cell \u001b[0;32mIn[1], line 17\u001b[0m\n\u001b[1;32m     14\u001b[0m actions \u001b[38;5;241m=\u001b[39m np\u001b[38;5;241m.\u001b[39marray([env\u001b[38;5;241m.\u001b[39msingle_action_space\u001b[38;5;241m.\u001b[39msample() \u001b[38;5;28;01mfor\u001b[39;00m _ \u001b[38;5;129;01min\u001b[39;00m \u001b[38;5;28mrange\u001b[39m(env\u001b[38;5;241m.\u001b[39mnum_envs)])\n\u001b[1;32m     16\u001b[0m \u001b[38;5;66;03m# Step through the environments\u001b[39;00m\n\u001b[0;32m---> 17\u001b[0m obs, rewards, terminated, truncated, infos \u001b[38;5;241m=\u001b[39m \u001b[43menv\u001b[49m\u001b[38;5;241;43m.\u001b[39;49m\u001b[43mstep\u001b[49m\u001b[43m(\u001b[49m\u001b[43mactions\u001b[49m\u001b[43m)\u001b[49m\n\u001b[1;32m     19\u001b[0m \u001b[38;5;66;03m# print(env.envs[0].data.contact.dist)\u001b[39;00m\n\u001b[1;32m     20\u001b[0m \u001b[38;5;66;03m# print(env.envs[0].data.contact)\u001b[39;00m\n\u001b[1;32m     21\u001b[0m \u001b[38;5;66;03m# print('\\n\\n\\n')\u001b[39;00m\n",
      "File \u001b[0;32m~/.local/lib/python3.10/site-packages/gym/vector/vector_env.py:137\u001b[0m, in \u001b[0;36mVectorEnv.step\u001b[0;34m(self, actions)\u001b[0m\n\u001b[1;32m    128\u001b[0m \u001b[38;5;250m\u001b[39m\u001b[38;5;124;03m\"\"\"Take an action for each parallel environment.\u001b[39;00m\n\u001b[1;32m    129\u001b[0m \n\u001b[1;32m    130\u001b[0m \u001b[38;5;124;03mArgs:\u001b[39;00m\n\u001b[0;32m   (...)\u001b[0m\n\u001b[1;32m    134\u001b[0m \u001b[38;5;124;03m    Batch of (observations, rewards, terminated, truncated, infos) or (observations, rewards, dones, infos)\u001b[39;00m\n\u001b[1;32m    135\u001b[0m \u001b[38;5;124;03m\"\"\"\u001b[39;00m\n\u001b[1;32m    136\u001b[0m \u001b[38;5;28mself\u001b[39m\u001b[38;5;241m.\u001b[39mstep_async(actions)\n\u001b[0;32m--> 137\u001b[0m \u001b[38;5;28;01mreturn\u001b[39;00m \u001b[38;5;28;43mself\u001b[39;49m\u001b[38;5;241;43m.\u001b[39;49m\u001b[43mstep_wait\u001b[49m\u001b[43m(\u001b[49m\u001b[43m)\u001b[49m\n",
      "File \u001b[0;32m~/.local/lib/python3.10/site-packages/gym/vector/sync_vector_env.py:150\u001b[0m, in \u001b[0;36mSyncVectorEnv.step_wait\u001b[0;34m(self)\u001b[0m\n\u001b[1;32m    141\u001b[0m observations, infos \u001b[38;5;241m=\u001b[39m [], {}\n\u001b[1;32m    142\u001b[0m \u001b[38;5;28;01mfor\u001b[39;00m i, (env, action) \u001b[38;5;129;01min\u001b[39;00m \u001b[38;5;28menumerate\u001b[39m(\u001b[38;5;28mzip\u001b[39m(\u001b[38;5;28mself\u001b[39m\u001b[38;5;241m.\u001b[39menvs, \u001b[38;5;28mself\u001b[39m\u001b[38;5;241m.\u001b[39m_actions)):\n\u001b[1;32m    144\u001b[0m     (\n\u001b[1;32m    145\u001b[0m         observation,\n\u001b[1;32m    146\u001b[0m         \u001b[38;5;28mself\u001b[39m\u001b[38;5;241m.\u001b[39m_rewards[i],\n\u001b[1;32m    147\u001b[0m         \u001b[38;5;28mself\u001b[39m\u001b[38;5;241m.\u001b[39m_terminateds[i],\n\u001b[1;32m    148\u001b[0m         \u001b[38;5;28mself\u001b[39m\u001b[38;5;241m.\u001b[39m_truncateds[i],\n\u001b[1;32m    149\u001b[0m         info,\n\u001b[0;32m--> 150\u001b[0m     ) \u001b[38;5;241m=\u001b[39m \u001b[43menv\u001b[49m\u001b[38;5;241;43m.\u001b[39;49m\u001b[43mstep\u001b[49m\u001b[43m(\u001b[49m\u001b[43maction\u001b[49m\u001b[43m)\u001b[49m\n\u001b[1;32m    152\u001b[0m     \u001b[38;5;28;01mif\u001b[39;00m \u001b[38;5;28mself\u001b[39m\u001b[38;5;241m.\u001b[39m_terminateds[i] \u001b[38;5;129;01mor\u001b[39;00m \u001b[38;5;28mself\u001b[39m\u001b[38;5;241m.\u001b[39m_truncateds[i]:\n\u001b[1;32m    153\u001b[0m         old_observation, old_info \u001b[38;5;241m=\u001b[39m observation, info\n",
      "File \u001b[0;32m~/.local/lib/python3.10/site-packages/gym/wrappers/time_limit.py:50\u001b[0m, in \u001b[0;36mTimeLimit.step\u001b[0;34m(self, action)\u001b[0m\n\u001b[1;32m     39\u001b[0m \u001b[38;5;28;01mdef\u001b[39;00m \u001b[38;5;21mstep\u001b[39m(\u001b[38;5;28mself\u001b[39m, action):\n\u001b[1;32m     40\u001b[0m \u001b[38;5;250m    \u001b[39m\u001b[38;5;124;03m\"\"\"Steps through the environment and if the number of steps elapsed exceeds ``max_episode_steps`` then truncate.\u001b[39;00m\n\u001b[1;32m     41\u001b[0m \n\u001b[1;32m     42\u001b[0m \u001b[38;5;124;03m    Args:\u001b[39;00m\n\u001b[0;32m   (...)\u001b[0m\n\u001b[1;32m     48\u001b[0m \n\u001b[1;32m     49\u001b[0m \u001b[38;5;124;03m    \"\"\"\u001b[39;00m\n\u001b[0;32m---> 50\u001b[0m     observation, reward, terminated, truncated, info \u001b[38;5;241m=\u001b[39m \u001b[38;5;28;43mself\u001b[39;49m\u001b[38;5;241;43m.\u001b[39;49m\u001b[43menv\u001b[49m\u001b[38;5;241;43m.\u001b[39;49m\u001b[43mstep\u001b[49m\u001b[43m(\u001b[49m\u001b[43maction\u001b[49m\u001b[43m)\u001b[49m\n\u001b[1;32m     51\u001b[0m     \u001b[38;5;28mself\u001b[39m\u001b[38;5;241m.\u001b[39m_elapsed_steps \u001b[38;5;241m+\u001b[39m\u001b[38;5;241m=\u001b[39m \u001b[38;5;241m1\u001b[39m\n\u001b[1;32m     53\u001b[0m     \u001b[38;5;28;01mif\u001b[39;00m \u001b[38;5;28mself\u001b[39m\u001b[38;5;241m.\u001b[39m_elapsed_steps \u001b[38;5;241m>\u001b[39m\u001b[38;5;241m=\u001b[39m \u001b[38;5;28mself\u001b[39m\u001b[38;5;241m.\u001b[39m_max_episode_steps:\n",
      "File \u001b[0;32m~/.local/lib/python3.10/site-packages/gym/wrappers/order_enforcing.py:37\u001b[0m, in \u001b[0;36mOrderEnforcing.step\u001b[0;34m(self, action)\u001b[0m\n\u001b[1;32m     35\u001b[0m \u001b[38;5;28;01mif\u001b[39;00m \u001b[38;5;129;01mnot\u001b[39;00m \u001b[38;5;28mself\u001b[39m\u001b[38;5;241m.\u001b[39m_has_reset:\n\u001b[1;32m     36\u001b[0m     \u001b[38;5;28;01mraise\u001b[39;00m ResetNeeded(\u001b[38;5;124m\"\u001b[39m\u001b[38;5;124mCannot call env.step() before calling env.reset()\u001b[39m\u001b[38;5;124m\"\u001b[39m)\n\u001b[0;32m---> 37\u001b[0m \u001b[38;5;28;01mreturn\u001b[39;00m \u001b[38;5;28;43mself\u001b[39;49m\u001b[38;5;241;43m.\u001b[39;49m\u001b[43menv\u001b[49m\u001b[38;5;241;43m.\u001b[39;49m\u001b[43mstep\u001b[49m\u001b[43m(\u001b[49m\u001b[43maction\u001b[49m\u001b[43m)\u001b[49m\n",
      "File \u001b[0;32m~/.local/lib/python3.10/site-packages/gym/wrappers/env_checker.py:39\u001b[0m, in \u001b[0;36mPassiveEnvChecker.step\u001b[0;34m(self, action)\u001b[0m\n\u001b[1;32m     37\u001b[0m     \u001b[38;5;28;01mreturn\u001b[39;00m env_step_passive_checker(\u001b[38;5;28mself\u001b[39m\u001b[38;5;241m.\u001b[39menv, action)\n\u001b[1;32m     38\u001b[0m \u001b[38;5;28;01melse\u001b[39;00m:\n\u001b[0;32m---> 39\u001b[0m     \u001b[38;5;28;01mreturn\u001b[39;00m \u001b[38;5;28;43mself\u001b[39;49m\u001b[38;5;241;43m.\u001b[39;49m\u001b[43menv\u001b[49m\u001b[38;5;241;43m.\u001b[39;49m\u001b[43mstep\u001b[49m\u001b[43m(\u001b[49m\u001b[43maction\u001b[49m\u001b[43m)\u001b[49m\n",
      "File \u001b[0;32m~/.local/lib/python3.10/site-packages/gym/envs/mujoco/half_cheetah_v4.py:198\u001b[0m, in \u001b[0;36mHalfCheetahEnv.step\u001b[0;34m(self, action)\u001b[0m\n\u001b[1;32m    194\u001b[0m ctrl_cost \u001b[38;5;241m=\u001b[39m \u001b[38;5;28mself\u001b[39m\u001b[38;5;241m.\u001b[39mcontrol_cost(action)\n\u001b[1;32m    196\u001b[0m forward_reward \u001b[38;5;241m=\u001b[39m \u001b[38;5;28mself\u001b[39m\u001b[38;5;241m.\u001b[39m_forward_reward_weight \u001b[38;5;241m*\u001b[39m x_velocity\n\u001b[0;32m--> 198\u001b[0m observation \u001b[38;5;241m=\u001b[39m \u001b[38;5;28;43mself\u001b[39;49m\u001b[38;5;241;43m.\u001b[39;49m\u001b[43m_get_obs\u001b[49m\u001b[43m(\u001b[49m\u001b[43m)\u001b[49m\n\u001b[1;32m    199\u001b[0m reward \u001b[38;5;241m=\u001b[39m forward_reward \u001b[38;5;241m-\u001b[39m ctrl_cost\n\u001b[1;32m    200\u001b[0m terminated \u001b[38;5;241m=\u001b[39m \u001b[38;5;28;01mFalse\u001b[39;00m\n",
      "File \u001b[0;32m~/.local/lib/python3.10/site-packages/gym/envs/mujoco/half_cheetah_v4.py:214\u001b[0m, in \u001b[0;36mHalfCheetahEnv._get_obs\u001b[0;34m(self)\u001b[0m\n\u001b[1;32m    212\u001b[0m \u001b[38;5;28;01mdef\u001b[39;00m \u001b[38;5;21m_get_obs\u001b[39m(\u001b[38;5;28mself\u001b[39m):\n\u001b[1;32m    213\u001b[0m     position \u001b[38;5;241m=\u001b[39m \u001b[38;5;28mself\u001b[39m\u001b[38;5;241m.\u001b[39mdata\u001b[38;5;241m.\u001b[39mqpos\u001b[38;5;241m.\u001b[39mflat\u001b[38;5;241m.\u001b[39mcopy()\n\u001b[0;32m--> 214\u001b[0m     velocity \u001b[38;5;241m=\u001b[39m \u001b[38;5;28;43mself\u001b[39;49m\u001b[38;5;241;43m.\u001b[39;49m\u001b[43mdata\u001b[49m\u001b[38;5;241;43m.\u001b[39;49m\u001b[43mqvel\u001b[49m\u001b[38;5;241;43m.\u001b[39;49m\u001b[43mflat\u001b[49m\u001b[38;5;241;43m.\u001b[39;49m\u001b[43mcopy\u001b[49m\u001b[43m(\u001b[49m\u001b[43m)\u001b[49m\n\u001b[1;32m    216\u001b[0m     \u001b[38;5;28;01mif\u001b[39;00m \u001b[38;5;28mself\u001b[39m\u001b[38;5;241m.\u001b[39m_exclude_current_positions_from_observation:\n\u001b[1;32m    217\u001b[0m         position \u001b[38;5;241m=\u001b[39m position[\u001b[38;5;241m1\u001b[39m:]\n",
      "\u001b[0;31mKeyboardInterrupt\u001b[0m: "
     ]
    }
   ],
   "source": [
    "# Define the environment creation functions\n",
    "import gym\n",
    "from tqdm import tqdm\n",
    "import numpy as np\n",
    "\n",
    "env_fns = [lambda: gym.make('HalfCheetah-v4', render_mode=\"rgb_array\") for _ in range(64)]\n",
    "\n",
    "# Create the SyncVectorEnv with 8 parallel environments\n",
    "env = gym.vector.SyncVectorEnv(env_fns)\n",
    "obs = env.reset()\n",
    "\n",
    "for _ in tqdm(range(1000)):  # Run for 1000 timesteps\n",
    "    # Sample random actions for each environment instance\n",
    "    actions = np.array([env.single_action_space.sample() for _ in range(env.num_envs)])\n",
    "    \n",
    "    # Step through the environments\n",
    "    obs, rewards, terminated, truncated, infos = env.step(actions)\n",
    "    \n",
    "    # print(env.envs[0].data.contact.dist)\n",
    "    # print(env.envs[0].data.contact)\n",
    "    # print('\\n\\n\\n')\n"
   ]
  },
  {
   "cell_type": "markdown",
   "metadata": {},
   "source": [
    "---"
   ]
  },
  {
   "cell_type": "code",
   "execution_count": 8,
   "metadata": {},
   "outputs": [],
   "source": [
    "import jax\n",
    "import jax.numpy as jnp\n",
    "from brax import envs\n",
    "from brax.io import html\n",
    "\n",
    "# Initialize HalfCheetah environment with 2048 parallel environments\n",
    "num_envs = 256\n",
    "env = envs.create(env_name=\"halfcheetah\", batch_size=num_envs)\n",
    "\n",
    "# JIT-compiled reset function\n",
    "@jax.jit\n",
    "def reset_fn(key):\n",
    "    return env.reset(key)\n",
    "\n",
    "# JIT-compiled step function\n",
    "@jax.jit\n",
    "def step_fn(state, key):\n",
    "    actions = jax.random.uniform(key, (num_envs, env.action_size), minval=-1.0, maxval=1.0)\n",
    "    return env.step(state, actions)\n"
   ]
  },
  {
   "cell_type": "code",
   "execution_count": 9,
   "metadata": {},
   "outputs": [],
   "source": [
    "\n",
    "# Use the reset function to get the initial state\n",
    "key = jax.random.PRNGKey(0)\n",
    "state = reset_fn(key)"
   ]
  },
  {
   "cell_type": "code",
   "execution_count": 10,
   "metadata": {},
   "outputs": [
    {
     "name": "stderr",
     "output_type": "stream",
     "text": [
      "100%|██████████| 1000/1000 [00:22<00:00, 44.06it/s]\n",
      " 57%|█████▋    | 573/1000 [00:09<00:06, 62.58it/s]\n"
     ]
    },
    {
     "ename": "KeyboardInterrupt",
     "evalue": "",
     "output_type": "error",
     "traceback": [
      "\u001b[0;31m---------------------------------------------------------------------------\u001b[0m",
      "\u001b[0;31mKeyboardInterrupt\u001b[0m                         Traceback (most recent call last)",
      "Cell \u001b[0;32mIn[10], line 10\u001b[0m\n\u001b[1;32m      8\u001b[0m     \u001b[38;5;28;01mfor\u001b[39;00m i \u001b[38;5;129;01min\u001b[39;00m tqdm(\u001b[38;5;28mrange\u001b[39m(\u001b[38;5;241m1000\u001b[39m)):\n\u001b[1;32m      9\u001b[0m         key, subkey \u001b[38;5;241m=\u001b[39m jax\u001b[38;5;241m.\u001b[39mrandom\u001b[38;5;241m.\u001b[39msplit(key)\n\u001b[0;32m---> 10\u001b[0m         state \u001b[38;5;241m=\u001b[39m \u001b[43mstep_fn\u001b[49m\u001b[43m(\u001b[49m\u001b[43mstate\u001b[49m\u001b[43m,\u001b[49m\u001b[43m \u001b[49m\u001b[43msubkey\u001b[49m\u001b[43m)\u001b[49m\n\u001b[1;32m     13\u001b[0m \u001b[38;5;66;03m# Rendering one of the environments as HTML\u001b[39;00m\n",
      "File \u001b[0;32m<string>:2\u001b[0m, in \u001b[0;36m__init__\u001b[0;34m(self, pos, rot)\u001b[0m\n",
      "\u001b[0;31mKeyboardInterrupt\u001b[0m: "
     ]
    }
   ],
   "source": [
    "from tqdm import tqdm\n",
    "\n",
    "key = jax.random.PRNGKey(0)\n",
    "# Simulate a few steps in the environment using the JIT-compiled step function\n",
    "for _ in range(100):\n",
    "    key, subkey = jax.random.split(key)\n",
    "    state = reset_fn(subkey)\n",
    "    for i in tqdm(range(1000)):\n",
    "        key, subkey = jax.random.split(key)\n",
    "        state = step_fn(state, subkey)\n",
    "    \n",
    "\n",
    "# Rendering one of the environments as HTML"
   ]
  },
  {
   "cell_type": "code",
   "execution_count": null,
   "metadata": {},
   "outputs": [],
   "source": [
    "html_str = html.render(env.sys, [state.qp[0]])\n",
    "with open(\"halfcheetah_render.html\", \"w\") as f:\n",
    "    f.write(html_str)"
   ]
  },
  {
   "cell_type": "markdown",
   "metadata": {},
   "source": [
    "---"
   ]
  },
  {
   "cell_type": "code",
   "execution_count": 1,
   "metadata": {},
   "outputs": [],
   "source": [
    "#@title Import Brax and some helper modules\n",
    "from IPython.display import clear_output\n",
    "\n",
    "import collections\n",
    "from datetime import datetime\n",
    "import functools\n",
    "import math\n",
    "import os\n",
    "import time\n",
    "from typing import Any, Callable, Dict, Optional, Sequence\n",
    "\n",
    "\n",
    "import brax\n",
    "from brax import envs\n",
    "from brax.envs.wrappers import gym as gym_wrapper\n",
    "from brax.envs.wrappers import torch as torch_wrapper\n",
    "from brax.io import metrics\n",
    "from brax.training.agents.ppo import train as ppo\n",
    "import gym\n",
    "import matplotlib.pyplot as plt\n",
    "import numpy as np\n",
    "import torch\n",
    "from torch import nn\n",
    "from torch import optim\n",
    "import torch.nn.functional as F\n",
    "\n",
    "from tqdm import tqdm\n",
    "\n",
    "device = 'cuda'"
   ]
  },
  {
   "cell_type": "code",
   "execution_count": 111,
   "metadata": {},
   "outputs": [
    {
     "data": {
      "text/plain": [
       "(tensor([[ 0.5765,  0.9968,  0.0263,  0.0492,  0.0580, -0.0198,  1.0140,  0.0597,\n",
       "          -1.0661,  0.0199, -1.0266, -0.0125,  0.9343, -0.3866, -0.0275,  0.1511,\n",
       "          -0.1777, -0.0584,  0.0298, -0.0306,  0.4593, -0.1089, -0.1030, -0.1458,\n",
       "          -0.1245,  0.0432,  0.5491],\n",
       "         [ 0.5128,  0.9944,  0.0328,  0.0342, -0.0947,  0.0898,  0.9476,  0.0073,\n",
       "          -1.0514,  0.0505, -1.0007,  0.0541,  0.9415, -0.0613,  0.0527,  0.6217,\n",
       "          -0.3193, -0.2521,  0.0279, -0.0197, -0.6373,  0.0354,  0.5285,  0.0194,\n",
       "           0.4948,  0.0466, -0.5715],\n",
       "         [ 0.4818,  0.9962, -0.0728,  0.0472, -0.0067, -0.0184,  0.9481, -0.0445,\n",
       "          -0.8858,  0.0174, -0.9227,  0.0694,  1.0113,  0.0144, -0.0587,  0.1422,\n",
       "           0.2087, -0.0264, -0.0165, -0.0639, -0.1278,  0.1359,  0.5828,  0.1500,\n",
       "           0.0246, -0.1773, -0.6507],\n",
       "         [ 0.5547,  0.9977, -0.0413,  0.0503,  0.0171, -0.0052,  0.8757, -0.0125,\n",
       "          -0.9459,  0.0785, -1.0743,  0.0170,  0.8927,  0.1397,  0.1251, -0.3822,\n",
       "           0.0993,  0.0796,  0.0649,  0.0084, -1.1783, -0.0070,  0.2403, -0.0033,\n",
       "           0.6087,  0.0332, -0.3948]], device='cuda:0'),\n",
       " tensor([0.7063, 0.9376, 1.0545, 1.1594], device='cuda:0'),\n",
       " tensor([0., 0., 0., 0.], device='cuda:0'),\n",
       " {'distance_from_origin': tensor([0.5881, 0.5179, 0.4867, 0.5689], device='cuda:0'),\n",
       "  'first_obs': tensor([[ 0.5708,  0.9619,  0.0289,  0.0466,  0.0562, -0.0222,  0.9960,  0.0634,\n",
       "           -1.0565,  0.0262, -1.0173, -0.0121,  0.9142, -0.2543, -0.1589,  0.2415,\n",
       "           -0.1263,  0.0868,  0.0228,  0.0265,  0.1993, -0.1474, -0.0403, -0.2090,\n",
       "           -0.0191, -0.1254,  0.1607],\n",
       "          [ 0.4965,  1.0026,  0.0388,  0.0378, -0.0972,  0.0928,  0.9698,  0.0075,\n",
       "           -1.0640,  0.0498, -1.0177,  0.0531,  0.9637, -0.0786, -0.0042, -0.1765,\n",
       "           -0.0745, -0.0142,  0.0743, -0.0986, -0.0192, -0.0203,  0.0826,  0.0572,\n",
       "            0.0166,  0.0121,  0.0151],\n",
       "          [ 0.4800,  1.0156, -0.0792,  0.0502, -0.0063, -0.0150,  0.9538, -0.0479,\n",
       "           -0.9038,  0.0091, -0.9246,  0.0765,  1.0312,  0.0533, -0.0673,  0.1017,\n",
       "            0.2155, -0.0499, -0.0049, -0.0915, -0.0087,  0.0189, -0.0198,  0.1694,\n",
       "           -0.0931, -0.1103,  0.0101],\n",
       "          [ 0.5633,  1.0692, -0.0458,  0.0503,  0.0158, -0.0043,  0.9173, -0.0095,\n",
       "           -0.9585,  0.0802, -1.0981,  0.0162,  0.9174,  0.0754,  0.0710, -0.0943,\n",
       "           -0.0241,  0.2022,  0.0856,  0.0055,  0.1098, -0.0706, -0.1668, -0.0100,\n",
       "           -0.0130,  0.0269, -0.1665]], device='cuda:0'),\n",
       "  'first_pipeline_state': None,\n",
       "  'forward_reward': tensor([-0.2937, -0.0624,  0.0545,  0.1594], device='cuda:0'),\n",
       "  'reward_contact': tensor([-0., -0., -0., -0.], device='cuda:0'),\n",
       "  'reward_ctrl': tensor([-0., -0., -0., -0.], device='cuda:0'),\n",
       "  'reward_forward': tensor([-0.2937, -0.0624,  0.0545,  0.1594], device='cuda:0'),\n",
       "  'reward_survive': tensor([1., 1., 1., 1.], device='cuda:0'),\n",
       "  'steps': tensor([1., 1., 1., 1.], device='cuda:0'),\n",
       "  'truncation': tensor([0., 0., 0., 0.], device='cuda:0'),\n",
       "  'x_position': tensor([-0.1115,  0.0264, -0.0498, -0.0726], device='cuda:0'),\n",
       "  'x_velocity': tensor([-0.2937, -0.0624,  0.0545,  0.1594], device='cuda:0'),\n",
       "  'y_position': tensor([-0.0329, -0.0676,  0.0476,  0.1035], device='cuda:0'),\n",
       "  'y_velocity': tensor([-0.0924,  0.0236, -0.0709,  0.1149], device='cuda:0')})"
      ]
     },
     "execution_count": 111,
     "metadata": {},
     "output_type": "execute_result"
    }
   ],
   "source": [
    "env = envs.create('ant', batch_size=4, episode_length=1000, backend='spring', debug=True)\n",
    "env = gym_wrapper.VectorGymWrapper(env)\n",
    "# automatically convert between jax ndarrays and torch tensors:\n",
    "env = torch_wrapper.TorchWrapper(env, device=device)\n",
    "\n",
    "# env warmup\n",
    "env.reset()\n",
    "action = torch.zeros(env.action_space.shape).to(device)\n",
    "env.step(action)"
   ]
  },
  {
   "cell_type": "code",
   "execution_count": 112,
   "metadata": {},
   "outputs": [
    {
     "name": "stderr",
     "output_type": "stream",
     "text": [
      "100%|██████████| 1000/1000 [00:06<00:00, 145.14it/s]\n",
      "100%|██████████| 1000/1000 [00:03<00:00, 264.65it/s]\n",
      " 35%|███▌      | 352/1000 [00:01<00:02, 272.80it/s]\n",
      "  0%|          | 2/1000 [00:11<1:39:29,  5.98s/it]\n"
     ]
    },
    {
     "ename": "KeyboardInterrupt",
     "evalue": "",
     "output_type": "error",
     "traceback": [
      "\u001b[0;31m---------------------------------------------------------------------------\u001b[0m",
      "\u001b[0;31mKeyboardInterrupt\u001b[0m                         Traceback (most recent call last)",
      "Cell \u001b[0;32mIn[112], line 8\u001b[0m\n\u001b[1;32m      5\u001b[0m \u001b[38;5;28;01mfor\u001b[39;00m _ \u001b[38;5;129;01min\u001b[39;00m tqdm(\u001b[38;5;28mrange\u001b[39m(\u001b[38;5;241m1000\u001b[39m)):\n\u001b[1;32m      6\u001b[0m     \u001b[38;5;66;03m# action = env.action_space.sample()  # Sample a randsom action\u001b[39;00m\n\u001b[1;32m      7\u001b[0m     action \u001b[38;5;241m=\u001b[39m torch\u001b[38;5;241m.\u001b[39mzeros(env\u001b[38;5;241m.\u001b[39maction_space\u001b[38;5;241m.\u001b[39mshape)\u001b[38;5;241m.\u001b[39mto(device)\n\u001b[0;32m----> 8\u001b[0m     observation, reward, done, _ \u001b[38;5;241m=\u001b[39m \u001b[43menv\u001b[49m\u001b[38;5;241;43m.\u001b[39;49m\u001b[43mstep\u001b[49m\u001b[43m(\u001b[49m\u001b[43maction\u001b[49m\u001b[43m)\u001b[49m  \u001b[38;5;66;03m# Take a step\u001b[39;00m\n\u001b[1;32m      9\u001b[0m     total_reward \u001b[38;5;241m+\u001b[39m\u001b[38;5;241m=\u001b[39m reward\n\u001b[1;32m     11\u001b[0m     \u001b[38;5;66;03m# print(env.env._state.pipeline_state.contact)\u001b[39;00m\n\u001b[1;32m     12\u001b[0m     \u001b[38;5;66;03m# print(env.env._state.pipeline_state.contact.geom2[0])\u001b[39;00m\n",
      "File \u001b[0;32m~/.local/lib/python3.10/site-packages/brax/envs/wrappers/torch.py:43\u001b[0m, in \u001b[0;36mTorchWrapper.step\u001b[0;34m(self, action)\u001b[0m\n\u001b[1;32m     41\u001b[0m obs, reward, done, info \u001b[38;5;241m=\u001b[39m \u001b[38;5;28msuper\u001b[39m()\u001b[38;5;241m.\u001b[39mstep(action)\n\u001b[1;32m     42\u001b[0m obs \u001b[38;5;241m=\u001b[39m torch\u001b[38;5;241m.\u001b[39mjax_to_torch(obs, device\u001b[38;5;241m=\u001b[39m\u001b[38;5;28mself\u001b[39m\u001b[38;5;241m.\u001b[39mdevice)\n\u001b[0;32m---> 43\u001b[0m reward \u001b[38;5;241m=\u001b[39m \u001b[43mtorch\u001b[49m\u001b[38;5;241;43m.\u001b[39;49m\u001b[43mjax_to_torch\u001b[49m\u001b[43m(\u001b[49m\u001b[43mreward\u001b[49m\u001b[43m,\u001b[49m\u001b[43m \u001b[49m\u001b[43mdevice\u001b[49m\u001b[38;5;241;43m=\u001b[39;49m\u001b[38;5;28;43mself\u001b[39;49m\u001b[38;5;241;43m.\u001b[39;49m\u001b[43mdevice\u001b[49m\u001b[43m)\u001b[49m\n\u001b[1;32m     44\u001b[0m done \u001b[38;5;241m=\u001b[39m torch\u001b[38;5;241m.\u001b[39mjax_to_torch(done, device\u001b[38;5;241m=\u001b[39m\u001b[38;5;28mself\u001b[39m\u001b[38;5;241m.\u001b[39mdevice)\n\u001b[1;32m     45\u001b[0m info \u001b[38;5;241m=\u001b[39m torch\u001b[38;5;241m.\u001b[39mjax_to_torch(info, device\u001b[38;5;241m=\u001b[39m\u001b[38;5;28mself\u001b[39m\u001b[38;5;241m.\u001b[39mdevice)\n",
      "File \u001b[0;32m/usr/lib/python3.10/functools.py:889\u001b[0m, in \u001b[0;36msingledispatch.<locals>.wrapper\u001b[0;34m(*args, **kw)\u001b[0m\n\u001b[1;32m    885\u001b[0m \u001b[38;5;28;01mif\u001b[39;00m \u001b[38;5;129;01mnot\u001b[39;00m args:\n\u001b[1;32m    886\u001b[0m     \u001b[38;5;28;01mraise\u001b[39;00m \u001b[38;5;167;01mTypeError\u001b[39;00m(\u001b[38;5;124mf\u001b[39m\u001b[38;5;124m'\u001b[39m\u001b[38;5;132;01m{\u001b[39;00mfuncname\u001b[38;5;132;01m}\u001b[39;00m\u001b[38;5;124m requires at least \u001b[39m\u001b[38;5;124m'\u001b[39m\n\u001b[1;32m    887\u001b[0m                     \u001b[38;5;124m'\u001b[39m\u001b[38;5;124m1 positional argument\u001b[39m\u001b[38;5;124m'\u001b[39m)\n\u001b[0;32m--> 889\u001b[0m \u001b[38;5;28;01mreturn\u001b[39;00m \u001b[43mdispatch\u001b[49m\u001b[43m(\u001b[49m\u001b[43margs\u001b[49m\u001b[43m[\u001b[49m\u001b[38;5;241;43m0\u001b[39;49m\u001b[43m]\u001b[49m\u001b[38;5;241;43m.\u001b[39;49m\u001b[38;5;18;43m__class__\u001b[39;49m\u001b[43m)\u001b[49m\u001b[43m(\u001b[49m\u001b[38;5;241;43m*\u001b[39;49m\u001b[43margs\u001b[49m\u001b[43m,\u001b[49m\u001b[43m \u001b[49m\u001b[38;5;241;43m*\u001b[39;49m\u001b[38;5;241;43m*\u001b[39;49m\u001b[43mkw\u001b[49m\u001b[43m)\u001b[49m\n",
      "File \u001b[0;32m~/.local/lib/python3.10/site-packages/brax/io/torch.py:88\u001b[0m, in \u001b[0;36m_jaxarray_to_tensor\u001b[0;34m(value, device)\u001b[0m\n\u001b[1;32m     83\u001b[0m \u001b[38;5;129m@jax_to_torch\u001b[39m\u001b[38;5;241m.\u001b[39mregister(jax\u001b[38;5;241m.\u001b[39mArray)\n\u001b[1;32m     84\u001b[0m \u001b[38;5;28;01mdef\u001b[39;00m \u001b[38;5;21m_jaxarray_to_tensor\u001b[39m(\n\u001b[1;32m     85\u001b[0m     value: jax\u001b[38;5;241m.\u001b[39mArray, device: Union[Device, \u001b[38;5;28;01mNone\u001b[39;00m] \u001b[38;5;241m=\u001b[39m \u001b[38;5;28;01mNone\u001b[39;00m\n\u001b[1;32m     86\u001b[0m ) \u001b[38;5;241m-\u001b[39m\u001b[38;5;241m>\u001b[39m torch\u001b[38;5;241m.\u001b[39mTensor:\n\u001b[1;32m     87\u001b[0m \u001b[38;5;250m  \u001b[39m\u001b[38;5;124;03m\"\"\"Converts a jax.Array into PyTorch Tensor.\"\"\"\u001b[39;00m\n\u001b[0;32m---> 88\u001b[0m   dpack \u001b[38;5;241m=\u001b[39m jax_dlpack\u001b[38;5;241m.\u001b[39mto_dlpack(\u001b[43mvalue\u001b[49m\u001b[38;5;241;43m.\u001b[39;49m\u001b[43mastype\u001b[49m\u001b[43m(\u001b[49m\u001b[38;5;124;43m\"\u001b[39;49m\u001b[38;5;124;43mfloat32\u001b[39;49m\u001b[38;5;124;43m\"\u001b[39;49m\u001b[43m)\u001b[49m)\n\u001b[1;32m     89\u001b[0m   tensor \u001b[38;5;241m=\u001b[39m torch_dlpack\u001b[38;5;241m.\u001b[39mfrom_dlpack(dpack)\n\u001b[1;32m     90\u001b[0m   \u001b[38;5;28;01mif\u001b[39;00m device:\n",
      "File \u001b[0;32m~/.local/lib/python3.10/site-packages/jax/_src/numpy/array_methods.py:118\u001b[0m, in \u001b[0;36m_astype\u001b[0;34m(self, dtype, copy, device)\u001b[0m\n\u001b[1;32m    109\u001b[0m \u001b[38;5;28;01mdef\u001b[39;00m \u001b[38;5;21m_astype\u001b[39m(\u001b[38;5;28mself\u001b[39m: Array, dtype: DTypeLike \u001b[38;5;241m|\u001b[39m \u001b[38;5;28;01mNone\u001b[39;00m, copy: \u001b[38;5;28mbool\u001b[39m \u001b[38;5;241m=\u001b[39m \u001b[38;5;28;01mFalse\u001b[39;00m,\n\u001b[1;32m    110\u001b[0m             device: xc\u001b[38;5;241m.\u001b[39mDevice \u001b[38;5;241m|\u001b[39m Sharding \u001b[38;5;241m|\u001b[39m \u001b[38;5;28;01mNone\u001b[39;00m \u001b[38;5;241m=\u001b[39m \u001b[38;5;28;01mNone\u001b[39;00m) \u001b[38;5;241m-\u001b[39m\u001b[38;5;241m>\u001b[39m Array:\n\u001b[1;32m    111\u001b[0m \u001b[38;5;250m  \u001b[39m\u001b[38;5;124;03m\"\"\"Copy the array and cast to a specified dtype.\u001b[39;00m\n\u001b[1;32m    112\u001b[0m \n\u001b[1;32m    113\u001b[0m \u001b[38;5;124;03m  This is implemented via :func:`jax.lax.convert_element_type`, which may\u001b[39;00m\n\u001b[0;32m   (...)\u001b[0m\n\u001b[1;32m    116\u001b[0m \u001b[38;5;124;03m  casts are implementation dependent.\u001b[39;00m\n\u001b[1;32m    117\u001b[0m \u001b[38;5;124;03m  \"\"\"\u001b[39;00m\n\u001b[0;32m--> 118\u001b[0m   \u001b[38;5;28;01mreturn\u001b[39;00m \u001b[43mlax_numpy\u001b[49m\u001b[38;5;241;43m.\u001b[39;49m\u001b[43mastype\u001b[49m\u001b[43m(\u001b[49m\u001b[38;5;28;43mself\u001b[39;49m\u001b[43m,\u001b[49m\u001b[43m \u001b[49m\u001b[43mdtype\u001b[49m\u001b[43m,\u001b[49m\u001b[43m \u001b[49m\u001b[43mcopy\u001b[49m\u001b[38;5;241;43m=\u001b[39;49m\u001b[43mcopy\u001b[49m\u001b[43m,\u001b[49m\u001b[43m \u001b[49m\u001b[43mdevice\u001b[49m\u001b[38;5;241;43m=\u001b[39;49m\u001b[43mdevice\u001b[49m\u001b[43m)\u001b[49m\n",
      "File \u001b[0;32m~/.local/lib/python3.10/site-packages/jax/_src/numpy/lax_numpy.py:5488\u001b[0m, in \u001b[0;36mastype\u001b[0;34m(x, dtype, copy, device)\u001b[0m\n\u001b[1;32m   5452\u001b[0m \u001b[38;5;250m\u001b[39m\u001b[38;5;124;03m\"\"\"Convert an array to a specified dtype.\u001b[39;00m\n\u001b[1;32m   5453\u001b[0m \n\u001b[1;32m   5454\u001b[0m \u001b[38;5;124;03mJAX imlementation of :func:`numpy.astype`.\u001b[39;00m\n\u001b[0;32m   (...)\u001b[0m\n\u001b[1;32m   5485\u001b[0m \u001b[38;5;124;03m  Array([0, 0, 1], dtype=int32)\u001b[39;00m\n\u001b[1;32m   5486\u001b[0m \u001b[38;5;124;03m\"\"\"\u001b[39;00m\n\u001b[1;32m   5487\u001b[0m util\u001b[38;5;241m.\u001b[39mcheck_arraylike(\u001b[38;5;124m\"\u001b[39m\u001b[38;5;124mastype\u001b[39m\u001b[38;5;124m\"\u001b[39m, x)\n\u001b[0;32m-> 5488\u001b[0m x_arr \u001b[38;5;241m=\u001b[39m \u001b[43masarray\u001b[49m\u001b[43m(\u001b[49m\u001b[43mx\u001b[49m\u001b[43m)\u001b[49m\n\u001b[1;32m   5490\u001b[0m \u001b[38;5;28;01mif\u001b[39;00m dtype \u001b[38;5;129;01mis\u001b[39;00m \u001b[38;5;28;01mNone\u001b[39;00m:\n\u001b[1;32m   5491\u001b[0m   dtype \u001b[38;5;241m=\u001b[39m dtypes\u001b[38;5;241m.\u001b[39mcanonicalize_dtype(float_)\n",
      "File \u001b[0;32m~/.local/lib/python3.10/site-packages/jax/_src/numpy/lax_numpy.py:5592\u001b[0m, in \u001b[0;36masarray\u001b[0;34m(a, dtype, order, copy, device)\u001b[0m\n\u001b[1;32m   5590\u001b[0m \u001b[38;5;28;01mif\u001b[39;00m dtype \u001b[38;5;129;01mis\u001b[39;00m \u001b[38;5;129;01mnot\u001b[39;00m \u001b[38;5;28;01mNone\u001b[39;00m:\n\u001b[1;32m   5591\u001b[0m   dtype \u001b[38;5;241m=\u001b[39m dtypes\u001b[38;5;241m.\u001b[39mcanonicalize_dtype(dtype, allow_extended_dtype\u001b[38;5;241m=\u001b[39m\u001b[38;5;28;01mTrue\u001b[39;00m)  \u001b[38;5;66;03m# type: ignore[assignment]\u001b[39;00m\n\u001b[0;32m-> 5592\u001b[0m \u001b[38;5;28;01mreturn\u001b[39;00m \u001b[43marray\u001b[49m\u001b[43m(\u001b[49m\u001b[43ma\u001b[49m\u001b[43m,\u001b[49m\u001b[43m \u001b[49m\u001b[43mdtype\u001b[49m\u001b[38;5;241;43m=\u001b[39;49m\u001b[43mdtype\u001b[49m\u001b[43m,\u001b[49m\u001b[43m \u001b[49m\u001b[43mcopy\u001b[49m\u001b[38;5;241;43m=\u001b[39;49m\u001b[38;5;28;43mbool\u001b[39;49m\u001b[43m(\u001b[49m\u001b[43mcopy\u001b[49m\u001b[43m)\u001b[49m\u001b[43m,\u001b[49m\u001b[43m \u001b[49m\u001b[43morder\u001b[49m\u001b[38;5;241;43m=\u001b[39;49m\u001b[43morder\u001b[49m\u001b[43m,\u001b[49m\u001b[43m \u001b[49m\u001b[43mdevice\u001b[49m\u001b[38;5;241;43m=\u001b[39;49m\u001b[43mdevice\u001b[49m\u001b[43m)\u001b[49m\n",
      "File \u001b[0;32m~/.local/lib/python3.10/site-packages/jax/_src/numpy/lax_numpy.py:5426\u001b[0m, in \u001b[0;36marray\u001b[0;34m(object, dtype, copy, order, ndmin, device)\u001b[0m\n\u001b[1;32m   5424\u001b[0m \u001b[38;5;28;01melse\u001b[39;00m:\n\u001b[1;32m   5425\u001b[0m   \u001b[38;5;28;01mraise\u001b[39;00m \u001b[38;5;167;01mTypeError\u001b[39;00m(\u001b[38;5;124mf\u001b[39m\u001b[38;5;124m\"\u001b[39m\u001b[38;5;124mUnexpected input type for array: \u001b[39m\u001b[38;5;132;01m{\u001b[39;00m\u001b[38;5;28mtype\u001b[39m(\u001b[38;5;28mobject\u001b[39m)\u001b[38;5;132;01m}\u001b[39;00m\u001b[38;5;124m\"\u001b[39m)\n\u001b[0;32m-> 5426\u001b[0m out_array: Array \u001b[38;5;241m=\u001b[39m \u001b[43mlax_internal\u001b[49m\u001b[38;5;241;43m.\u001b[39;49m\u001b[43m_convert_element_type\u001b[49m\u001b[43m(\u001b[49m\n\u001b[1;32m   5427\u001b[0m \u001b[43m    \u001b[49m\u001b[43mout\u001b[49m\u001b[43m,\u001b[49m\u001b[43m \u001b[49m\u001b[43mdtype\u001b[49m\u001b[43m,\u001b[49m\u001b[43m \u001b[49m\u001b[43mweak_type\u001b[49m\u001b[38;5;241;43m=\u001b[39;49m\u001b[43mweak_type\u001b[49m\u001b[43m,\u001b[49m\u001b[43m \u001b[49m\u001b[43msharding\u001b[49m\u001b[38;5;241;43m=\u001b[39;49m\u001b[43msharding\u001b[49m\u001b[43m)\u001b[49m\n\u001b[1;32m   5428\u001b[0m \u001b[38;5;28;01mif\u001b[39;00m ndmin \u001b[38;5;241m>\u001b[39m ndim(out_array):\n\u001b[1;32m   5429\u001b[0m   out_array \u001b[38;5;241m=\u001b[39m lax\u001b[38;5;241m.\u001b[39mexpand_dims(out_array, \u001b[38;5;28mrange\u001b[39m(ndmin \u001b[38;5;241m-\u001b[39m ndim(out_array)))\n",
      "File \u001b[0;32m~/.local/lib/python3.10/site-packages/jax/_src/lax/lax.py:557\u001b[0m, in \u001b[0;36m_convert_element_type\u001b[0;34m(operand, new_dtype, weak_type, sharding)\u001b[0m\n\u001b[1;32m    554\u001b[0m     \u001b[38;5;28;01mreturn\u001b[39;00m to_edtype_p\u001b[38;5;241m.\u001b[39mbind(operand, edtype\u001b[38;5;241m=\u001b[39mnew_dtype)\n\u001b[1;32m    555\u001b[0m   \u001b[38;5;28;01mreturn\u001b[39;00m from_edtype_p\u001b[38;5;241m.\u001b[39mbind(operand, dtype\u001b[38;5;241m=\u001b[39mnp\u001b[38;5;241m.\u001b[39mdtype(new_dtype))\n\u001b[0;32m--> 557\u001b[0m new_dtype \u001b[38;5;241m=\u001b[39m type_cast(\u001b[43mDTypeLike\u001b[49m\u001b[43m \u001b[49m\u001b[38;5;241;43m|\u001b[39;49m\u001b[43m \u001b[49m\u001b[38;5;28;43;01mNone\u001b[39;49;00m, new_dtype)\n\u001b[1;32m    559\u001b[0m old_weak_type \u001b[38;5;241m=\u001b[39m dtypes\u001b[38;5;241m.\u001b[39mis_weakly_typed(operand)\n\u001b[1;32m    560\u001b[0m \u001b[38;5;28;01mif\u001b[39;00m new_dtype \u001b[38;5;129;01mis\u001b[39;00m \u001b[38;5;28;01mNone\u001b[39;00m:\n",
      "File \u001b[0;32m/usr/lib/python3.10/typing.py:1041\u001b[0m, in \u001b[0;36m_GenericAlias.__or__\u001b[0;34m(self, right)\u001b[0m\n\u001b[1;32m   1040\u001b[0m \u001b[38;5;28;01mdef\u001b[39;00m \u001b[38;5;21m__or__\u001b[39m(\u001b[38;5;28mself\u001b[39m, right):\n\u001b[0;32m-> 1041\u001b[0m     \u001b[38;5;28;01mreturn\u001b[39;00m \u001b[43mUnion\u001b[49m\u001b[43m[\u001b[49m\u001b[38;5;28;43mself\u001b[39;49m\u001b[43m,\u001b[49m\u001b[43m \u001b[49m\u001b[43mright\u001b[49m\u001b[43m]\u001b[49m\n",
      "File \u001b[0;32m/usr/lib/python3.10/typing.py:309\u001b[0m, in \u001b[0;36m_tp_cache.<locals>.decorator.<locals>.inner\u001b[0;34m(*args, **kwds)\u001b[0m\n\u001b[1;32m    306\u001b[0m \u001b[38;5;129m@functools\u001b[39m\u001b[38;5;241m.\u001b[39mwraps(func)\n\u001b[1;32m    307\u001b[0m \u001b[38;5;28;01mdef\u001b[39;00m \u001b[38;5;21minner\u001b[39m(\u001b[38;5;241m*\u001b[39margs, \u001b[38;5;241m*\u001b[39m\u001b[38;5;241m*\u001b[39mkwds):\n\u001b[1;32m    308\u001b[0m     \u001b[38;5;28;01mtry\u001b[39;00m:\n\u001b[0;32m--> 309\u001b[0m         \u001b[38;5;28;01mreturn\u001b[39;00m \u001b[43mcached\u001b[49m\u001b[43m(\u001b[49m\u001b[38;5;241;43m*\u001b[39;49m\u001b[43margs\u001b[49m\u001b[43m,\u001b[49m\u001b[43m \u001b[49m\u001b[38;5;241;43m*\u001b[39;49m\u001b[38;5;241;43m*\u001b[39;49m\u001b[43mkwds\u001b[49m\u001b[43m)\u001b[49m\n\u001b[1;32m    310\u001b[0m     \u001b[38;5;28;01mexcept\u001b[39;00m \u001b[38;5;167;01mTypeError\u001b[39;00m:\n\u001b[1;32m    311\u001b[0m         \u001b[38;5;28;01mpass\u001b[39;00m  \u001b[38;5;66;03m# All real errors (not unhashable args) are raised below.\u001b[39;00m\n",
      "File \u001b[0;32m/usr/lib/python3.10/typing.py:1248\u001b[0m, in \u001b[0;36m_UnionGenericAlias.__hash__\u001b[0;34m(self)\u001b[0m\n\u001b[1;32m   1247\u001b[0m \u001b[38;5;28;01mdef\u001b[39;00m \u001b[38;5;21m__hash__\u001b[39m(\u001b[38;5;28mself\u001b[39m):\n\u001b[0;32m-> 1248\u001b[0m     \u001b[38;5;28;01mreturn\u001b[39;00m \u001b[38;5;28mhash\u001b[39m(\u001b[38;5;28;43mfrozenset\u001b[39;49m\u001b[43m(\u001b[49m\u001b[38;5;28;43mself\u001b[39;49m\u001b[38;5;241;43m.\u001b[39;49m\u001b[43m__args__\u001b[49m\u001b[43m)\u001b[49m)\n",
      "\u001b[0;31mKeyboardInterrupt\u001b[0m: "
     ]
    }
   ],
   "source": [
    "total_reward = 0\n",
    "\n",
    "\n",
    "for episode in tqdm(range(1000)):\n",
    "    for _ in tqdm(range(1000)):\n",
    "        # action = env.action_space.sample()  # Sample a randsom action\n",
    "        action = torch.zeros(env.action_space.shape).to(device)\n",
    "        observation, reward, done, _ = env.step(action)  # Take a step\n",
    "        total_reward += reward\n",
    "        \n",
    "        # print(env.env._state.pipeline_state.contact)\n",
    "        # print(env.env._state.pipeline_state.contact.geom2[0])\n",
    "        if env.env._state.pipeline_state.contact.geom[..., 0].mean() != 0:\n",
    "            print('wey')"
   ]
  },
  {
   "cell_type": "code",
   "execution_count": 113,
   "metadata": {},
   "outputs": [
    {
     "ename": "AttributeError",
     "evalue": "'Contact' object has no attribute 'penetration'",
     "output_type": "error",
     "traceback": [
      "\u001b[0;31m---------------------------------------------------------------------------\u001b[0m",
      "\u001b[0;31mAttributeError\u001b[0m                            Traceback (most recent call last)",
      "Cell \u001b[0;32mIn[113], line 1\u001b[0m\n\u001b[0;32m----> 1\u001b[0m \u001b[43menv\u001b[49m\u001b[38;5;241;43m.\u001b[39;49m\u001b[43menv\u001b[49m\u001b[38;5;241;43m.\u001b[39;49m\u001b[43m_state\u001b[49m\u001b[38;5;241;43m.\u001b[39;49m\u001b[43mpipeline_state\u001b[49m\u001b[38;5;241;43m.\u001b[39;49m\u001b[43mcontact\u001b[49m\u001b[38;5;241;43m.\u001b[39;49m\u001b[43mpenetration\u001b[49m\n",
      "\u001b[0;31mAttributeError\u001b[0m: 'Contact' object has no attribute 'penetration'"
     ]
    }
   ],
   "source": [
    "env.env._state.pipeline_state.contact.penetration"
   ]
  },
  {
   "cell_type": "code",
   "execution_count": 110,
   "metadata": {},
   "outputs": [
    {
     "data": {
      "text/plain": [
       "['dist',\n",
       " 'pos',\n",
       " 'frame',\n",
       " 'includemargin',\n",
       " 'friction',\n",
       " 'solref',\n",
       " 'solreffriction',\n",
       " 'solimp',\n",
       " 'dim',\n",
       " 'geom1',\n",
       " 'geom2',\n",
       " 'geom',\n",
       " 'efc_address',\n",
       " 'link_idx',\n",
       " 'elasticity',\n",
       " 'replace',\n",
       " 'fields',\n",
       " 'tree_replace',\n",
       " 'reshape',\n",
       " 'select',\n",
       " 'slice',\n",
       " 'take',\n",
       " 'concatenate',\n",
       " 'index_set',\n",
       " 'index_sum',\n",
       " 'vmap',\n",
       " 'T',\n",
       " '_flax_dataclass']"
      ]
     },
     "execution_count": 110,
     "metadata": {},
     "output_type": "execute_result"
    }
   ],
   "source": [
    "[s for s in env.env._state.pipeline_state.contact.__dir__() if not s.startswith('__')]"
   ]
  },
  {
   "cell_type": "code",
   "execution_count": 81,
   "metadata": {},
   "outputs": [
    {
     "data": {
      "text/plain": [
       "Array([2, 2, 3, 3, 5, 5, 6, 6, 8, 8], dtype=int32)"
      ]
     },
     "execution_count": 81,
     "metadata": {},
     "output_type": "execute_result"
    }
   ],
   "source": [
    "env.env._state.pipeline_state.contact.geom2[0]"
   ]
  },
  {
   "cell_type": "code",
   "execution_count": 59,
   "metadata": {},
   "outputs": [
    {
     "data": {
      "text/plain": [
       "tensor([[False, False, False, False, False, False, False, False, False, False,\n",
       "         False, False, False, False, False, False, False],\n",
       "        [False, False, False, False, False, False, False, False, False, False,\n",
       "         False, False, False, False, False, False, False],\n",
       "        [False, False, False, False, False, False, False, False, False, False,\n",
       "         False, False, False, False, False, False, False],\n",
       "        [False, False, False, False, False, False, False, False, False, False,\n",
       "         False, False, False, False, False, False, False]])"
      ]
     },
     "execution_count": 59,
     "metadata": {},
     "output_type": "execute_result"
    }
   ],
   "source": [
    "torch.tensor(np.array(env.env._state.obs)) == observation.cpu()"
   ]
  },
  {
   "cell_type": "code",
   "execution_count": 60,
   "metadata": {},
   "outputs": [
    {
     "data": {
      "text/plain": [
       "tensor([[-4.4236e-01,  3.4409e-02, -1.1064e-01,  7.8540e-01,  7.8534e-01,\n",
       "          2.0917e-01, -1.2007e+00, -1.8114e-02, -1.6354e-03, -3.7683e-03,\n",
       "         -4.6754e-03,  3.1769e-02, -4.5038e-02, -2.7144e-03,  7.6676e-03,\n",
       "         -6.7668e-03, -3.7451e-02],\n",
       "        [-4.4230e-01,  3.4371e-02, -1.1086e-01,  7.8573e-01,  7.8536e-01,\n",
       "          2.0899e-01, -1.2007e+00, -1.8456e-02, -1.4877e-03, -6.0901e-03,\n",
       "         -3.6648e-03,  1.8008e-02, -1.1367e-03, -3.6091e-02,  6.0446e-03,\n",
       "         -4.2902e-03,  5.3367e-02],\n",
       "        [-3.7848e-01,  1.6521e-01, -2.8083e-01,  7.8556e-01, -4.0040e-01,\n",
       "          8.4085e-02, -1.2009e+00, -2.0755e-02,  1.2994e-04,  3.1148e-03,\n",
       "         -1.8267e-02,  1.8970e-02, -1.9552e-04, -2.4140e-04,  1.1868e-02,\n",
       "          2.6825e-02,  4.4525e-02],\n",
       "        [-4.4233e-01,  3.4478e-02, -1.1089e-01,  7.8567e-01,  7.8551e-01,\n",
       "          2.0902e-01, -1.2007e+00, -1.6946e-02, -1.9821e-03, -1.7020e-03,\n",
       "         -3.2149e-04, -1.4609e-02,  2.9595e-02, -3.4078e-04,  3.8172e-03,\n",
       "         -3.4706e-03, -7.2692e-03]])"
      ]
     },
     "execution_count": 60,
     "metadata": {},
     "output_type": "execute_result"
    }
   ],
   "source": [
    "torch.tensor(np.array(env.env._state.obs))"
   ]
  },
  {
   "cell_type": "code",
   "execution_count": 58,
   "metadata": {},
   "outputs": [
    {
     "data": {
      "text/plain": [
       "tensor([[-4.4231e-01,  3.4410e-02, -1.1087e-01,  7.8560e-01,  7.8550e-01,\n",
       "          2.0904e-01, -1.2006e+00, -1.6544e-02, -2.0001e-04,  1.0259e-03,\n",
       "          4.4990e-04, -9.4982e-03,  4.1753e-03,  3.4786e-02,  1.3771e-02,\n",
       "         -7.7763e-03, -3.4121e-02],\n",
       "        [-4.4233e-01,  3.4393e-02, -1.1083e-01,  7.8548e-01,  7.8525e-01,\n",
       "          2.0899e-01, -1.2007e+00, -1.9870e-02, -3.9544e-03, -2.1494e-03,\n",
       "          2.6219e-03, -1.4353e-02,  1.0301e-02,  9.6085e-03, -1.9847e-03,\n",
       "          2.3208e-03,  5.3043e-03],\n",
       "        [-3.7846e-01,  1.6538e-01, -2.8076e-01,  7.8548e-01, -4.0051e-01,\n",
       "          8.3994e-02, -1.2010e+00, -2.3723e-02,  1.5448e-02,  2.7632e-03,\n",
       "          3.4395e-04, -1.1552e-03, -2.1399e-03,  9.3480e-03, -1.6646e-02,\n",
       "          1.3552e-02,  1.2266e-02],\n",
       "        [-4.4233e-01,  3.4386e-02, -1.1074e-01,  7.8542e-01,  7.8540e-01,\n",
       "          2.0888e-01, -1.2007e+00, -1.6546e-02, -1.9111e-03,  2.8851e-03,\n",
       "          1.1574e-02,  1.8289e-02, -2.7436e-02, -8.1760e-03, -1.5469e-02,\n",
       "          7.5260e-03,  5.5460e-02]], device='cuda:0')"
      ]
     },
     "execution_count": 58,
     "metadata": {},
     "output_type": "execute_result"
    }
   ],
   "source": [
    "observation"
   ]
  },
  {
   "cell_type": "markdown",
   "metadata": {},
   "source": [
    "---"
   ]
  },
  {
   "cell_type": "markdown",
   "metadata": {},
   "source": []
  },
  {
   "cell_type": "code",
   "execution_count": 5,
   "metadata": {},
   "outputs": [
    {
     "ename": "AttributeError",
     "evalue": "'System' object has no attribute 'config'",
     "output_type": "error",
     "traceback": [
      "\u001b[0;31m---------------------------------------------------------------------------\u001b[0m",
      "\u001b[0;31mAttributeError\u001b[0m                            Traceback (most recent call last)",
      "Cell \u001b[0;32mIn[5], line 10\u001b[0m\n\u001b[1;32m      8\u001b[0m ENV_NAME \u001b[38;5;241m=\u001b[39m \u001b[38;5;124m\"\u001b[39m\u001b[38;5;124mant\u001b[39m\u001b[38;5;124m\"\u001b[39m\n\u001b[1;32m      9\u001b[0m env \u001b[38;5;241m=\u001b[39m envs\u001b[38;5;241m.\u001b[39mcreate(env_name\u001b[38;5;241m=\u001b[39mENV_NAME)\n\u001b[0;32m---> 10\u001b[0m qd_env \u001b[38;5;241m=\u001b[39m \u001b[43mFeetContactWrapper\u001b[49m\u001b[43m(\u001b[49m\u001b[43menv\u001b[49m\u001b[43m,\u001b[49m\u001b[43m \u001b[49m\u001b[43mENV_NAME\u001b[49m\u001b[43m)\u001b[49m\n\u001b[1;32m     12\u001b[0m state \u001b[38;5;241m=\u001b[39m qd_env\u001b[38;5;241m.\u001b[39mreset(rng\u001b[38;5;241m=\u001b[39mjp\u001b[38;5;241m.\u001b[39mrandom_prngkey(seed\u001b[38;5;241m=\u001b[39m\u001b[38;5;241m0\u001b[39m))\n\u001b[1;32m     13\u001b[0m \u001b[38;5;28;01mfor\u001b[39;00m i \u001b[38;5;129;01min\u001b[39;00m \u001b[38;5;28mrange\u001b[39m(\u001b[38;5;241m10\u001b[39m):\n",
      "File \u001b[0;32m~/.local/lib/python3.10/site-packages/qdax/environments/locomotion_wrappers.py:91\u001b[0m, in \u001b[0;36mFeetContactWrapper.__init__\u001b[0;34m(self, env, env_name)\u001b[0m\n\u001b[1;32m     89\u001b[0m \u001b[38;5;28mself\u001b[39m\u001b[38;5;241m.\u001b[39m_env_name \u001b[38;5;241m=\u001b[39m env_name\n\u001b[1;32m     90\u001b[0m \u001b[38;5;28;01mif\u001b[39;00m \u001b[38;5;28mhasattr\u001b[39m(\u001b[38;5;28mself\u001b[39m\u001b[38;5;241m.\u001b[39menv, \u001b[38;5;124m\"\u001b[39m\u001b[38;5;124msys\u001b[39m\u001b[38;5;124m\"\u001b[39m):\n\u001b[0;32m---> 91\u001b[0m     \u001b[38;5;28mself\u001b[39m\u001b[38;5;241m.\u001b[39menv\u001b[38;5;241m.\u001b[39msys \u001b[38;5;241m=\u001b[39m QDSystem(\u001b[38;5;28;43mself\u001b[39;49m\u001b[38;5;241;43m.\u001b[39;49m\u001b[43menv\u001b[49m\u001b[38;5;241;43m.\u001b[39;49m\u001b[43msys\u001b[49m\u001b[38;5;241;43m.\u001b[39;49m\u001b[43mconfig\u001b[49m)\n\u001b[1;32m     93\u001b[0m \u001b[38;5;28mself\u001b[39m\u001b[38;5;241m.\u001b[39m_feet_contact_idx \u001b[38;5;241m=\u001b[39m jp\u001b[38;5;241m.\u001b[39marray(\n\u001b[1;32m     94\u001b[0m     [env\u001b[38;5;241m.\u001b[39msys\u001b[38;5;241m.\u001b[39mbody\u001b[38;5;241m.\u001b[39mindex\u001b[38;5;241m.\u001b[39mget(name) \u001b[38;5;28;01mfor\u001b[39;00m name \u001b[38;5;129;01min\u001b[39;00m FEET_NAMES[env_name]]\n\u001b[1;32m     95\u001b[0m )\n",
      "\u001b[0;31mAttributeError\u001b[0m: 'System' object has no attribute 'config'"
     ]
    }
   ],
   "source": [
    "from brax import envs\n",
    "import jax.numpy as jp\n",
    "from qdax.environments import FeetContactWrapper\n",
    "from qdax import environments\n",
    "\n",
    "\n",
    "# choose in [\"ant\", \"walker2d\", \"hopper\", \"halfcheetah\"]\n",
    "ENV_NAME = \"ant\"\n",
    "env = envs.create(env_name=ENV_NAME)\n",
    "qd_env = FeetContactWrapper(env, ENV_NAME)\n",
    "\n",
    "state = qd_env.reset(rng=jp.random_prngkey(seed=0))\n",
    "for i in range(10):\n",
    "    action = jp.zeros((qd_env.action_size,))\n",
    "    state = qd_env.step(state, action)\n",
    "\n",
    "    # retrieve feet contact\n",
    "    feet_contact = state.info[\"state_descriptor\"]\n",
    "\n",
    "    # do whatever you want with feet_contact\n",
    "    print(f\"Feet contact : {feet_contact}\")"
   ]
  },
  {
   "cell_type": "code",
   "execution_count": 6,
   "metadata": {},
   "outputs": [],
   "source": [
    "brax_env = environments.create(env_name=\"halfcheetah_uni\")"
   ]
  },
  {
   "cell_type": "code",
   "execution_count": 13,
   "metadata": {},
   "outputs": [
    {
     "data": {
      "text/plain": [
       "<brax.v1.envs.half_cheetah.Halfcheetah at 0x7627d12aa620>"
      ]
     },
     "execution_count": 13,
     "metadata": {},
     "output_type": "execute_result"
    }
   ],
   "source": [
    "brax_env.env.env.env.env"
   ]
  }
 ],
 "metadata": {
  "kernelspec": {
   "display_name": "Python 3",
   "language": "python",
   "name": "python3"
  },
  "language_info": {
   "codemirror_mode": {
    "name": "ipython",
    "version": 3
   },
   "file_extension": ".py",
   "mimetype": "text/x-python",
   "name": "python",
   "nbconvert_exporter": "python",
   "pygments_lexer": "ipython3",
   "version": "3.10.12"
  }
 },
 "nbformat": 4,
 "nbformat_minor": 2
}
